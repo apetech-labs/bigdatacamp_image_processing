{
 "cells": [
  {
   "cell_type": "code",
   "execution_count": null,
   "id": "eb861e83",
   "metadata": {},
   "outputs": [],
   "source": [
    "import matplotlib.pyplot as plt\n",
    "import numpy as np"
   ]
  },
  {
   "cell_type": "code",
   "execution_count": null,
   "id": "4d585c78",
   "metadata": {},
   "outputs": [],
   "source": [
    "path ='../data/img/dog1.jpg'"
   ]
  },
  {
   "cell_type": "code",
   "execution_count": null,
   "id": "fab631f2",
   "metadata": {},
   "outputs": [],
   "source": [
    "img = plt.imread(path)"
   ]
  },
  {
   "cell_type": "code",
   "execution_count": null,
   "id": "6d5846c7",
   "metadata": {},
   "outputs": [],
   "source": [
    "type(img), img.shape, img.dtype # 0~255"
   ]
  },
  {
   "cell_type": "code",
   "execution_count": null,
   "id": "e3d51113",
   "metadata": {},
   "outputs": [],
   "source": [
    "img[0, 0, :]"
   ]
  },
  {
   "cell_type": "code",
   "execution_count": null,
   "id": "46dd7119",
   "metadata": {},
   "outputs": [],
   "source": [
    "plt.imshow(img)\n",
    "plt.show()"
   ]
  },
  {
   "cell_type": "markdown",
   "id": "ec163347",
   "metadata": {},
   "source": [
    "# Crop"
   ]
  },
  {
   "cell_type": "code",
   "execution_count": null,
   "id": "e07db03f",
   "metadata": {},
   "outputs": [],
   "source": [
    "crop_img = img[:, 1000:, :]"
   ]
  },
  {
   "cell_type": "code",
   "execution_count": null,
   "id": "65b0e8be",
   "metadata": {},
   "outputs": [],
   "source": [
    "plt.imshow(crop_img)\n",
    "plt.show()"
   ]
  },
  {
   "cell_type": "code",
   "execution_count": null,
   "id": "9ef923fa",
   "metadata": {},
   "outputs": [],
   "source": [
    "plt.imshow(crop_img[:, ::2, :]) #sub sampling\n",
    "plt.show()"
   ]
  },
  {
   "cell_type": "code",
   "execution_count": null,
   "id": "85ce7dde",
   "metadata": {},
   "outputs": [],
   "source": [
    "path2 = '../data/img/city1.jpg'\n",
    "color_img = plt.imread(path2)"
   ]
  },
  {
   "cell_type": "code",
   "execution_count": null,
   "id": "192a74bb",
   "metadata": {},
   "outputs": [],
   "source": [
    "plt.imshow(color_img)\n",
    "plt.show()"
   ]
  },
  {
   "cell_type": "code",
   "execution_count": null,
   "id": "ea10781e",
   "metadata": {},
   "outputs": [],
   "source": [
    "plt.imshow(color_img[:, :, 2], 'gray')\n",
    "plt.show()"
   ]
  },
  {
   "cell_type": "code",
   "execution_count": null,
   "id": "d736dd3e",
   "metadata": {},
   "outputs": [],
   "source": [
    "plt.figure(figsize=(12,12))\n",
    "\n",
    "plt.subplot(1,4,1)\n",
    "plt.title('origin')\n",
    "plt.imshow(color_img)\n",
    "\n",
    "plt.subplot(1,4,2)\n",
    "plt.title('red')\n",
    "plt.imshow(color_img[:,:,0], 'gray')\n",
    "\n",
    "plt.subplot(1,4,3)\n",
    "plt.title('green')\n",
    "plt.imshow(color_img[:,:,1], 'gray')\n",
    "\n",
    "plt.subplot(1,4,4)\n",
    "plt.title('blue')\n",
    "plt.imshow(color_img[:,:,2], 'gray')\n",
    "\n",
    "plt.show()"
   ]
  },
  {
   "cell_type": "code",
   "execution_count": null,
   "id": "ce4924bb",
   "metadata": {},
   "outputs": [],
   "source": [
    "plt.imshow(color_img)\n",
    "plt.show()"
   ]
  },
  {
   "cell_type": "code",
   "execution_count": null,
   "id": "f9056ec8",
   "metadata": {},
   "outputs": [],
   "source": [
    "draw_line_img = color_img.copy()\n",
    "draw_line_img[90:110, :, 0] = 255\n",
    "draw_line_img[90:110, :, 1] = 0\n",
    "draw_line_img[90:110, :, 2] = 0"
   ]
  },
  {
   "cell_type": "code",
   "execution_count": null,
   "id": "00d0dde1",
   "metadata": {},
   "outputs": [],
   "source": [
    "draw_line_img[:, 290:310, 0] = 255\n",
    "draw_line_img[:, 290:310, 1] = 255\n",
    "draw_line_img[:, 290:310, 2] = 255"
   ]
  },
  {
   "cell_type": "code",
   "execution_count": null,
   "id": "04e9836a",
   "metadata": {},
   "outputs": [],
   "source": [
    "plt.imshow(draw_line_img)\n",
    "plt.show()"
   ]
  },
  {
   "cell_type": "code",
   "execution_count": null,
   "id": "2d7c9a2c",
   "metadata": {},
   "outputs": [],
   "source": []
  }
 ],
 "metadata": {
  "kernelspec": {
   "display_name": "Python 3 (ipykernel)",
   "language": "python",
   "name": "python3"
  },
  "language_info": {
   "codemirror_mode": {
    "name": "ipython",
    "version": 3
   },
   "file_extension": ".py",
   "mimetype": "text/x-python",
   "name": "python",
   "nbconvert_exporter": "python",
   "pygments_lexer": "ipython3",
   "version": "3.11.3"
  }
 },
 "nbformat": 4,
 "nbformat_minor": 5
}
