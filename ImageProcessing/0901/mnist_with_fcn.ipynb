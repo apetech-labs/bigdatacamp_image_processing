{
 "cells": [
  {
   "cell_type": "code",
   "execution_count": 1,
   "id": "4a112d9b",
   "metadata": {},
   "outputs": [],
   "source": [
    "import torch\n",
    "import torch.nn as nn\n",
    "import torch.optim as optim\n",
    "from torch.utils.data import DataLoader\n",
    "\n",
    "import torchvision.datasets as datasets\n",
    "import torchvision.transforms as transforms"
   ]
  },
  {
   "cell_type": "code",
   "execution_count": 2,
   "id": "02169277",
   "metadata": {},
   "outputs": [],
   "source": [
    "train_dataset = datasets.MNIST(root='./data', train=True, transform=transforms.ToTensor(), download=True)\n",
    "test_dataset = datasets.MNIST(root='./data', train=False, transform=transforms.ToTensor())\n",
    "\n",
    "train_loader = DataLoader(dataset=train_dataset, batch_size=100, shuffle=True)\n",
    "test_loader = DataLoader(dataset=test_dataset, batch_size=100, shuffle=False)"
   ]
  },
  {
   "cell_type": "code",
   "execution_count": 3,
   "id": "61b34667",
   "metadata": {},
   "outputs": [
    {
     "data": {
      "text/plain": [
       "(torch.Size([60000]), torch.Size([10000]))"
      ]
     },
     "execution_count": 3,
     "metadata": {},
     "output_type": "execute_result"
    }
   ],
   "source": [
    "# input datas\n",
    "train_dataset.data.shape, test_dataset.data.shape\n",
    "\n",
    "# output datas\n",
    "train_dataset.targets.shape, test_dataset.targets.shape"
   ]
  },
  {
   "cell_type": "code",
   "execution_count": 4,
   "id": "b5f370ec",
   "metadata": {},
   "outputs": [],
   "source": [
    "import matplotlib.pyplot as plt"
   ]
  },
  {
   "cell_type": "code",
   "execution_count": 5,
   "id": "13578cc9",
   "metadata": {},
   "outputs": [
    {
     "data": {
      "image/png": "[encoded data removed]",
      "text/plain": [
       "<Figure size 640x480 with 4 Axes>"
      ]
     },
     "metadata": {},
     "output_type": "display_data"
    },
    {
     "data": {
      "image/png": "[encoded data removed]",
      "text/plain": [
       "<Figure size 640x480 with 4 Axes>"
      ]
     },
     "metadata": {},
     "output_type": "display_data"
    },
    {
     "data": {
      "image/png": "[encoded data removed]",
      "text/plain": [
       "<Figure size 640x480 with 2 Axes>"
      ]
     },
     "metadata": {},
     "output_type": "display_data"
    }
   ],
   "source": [
    "plot_size = 4\n",
    "for it_sam, _sample in enumerate(train_dataset.data[:10]):\n",
    "\n",
    "    cur_idx = it_sam%plot_size+1\n",
    "\n",
    "    plt.subplot(1, plot_size, cur_idx)\n",
    "\n",
    "    _sample_target = train_dataset.targets[it_sam]\n",
    "    plt.title(_sample_target.item())\n",
    "    plt.imshow(_sample, 'gray')\n",
    "\n",
    "\n",
    "    if cur_idx == plot_size:\n",
    "        plt.show()"
   ]
  },
  {
   "cell_type": "markdown",
   "id": "d7914376",
   "metadata": {},
   "source": [
    "# model init"
   ]
  },
  {
   "cell_type": "code",
   "execution_count": 6,
   "id": "e20a73fd",
   "metadata": {},
   "outputs": [],
   "source": [
    "class Mnist_fcn(nn.Module):\n",
    "    \n",
    "    def __init__(self, model_input, model_output):\n",
    "        super(Mnist_fcn, self).__init__()\n",
    "        \n",
    "        #28 x 28 = 784\n",
    "        # layer\n",
    "        self.fc = nn.Linear(model_input, 64) # learning weight, bias\n",
    "        self.fc2 = nn.Linear(64, 32)\n",
    "        self.fc3 = nn.Linear(32, model_output)\n",
    "        \n",
    "        #activation \n",
    "        self.relu = nn.ReLU(inplace=True)\n",
    "        \n",
    "    def forward(self, x):\n",
    "        out = self.fc(x)\n",
    "        out = self.relu(out)\n",
    "        out = self.fc2(out)\n",
    "        out = self.relu(out)\n",
    "        out = self.fc3(out)\n",
    "        \n",
    "       # Cross Entropy Loss --> softmax 생략\n",
    "        \n",
    "        return out"
   ]
  },
  {
   "cell_type": "code",
   "execution_count": 7,
   "id": "fdf20466",
   "metadata": {},
   "outputs": [],
   "source": [
    "model = Mnist_fcn(28*28, 10)"
   ]
  },
  {
   "cell_type": "code",
   "execution_count": 8,
   "id": "1514efc4",
   "metadata": {},
   "outputs": [
    {
     "name": "stdout",
     "output_type": "stream",
     "text": [
      "Mnist_fcn(\n",
      "  (fc): Linear(in_features=784, out_features=64, bias=True)\n",
      "  (fc2): Linear(in_features=64, out_features=32, bias=True)\n",
      "  (fc3): Linear(in_features=32, out_features=10, bias=True)\n",
      "  (relu): ReLU(inplace=True)\n",
      ")\n"
     ]
    }
   ],
   "source": [
    "print(model)"
   ]
  },
  {
   "cell_type": "code",
   "execution_count": 9,
   "id": "3e3290eb",
   "metadata": {},
   "outputs": [
    {
     "name": "stdout",
     "output_type": "stream",
     "text": [
      "----------------------------------------------------------------\n",
      "        Layer (type)               Output Shape         Param #\n",
      "================================================================\n",
      "            Linear-1                [-1, 1, 64]          50,240\n",
      "              ReLU-2                [-1, 1, 64]               0\n",
      "            Linear-3                [-1, 1, 32]           2,080\n",
      "              ReLU-4                [-1, 1, 32]               0\n",
      "            Linear-5                [-1, 1, 10]             330\n",
      "================================================================\n",
      "Total params: 52,650\n",
      "Trainable params: 52,650\n",
      "Non-trainable params: 0\n",
      "----------------------------------------------------------------\n",
      "Input size (MB): 0.00\n",
      "Forward/backward pass size (MB): 0.00\n",
      "Params size (MB): 0.20\n",
      "Estimated Total Size (MB): 0.21\n",
      "----------------------------------------------------------------\n"
     ]
    }
   ],
   "source": [
    "from torchsummary import summary\n",
    "\n",
    "summary(model, input_size=((1, 784)))"
   ]
  },
  {
   "cell_type": "markdown",
   "id": "f90ebfaf",
   "metadata": {},
   "source": [
    "# model learning "
   ]
  },
  {
   "cell_type": "code",
   "execution_count": 10,
   "id": "4f3869b3",
   "metadata": {},
   "outputs": [],
   "source": [
    "learning_rate = 1e-2 #0.01\n",
    "\n",
    "criterion = nn.CrossEntropyLoss()\n",
    "optimizer = optim.Adam(model.parameters(), lr=learning_rate)"
   ]
  },
  {
   "cell_type": "code",
   "execution_count": 11,
   "id": "a2ab13f0",
   "metadata": {},
   "outputs": [],
   "source": [
    "device = 'mps'"
   ]
  },
  {
   "cell_type": "code",
   "execution_count": null,
   "id": "6c8cf2db",
   "metadata": {
    "scrolled": false
   },
   "outputs": [
    {
     "name": "stdout",
     "output_type": "stream",
     "text": [
      "epoch0, batch99, loss0.4025234878063202\n",
      "acc:91.44999694824219, correct:9145, total:10000\n",
      "epoch0, batch199, loss0.39242666959762573\n",
      "acc:91.80999755859375, correct:9181, total:10000\n",
      "epoch0, batch299, loss0.13755224645137787\n",
      "acc:93.6500015258789, correct:9365, total:10000\n",
      "epoch0, batch399, loss0.2265511006116867\n",
      "acc:94.6300048828125, correct:9463, total:10000\n",
      "epoch0, batch499, loss0.14157061278820038\n",
      "acc:95.08000183105469, correct:9508, total:10000\n",
      "epoch0, batch599, loss0.21642793715000153\n",
      "acc:95.55000305175781, correct:9555, total:10000\n",
      "epoch1, batch99, loss0.14454974234104156\n",
      "acc:95.18000030517578, correct:9518, total:10000\n",
      "epoch1, batch199, loss0.13805335760116577\n",
      "acc:95.84000396728516, correct:9584, total:10000\n",
      "epoch1, batch299, loss0.14919382333755493\n",
      "acc:95.16000366210938, correct:9516, total:10000\n",
      "epoch1, batch399, loss0.03576848283410072\n",
      "acc:95.16000366210938, correct:9516, total:10000\n",
      "epoch1, batch499, loss0.1856726109981537\n",
      "acc:96.0300064086914, correct:9603, total:10000\n",
      "epoch1, batch599, loss0.11575169861316681\n",
      "acc:94.43000030517578, correct:9443, total:10000\n",
      "epoch2, batch99, loss0.0924435704946518\n",
      "acc:96.08000183105469, correct:9608, total:10000\n",
      "epoch2, batch199, loss0.09772524237632751\n",
      "acc:96.18000030517578, correct:9618, total:10000\n",
      "epoch2, batch299, loss0.0930691808462143\n",
      "acc:96.34000396728516, correct:9634, total:10000\n",
      "epoch2, batch399, loss0.08391022682189941\n",
      "acc:96.09000396728516, correct:9609, total:10000\n",
      "epoch2, batch499, loss0.0910082757472992\n",
      "acc:96.6500015258789, correct:9665, total:10000\n",
      "epoch2, batch599, loss0.025104496628046036\n",
      "acc:96.33000183105469, correct:9633, total:10000\n",
      "epoch3, batch99, loss0.1234874352812767\n",
      "acc:95.92000579833984, correct:9592, total:10000\n",
      "epoch3, batch199, loss0.049625858664512634\n",
      "acc:95.8800048828125, correct:9588, total:10000\n",
      "epoch3, batch299, loss0.07357164472341537\n",
      "acc:96.2300033569336, correct:9623, total:10000\n",
      "epoch3, batch399, loss0.11051839590072632\n",
      "acc:96.87999725341797, correct:9688, total:10000\n",
      "epoch3, batch499, loss0.09077556431293488\n",
      "acc:96.41999816894531, correct:9642, total:10000\n",
      "epoch3, batch599, loss0.043326977640390396\n",
      "acc:96.86000061035156, correct:9686, total:10000\n"
     ]
    }
   ],
   "source": [
    "epochs = 10\n",
    "\n",
    "model = model.to(device)\n",
    "\n",
    "for _epoch in range(epochs):\n",
    "    for it_batch, (images, labels) in enumerate(train_loader):\n",
    "        \n",
    "        images = images.reshape([100, -1])\n",
    "        images = images.to(device)\n",
    "        \n",
    "        # label\n",
    "        labels = labels.to(device)\n",
    "        \n",
    "        optimizer.zero_grad()\n",
    "        \n",
    "        outputs = model(images)\n",
    "        loss = criterion(outputs, labels)\n",
    "        loss.backward()\n",
    "        \n",
    "        optimizer.step()\n",
    "        \n",
    "        \n",
    "        if (it_batch+1) % 100 == 0 :\n",
    "            print(f'epoch{_epoch}, batch{it_batch}, loss{loss.item()}' )\n",
    "            \n",
    "            with torch.no_grad():\n",
    "                model.eval()\n",
    "\n",
    "                correct_ = 0\n",
    "                total_ = 0\n",
    "\n",
    "                for it_batch, (images, labels) in enumerate(test_loader):\n",
    "                    images = images.reshape([100, -1])\n",
    "                    images = images.to(device)\n",
    "                    \n",
    "                    labels = labels.to(device)\n",
    "                    outputs = model(images)\n",
    "                    pred=torch.argmax(outputs, axis=1)\n",
    "\n",
    "                    total_ += pred.shape[0]\n",
    "                    correct_ += (labels==pred).sum()\n",
    "\n",
    "\n",
    "                acc = correct_/total_ * 100\n",
    "                print(f'acc:{acc}, correct:{correct_}, total:{total_}')\n",
    "                \n",
    "                model.train()\n",
    "        "
   ]
  },
  {
   "cell_type": "markdown",
   "id": "82e75a88",
   "metadata": {},
   "source": [
    "# calc Accuracy"
   ]
  },
  {
   "cell_type": "code",
   "execution_count": null,
   "id": "f218d834",
   "metadata": {},
   "outputs": [],
   "source": [
    "model = model.to('cpu')"
   ]
  },
  {
   "cell_type": "code",
   "execution_count": null,
   "id": "a387f4ec",
   "metadata": {},
   "outputs": [],
   "source": [
    "with torch.no_grad():\n",
    "    model.eval()\n",
    "    \n",
    "    correct_ = 0\n",
    "    total_ = 0\n",
    "\n",
    "    for it_batch, (images, labels) in enumerate(test_loader):\n",
    "        images = images.reshape([100, -1])\n",
    "\n",
    "        outputs = model(images)\n",
    "        pred=torch.argmax(outputs, axis=1)\n",
    "\n",
    "        total_ += pred.shape[0]\n",
    "        correct_ += (labels==pred).sum()\n",
    "    \n",
    "    \n",
    "    acc = correct_/total_ * 100\n",
    "    print(f'acc{acc}, correct{correct_}, total{total_}')"
   ]
  },
  {
   "cell_type": "code",
   "execution_count": null,
   "id": "e148bce6",
   "metadata": {},
   "outputs": [],
   "source": []
  },
  {
   "cell_type": "code",
   "execution_count": null,
   "id": "60b8997f",
   "metadata": {},
   "outputs": [],
   "source": []
  },
  {
   "cell_type": "code",
   "execution_count": null,
   "id": "f8425d5d",
   "metadata": {},
   "outputs": [],
   "source": []
  }
 ],
 "metadata": {
  "kernelspec": {
   "display_name": "Python 3 (ipykernel)",
   "language": "python",
   "name": "python3"
  },
  "language_info": {
   "codemirror_mode": {
    "name": "ipython",
    "version": 3
   },
   "file_extension": ".py",
   "mimetype": "text/x-python",
   "name": "python",
   "nbconvert_exporter": "python",
   "pygments_lexer": "ipython3",
   "version": "3.11.3"
  }
 },
 "nbformat": 4,
 "nbformat_minor": 5
}
