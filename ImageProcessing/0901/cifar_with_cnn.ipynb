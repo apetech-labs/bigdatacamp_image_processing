{
 "cells": [
  {
   "cell_type": "code",
   "execution_count": 1,
   "id": "8bdc019f",
   "metadata": {},
   "outputs": [],
   "source": [
    "import torch\n",
    "import torch.nn as nn\n",
    "import torch.optim as optim\n",
    "from torch.utils.data import DataLoader\n",
    "\n",
    "import torchvision.datasets as datasets\n",
    "import torchvision.transforms as transforms"
   ]
  },
  {
   "cell_type": "code",
   "execution_count": 2,
   "id": "e3f4bf39",
   "metadata": {},
   "outputs": [
    {
     "name": "stdout",
     "output_type": "stream",
     "text": [
      "mps\n"
     ]
    }
   ],
   "source": [
    "# device = 'cuda:0' if torch.cuda.is_available() else 'cpu'\n",
    "device = 'mps'\n",
    "print(device)"
   ]
  },
  {
   "cell_type": "markdown",
   "id": "b739a2b4",
   "metadata": {},
   "source": [
    "# data transform --> norm, type casting, crop, rotation"
   ]
  },
  {
   "cell_type": "code",
   "execution_count": 4,
   "id": "c7e0fde1",
   "metadata": {},
   "outputs": [],
   "source": [
    "train_transform = transforms.Compose([\n",
    "    transforms.ToTensor(), # 0~1 numpy -> tensor,\n",
    "    # 0 ~ 1 0-0.5/0.5:-1 (1-0.5)/0.5, -1~1\n",
    "    transforms.Normalize((0.5, 0.5, 0.5), (0.5, 0.5, 0.5)),\n",
    "    # 좌우 반전\n",
    "    transforms.RandomHorizontalFlip(p=0.5), \n",
    "])\n",
    "\n",
    "test_transform = transforms.Compose([\n",
    "    transforms.ToTensor(), # 0~1 numpy -> tensor,\n",
    "    # 0 ~ 1 0-0.5/0.5:-1 (1-0.5)/0.5, -1~1\n",
    "    transforms.Normalize((0.5, 0.5, 0.5), (0.5, 0.5, 0.5)),\n",
    "])"
   ]
  },
  {
   "cell_type": "code",
   "execution_count": null,
   "id": "dbc3f7df",
   "metadata": {},
   "outputs": [],
   "source": []
  },
  {
   "cell_type": "code",
   "execution_count": 5,
   "id": "607ad1f2",
   "metadata": {},
   "outputs": [
    {
     "name": "stdout",
     "output_type": "stream",
     "text": [
      "Files already downloaded and verified\n",
      "Files already downloaded and verified\n"
     ]
    }
   ],
   "source": [
    "trainset = datasets.CIFAR10(root='./data', train=True, download=True, transform=train_transform)\n",
    "testset = datasets.CIFAR10(root='./data', train=False, download=True, transform=test_transform)"
   ]
  },
  {
   "cell_type": "code",
   "execution_count": 6,
   "id": "930378e8",
   "metadata": {},
   "outputs": [
    {
     "data": {
      "text/plain": [
       "((50000, 32, 32, 3), 50000, [6, 9, 9, 4, 1, 1, 2, 7, 8, 3])"
      ]
     },
     "execution_count": 6,
     "metadata": {},
     "output_type": "execute_result"
    }
   ],
   "source": [
    "trainset.data.shape, len(trainset.targets), trainset.targets[:10]"
   ]
  },
  {
   "cell_type": "code",
   "execution_count": 8,
   "id": "595982e7",
   "metadata": {},
   "outputs": [],
   "source": [
    "classes = ('plane', 'car', 'bird', 'cat', 'deer', 'dog', 'frog', 'horse', 'ship', 'truck')"
   ]
  },
  {
   "cell_type": "code",
   "execution_count": 9,
   "id": "8637e791",
   "metadata": {},
   "outputs": [],
   "source": [
    "trainloader = torch.utils.data.DataLoader(trainset, batch_size=100, shuffle=True)\n",
    "testloader = torch.utils.data.DataLoader(testset, batch_size=100, shuffle=False)"
   ]
  },
  {
   "cell_type": "code",
   "execution_count": 10,
   "id": "19f9d2f3",
   "metadata": {},
   "outputs": [],
   "source": [
    "images, labels = next(iter(trainloader))"
   ]
  },
  {
   "cell_type": "code",
   "execution_count": 20,
   "id": "c59d27da",
   "metadata": {},
   "outputs": [
    {
     "data": {
      "text/plain": [
       "(torch.Size([100, 3, 32, 32]), torch.Size([100]), tensor(-1.), tensor(1.))"
      ]
     },
     "execution_count": 20,
     "metadata": {},
     "output_type": "execute_result"
    }
   ],
   "source": [
    "images.shape, labels.shape, images.min(), images.max()"
   ]
  },
  {
   "cell_type": "code",
   "execution_count": 22,
   "id": "e8fe6007",
   "metadata": {},
   "outputs": [],
   "source": [
    "import matplotlib.pyplot as plt"
   ]
  },
  {
   "cell_type": "code",
   "execution_count": 27,
   "id": "b2e4cb23",
   "metadata": {},
   "outputs": [
    {
     "data": {
      "text/plain": [
       "torch.Size([32, 32, 3])"
      ]
     },
     "execution_count": 27,
     "metadata": {},
     "output_type": "execute_result"
    }
   ],
   "source": [
    "images[0].permute(1,2,0).shape"
   ]
  },
  {
   "cell_type": "code",
   "execution_count": 37,
   "id": "ec449cee",
   "metadata": {},
   "outputs": [],
   "source": [
    "img = images[1].permute(1,2,0)"
   ]
  },
  {
   "cell_type": "code",
   "execution_count": 38,
   "id": "eee708d4",
   "metadata": {},
   "outputs": [],
   "source": [
    "img = img * 0.5 + 0.5"
   ]
  },
  {
   "cell_type": "code",
   "execution_count": 39,
   "id": "71b6c085",
   "metadata": {},
   "outputs": [
    {
     "data": {
      "text/plain": [
       "(tensor(0.0157), tensor(1.))"
      ]
     },
     "execution_count": 39,
     "metadata": {},
     "output_type": "execute_result"
    }
   ],
   "source": [
    "img.min(), img.max()"
   ]
  },
  {
   "cell_type": "code",
   "execution_count": 40,
   "id": "2fa0fc9c",
   "metadata": {},
   "outputs": [
    {
     "data": {
      "image/png": "[encoded data removed]",
      "text/plain": [
       "<Figure size 640x480 with 1 Axes>"
      ]
     },
     "metadata": {},
     "output_type": "display_data"
    }
   ],
   "source": [
    "plt.title(classes[labels[1].item()])\n",
    "plt.imshow(img)\n",
    "plt.show()"
   ]
  },
  {
   "cell_type": "markdown",
   "id": "37c8467a",
   "metadata": {},
   "source": [
    "# model init "
   ]
  },
  {
   "cell_type": "code",
   "execution_count": 59,
   "id": "aed63032",
   "metadata": {},
   "outputs": [],
   "source": [
    "class cifar_cnn(nn.Module):\n",
    "    def __init__(self):\n",
    "        super(cifar_cnn, self).__init__()\n",
    "        # layer\n",
    "        \n",
    "        self.conv_layer = nn.Sequential(\n",
    "            nn.Conv2d(in_channels=3, out_channels=4, kernel_size=(3,3)),\n",
    "            nn.ReLU(inplace=True),\n",
    "            nn.Conv2d(in_channels=4, out_channels=16, kernel_size=(3,3)),\n",
    "            nn.ReLU(inplace=True),\n",
    "            nn.MaxPool2d(kernel_size=2, stride=2),\n",
    "            \n",
    "            nn.Conv2d(in_channels=16, out_channels=16, kernel_size=(3,3)),\n",
    "            nn.ReLU(inplace=True),\n",
    "            nn.Conv2d(in_channels=16, out_channels=16, kernel_size=(3,3)),\n",
    "            nn.ReLU(inplace=True),\n",
    "            nn.MaxPool2d(kernel_size=2, stride=2),\n",
    "            \n",
    "            # 16 x 5 x 5\n",
    "        \n",
    "        )\n",
    "        \n",
    "        self.fc_layer = nn.Sequential(\n",
    "            nn.Dropout(0.5), \n",
    "            nn.Linear(16*5*5, 64),\n",
    "            nn.ReLU(inplace=True),\n",
    "            \n",
    "            nn.Linear(64, 32),\n",
    "            nn.ReLU(inplace=True),\n",
    "            \n",
    "            nn.Linear(32, 10)\n",
    "\n",
    "        )\n",
    "        \n",
    "    \n",
    "    def forward(self, x):\n",
    "        # 순전파\n",
    "        \n",
    "        out = self.conv_layer(x)\n",
    "        # bx16x5x5 --> 1d --> 400\n",
    "        out = out.view(out.shape[0], -1)\n",
    "        \n",
    "        out = self.fc_layer(out)\n",
    "        \n",
    "        \n",
    "        return out\n",
    "        \n",
    "    "
   ]
  },
  {
   "cell_type": "code",
   "execution_count": 60,
   "id": "830f5faa",
   "metadata": {},
   "outputs": [],
   "source": [
    "model = cifar_cnn()"
   ]
  },
  {
   "cell_type": "code",
   "execution_count": 61,
   "id": "0c428e47",
   "metadata": {},
   "outputs": [],
   "source": [
    "from torchsummary import summary"
   ]
  },
  {
   "cell_type": "code",
   "execution_count": 62,
   "id": "69dd7377",
   "metadata": {},
   "outputs": [
    {
     "name": "stdout",
     "output_type": "stream",
     "text": [
      "----------------------------------------------------------------\n",
      "        Layer (type)               Output Shape         Param #\n",
      "================================================================\n",
      "            Conv2d-1            [-1, 4, 30, 30]             112\n",
      "              ReLU-2            [-1, 4, 30, 30]               0\n",
      "            Conv2d-3           [-1, 16, 28, 28]             592\n",
      "              ReLU-4           [-1, 16, 28, 28]               0\n",
      "         MaxPool2d-5           [-1, 16, 14, 14]               0\n",
      "            Conv2d-6           [-1, 16, 12, 12]           2,320\n",
      "              ReLU-7           [-1, 16, 12, 12]               0\n",
      "            Conv2d-8           [-1, 16, 10, 10]           2,320\n",
      "              ReLU-9           [-1, 16, 10, 10]               0\n",
      "        MaxPool2d-10             [-1, 16, 5, 5]               0\n",
      "           Linear-11                   [-1, 64]          25,664\n",
      "             ReLU-12                   [-1, 64]               0\n",
      "           Linear-13                   [-1, 32]           2,080\n",
      "             ReLU-14                   [-1, 32]               0\n",
      "           Linear-15                   [-1, 10]             330\n",
      "================================================================\n",
      "Total params: 33,418\n",
      "Trainable params: 33,418\n",
      "Non-trainable params: 0\n",
      "----------------------------------------------------------------\n",
      "Input size (MB): 0.01\n",
      "Forward/backward pass size (MB): 0.33\n",
      "Params size (MB): 0.13\n",
      "Estimated Total Size (MB): 0.47\n",
      "----------------------------------------------------------------\n"
     ]
    }
   ],
   "source": [
    "summary(model, input_size=((3, 32, 32)))"
   ]
  },
  {
   "cell_type": "markdown",
   "id": "1331c173",
   "metadata": {},
   "source": [
    "# model learning "
   ]
  },
  {
   "cell_type": "code",
   "execution_count": null,
   "id": "e67e6663",
   "metadata": {},
   "outputs": [],
   "source": []
  },
  {
   "cell_type": "code",
   "execution_count": null,
   "id": "0f855457",
   "metadata": {},
   "outputs": [],
   "source": []
  },
  {
   "cell_type": "code",
   "execution_count": null,
   "id": "29c850e8",
   "metadata": {},
   "outputs": [],
   "source": []
  },
  {
   "cell_type": "code",
   "execution_count": null,
   "id": "ba0dadfc",
   "metadata": {},
   "outputs": [],
   "source": []
  },
  {
   "cell_type": "code",
   "execution_count": null,
   "id": "91b89243",
   "metadata": {},
   "outputs": [],
   "source": []
  },
  {
   "cell_type": "markdown",
   "id": "0c49c697",
   "metadata": {},
   "source": [
    "# model learning "
   ]
  },
  {
   "cell_type": "code",
   "execution_count": null,
   "id": "6eebed7e",
   "metadata": {},
   "outputs": [],
   "source": []
  }
 ],
 "metadata": {
  "kernelspec": {
   "display_name": "Python 3 (ipykernel)",
   "language": "python",
   "name": "python3"
  },
  "language_info": {
   "codemirror_mode": {
    "name": "ipython",
    "version": 3
   },
   "file_extension": ".py",
   "mimetype": "text/x-python",
   "name": "python",
   "nbconvert_exporter": "python",
   "pygments_lexer": "ipython3",
   "version": "3.11.3"
  }
 },
 "nbformat": 4,
 "nbformat_minor": 5
}
