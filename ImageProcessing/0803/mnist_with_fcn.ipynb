{
 "cells": [
  {
   "cell_type": "code",
   "execution_count": null,
   "id": "820be93e",
   "metadata": {},
   "outputs": [],
   "source": [
    "!pip install torchvision"
   ]
  },
  {
   "cell_type": "code",
   "execution_count": null,
   "id": "6eeeb9f8",
   "metadata": {},
   "outputs": [],
   "source": [
    "import torch\n",
    "import torch.nn as nn\n",
    "import torch.optim as potim\n",
    "from torch.utils.data import DataLoader\n",
    "\n",
    "import torchvision.datasets as datasets\n",
    "import torchvision.transforms as transforms"
   ]
  },
  {
   "cell_type": "code",
   "execution_count": null,
   "id": "3c8c49dd",
   "metadata": {},
   "outputs": [],
   "source": [
    "train_dataset = datasets.MNIST(root='./data', train=True, transform=transforms.ToTensor(), download=True)\n",
    "test_dataset = datasets.MNIST(root='./data', train=False, transform=transforms.ToTensor())\n",
    "\n",
    "train_loader = DataLoader(dataset=train_dataset, batch_size=100, shuffle=True)\n",
    "test_loader = DataLoader(dataset=test_dataset, batch_size=100, shuffle=False)"
   ]
  },
  {
   "cell_type": "code",
   "execution_count": null,
   "id": "3e9522e1",
   "metadata": {},
   "outputs": [],
   "source": [
    "# input datas \n",
    "train_dataset.data.shape, test_dataset.data.shape"
   ]
  },
  {
   "cell_type": "code",
   "execution_count": null,
   "id": "d28ea1d9",
   "metadata": {},
   "outputs": [],
   "source": [
    "# output datas\n",
    "train_dataset.targets.shape, test_dataset.targets.shape "
   ]
  },
  {
   "cell_type": "code",
   "execution_count": null,
   "id": "13bab036",
   "metadata": {},
   "outputs": [],
   "source": [
    "_sample = train_dataset.data[0]\n",
    "_sample_target = train_dataset.targets[0]"
   ]
  },
  {
   "cell_type": "code",
   "execution_count": null,
   "id": "7a46042e",
   "metadata": {},
   "outputs": [],
   "source": [
    "import matplotlib.pyplot as plt"
   ]
  },
  {
   "cell_type": "code",
   "execution_count": null,
   "id": "0cf402e9",
   "metadata": {},
   "outputs": [],
   "source": [
    "train_dataset.data.shape"
   ]
  },
  {
   "cell_type": "code",
   "execution_count": null,
   "id": "29b18d8d",
   "metadata": {},
   "outputs": [],
   "source": []
  },
  {
   "cell_type": "code",
   "execution_count": null,
   "id": "7098ece7",
   "metadata": {
    "scrolled": false
   },
   "outputs": [],
   "source": [
    "plot_size = 4\n",
    "for it_sam, _sample in enumerate(train_dataset.data[:10]):\n",
    "    \n",
    "    cur_idx = it_sam%plot_size+1\n",
    "    \n",
    "    plt.subplot(1, plot_size, cur_idx)\n",
    "    \n",
    "    _sample_target = train_dataset.targets[it_sam]\n",
    "    plt.title(_sample_target.item())\n",
    "    plt.imshow(_sample, 'gray')\n",
    "    \n",
    "    \n",
    "    if cur_idx == plot_size:\n",
    "        plt.show()"
   ]
  },
  {
   "cell_type": "code",
   "execution_count": null,
   "id": "c5e7c0f0",
   "metadata": {},
   "outputs": [],
   "source": []
  }
 ],
 "metadata": {
  "kernelspec": {
   "display_name": "Python 3 (ipykernel)",
   "language": "python",
   "name": "python3"
  },
  "language_info": {
   "codemirror_mode": {
    "name": "ipython",
    "version": 3
   },
   "file_extension": ".py",
   "mimetype": "text/x-python",
   "name": "python",
   "nbconvert_exporter": "python",
   "pygments_lexer": "ipython3",
   "version": "3.11.3"
  }
 },
 "nbformat": 4,
 "nbformat_minor": 5
}
