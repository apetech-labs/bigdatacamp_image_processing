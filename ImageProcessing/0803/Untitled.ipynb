{
 "cells": [
  {
   "cell_type": "code",
   "execution_count": null,
   "id": "99be3fc0",
   "metadata": {},
   "outputs": [],
   "source": [
    "import torch\n",
    "import torch.nn as nn\n",
    "import torch.optim as optim"
   ]
  },
  {
   "cell_type": "code",
   "execution_count": null,
   "id": "26afa2dd",
   "metadata": {},
   "outputs": [],
   "source": [
    "and_x = torch.tensor( [[0, 0], [0, 1], [1, 0], [1, 1]], dtype=torch.float32)\n",
    "and_y = torch.tensor( [[0], [0], [0], [1]], dtype=torch.float32 )"
   ]
  },
  {
   "cell_type": "code",
   "execution_count": null,
   "id": "ebb5b68d",
   "metadata": {},
   "outputs": [],
   "source": [
    "or_x = torch.tensor( [[0, 0], [0, 1], [1, 0], [1, 1]], dtype=torch.float32)\n",
    "or_y = torch.tensor( [[0], [1], [1], [1]], dtype=torch.float32 )"
   ]
  },
  {
   "cell_type": "code",
   "execution_count": null,
   "id": "c2ed74c3",
   "metadata": {},
   "outputs": [],
   "source": [
    "xor_x = torch.tensor( [[0, 0], [0, 1], [1, 0], [1, 1]], dtype=torch.float32)\n",
    "xor_y = torch.tensor( [[0], [1], [1], [0]], dtype=torch.float32 )"
   ]
  },
  {
   "cell_type": "code",
   "execution_count": null,
   "id": "c743b34f",
   "metadata": {},
   "outputs": [],
   "source": [
    "# 퍼셉트론 모델 정의\n",
    "class Perceptron(nn.Module):\n",
    "    def __init__(self):\n",
    "        super(Perceptron, self).__init__()\n",
    "        self.fc = nn.Linear(2, 4)\n",
    "        self.fc2 = nn.Linear(4, 1)\n",
    "\n",
    "    def forward(self, x):\n",
    "        o = torch.relu(self.fc(x))\n",
    "        o = torch.sigmoid(self.fc2(o))\n",
    "        \n",
    "        return o"
   ]
  },
  {
   "cell_type": "code",
   "execution_count": null,
   "id": "df280037",
   "metadata": {},
   "outputs": [],
   "source": [
    "model = Perceptron()\n",
    "print(model)\n",
    "# 손실 함수 및 최적화 도구 설정\n",
    "# criterion = nn.()\n",
    "criterion = nn.BCELoss()\n",
    "optimizer = optim.SGD(model.parameters(), lr=0.01)\n",
    "epoch = 10000"
   ]
  },
  {
   "cell_type": "code",
   "execution_count": null,
   "id": "43e46d0b",
   "metadata": {},
   "outputs": [],
   "source": [
    "# 학습 과정\n",
    "for epoch in range(epoch):\n",
    "    optimizer.zero_grad()\n",
    "    output = model(xor_x)\n",
    "    loss = criterion(output, xor_y)\n",
    "    loss.backward()\n",
    "    optimizer.step()\n",
    "\n",
    "    if epoch % 1000 == 0:\n",
    "        print('Epoch: {:4d}/10000 Cost: {:.6f}'.format(\n",
    "            epoch, loss.item()\n",
    "        ))"
   ]
  },
  {
   "cell_type": "code",
   "execution_count": null,
   "id": "d11babdb",
   "metadata": {},
   "outputs": [],
   "source": [
    "model(xor_x)"
   ]
  },
  {
   "cell_type": "code",
   "execution_count": null,
   "id": "8b596f15",
   "metadata": {},
   "outputs": [],
   "source": []
  }
 ],
 "metadata": {
  "kernelspec": {
   "display_name": "Python 3 (ipykernel)",
   "language": "python",
   "name": "python3"
  },
  "language_info": {
   "codemirror_mode": {
    "name": "ipython",
    "version": 3
   },
   "file_extension": ".py",
   "mimetype": "text/x-python",
   "name": "python",
   "nbconvert_exporter": "python",
   "pygments_lexer": "ipython3",
   "version": "3.11.3"
  }
 },
 "nbformat": 4,
 "nbformat_minor": 5
}
