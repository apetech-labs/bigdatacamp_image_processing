{
 "cells": [
  {
   "cell_type": "markdown",
   "id": "e57f501c",
   "metadata": {},
   "source": [
    "# !pip install torch\n",
    "\n",
    "!pip list | grep torch"
   ]
  },
  {
   "cell_type": "code",
   "execution_count": null,
   "id": "2c5eb097",
   "metadata": {},
   "outputs": [],
   "source": [
    "import torch\n",
    "import torch.nn as nn\n",
    "# import torch.nn.functional as F\n",
    "import numpy as np"
   ]
  },
  {
   "cell_type": "markdown",
   "id": "ace51902",
   "metadata": {},
   "source": [
    "# AND Gate"
   ]
  },
  {
   "cell_type": "code",
   "execution_count": null,
   "id": "84a5685b",
   "metadata": {},
   "outputs": [],
   "source": [
    "# make in/out data and_gate\n",
    "and_x = torch.tensor( [[0, 0], [0, 1], [1, 0], [1, 1]], dtype=torch.float32)\n",
    "and_y = torch.tensor( [[0], [0], [0], [1]], dtype=torch.float32 )"
   ]
  },
  {
   "cell_type": "code",
   "execution_count": null,
   "id": "91024c39",
   "metadata": {},
   "outputs": [],
   "source": [
    "# perceptron \n",
    "class Perceptron(nn.Module):\n",
    "    def __init__(self):\n",
    "        super(Perceptron, self).__init__()\n",
    "        self.fc = nn.Linear(2, 1)\n",
    "        self.relu = nn.ReLU(inplace=True)\n",
    "        \n",
    "    def forward(self, x):\n",
    "        o = self.fc(x)\n",
    "        o = self.relu(o)\n",
    "        \n",
    "        return o\n",
    "        "
   ]
  },
  {
   "cell_type": "code",
   "execution_count": null,
   "id": "f2987e2c",
   "metadata": {},
   "outputs": [],
   "source": [
    "and_p = Perceptron()\n"
   ]
  },
  {
   "cell_type": "code",
   "execution_count": null,
   "id": "18c21c85",
   "metadata": {},
   "outputs": [],
   "source": [
    "and_p.fc.weight, and_p.fc.bias"
   ]
  },
  {
   "cell_type": "code",
   "execution_count": null,
   "id": "41f5d4a0",
   "metadata": {},
   "outputs": [],
   "source": [
    "import torch.optim as optim"
   ]
  },
  {
   "cell_type": "code",
   "execution_count": null,
   "id": "9d4a597c",
   "metadata": {},
   "outputs": [],
   "source": [
    "criterion = nn.MSELoss()\n",
    "optimizer = optim.SGD(and_p.parameters(), lr=0.01)\n",
    "\n",
    "epoch = 10000\n",
    "# 학습 과정\n",
    "for e in range(epoch):\n",
    "    \n",
    "    optimizer.zero_grad()\n",
    "    output = and_p(and_x)\n",
    "    \n",
    "    loss = criterion(output, and_y)\n",
    "    loss.backward()\n",
    "    #metric\n",
    "    \n",
    "    optimizer.step()\n",
    "\n",
    "    if e % 1000 == 0:\n",
    "        print(f'epoch {epoch}, loss {loss.item()}')\n",
    "#         print('Epoch: {:4d}/10000 Cost: {:.6f}'.format(\n",
    "#             epoch, loss.item()\n",
    "#         ))"
   ]
  },
  {
   "cell_type": "code",
   "execution_count": null,
   "id": "acca8903",
   "metadata": {},
   "outputs": [],
   "source": [
    "and_x, and_p(and_x), torch.round(and_p(and_x)), and_y"
   ]
  },
  {
   "cell_type": "markdown",
   "id": "bb01058b",
   "metadata": {},
   "source": [
    "# OR Gate "
   ]
  },
  {
   "cell_type": "code",
   "execution_count": null,
   "id": "ae266cca",
   "metadata": {},
   "outputs": [],
   "source": [
    "or_x = torch.tensor( [[0, 0], [0, 1], [1, 0], [1, 1]], dtype=torch.float32)\n",
    "or_y = torch.tensor( [[0], [1], [1], [1]], dtype=torch.float32 )"
   ]
  },
  {
   "cell_type": "code",
   "execution_count": null,
   "id": "3608093b",
   "metadata": {},
   "outputs": [],
   "source": [
    "or_x.shape, or_y.shape, or_x, or_y"
   ]
  },
  {
   "cell_type": "code",
   "execution_count": null,
   "id": "99c2377f",
   "metadata": {},
   "outputs": [],
   "source": [
    "or_p = Perceptron()"
   ]
  },
  {
   "cell_type": "code",
   "execution_count": null,
   "id": "3bea0818",
   "metadata": {},
   "outputs": [],
   "source": [
    "criterion = nn.MSELoss()\n",
    "optimizer = optim.SGD(or_p.parameters(), lr=0.01)\n",
    "\n",
    "epoch = 10000\n",
    "# 학습 과정\n",
    "for e in range(epoch):\n",
    "    \n",
    "    optimizer.zero_grad()\n",
    "    output = or_p(or_x)\n",
    "    \n",
    "    loss = criterion(output, or_y)\n",
    "    loss.backward()\n",
    "    #metric\n",
    "    \n",
    "    optimizer.step()\n",
    "\n",
    "    if e % 1000 == 0:\n",
    "        print(f'epoch {epoch}, loss {loss.item()}')\n",
    "#         print('Epoch: {:4d}/10000 Cost: {:.6f}'.format(\n",
    "#             epoch, loss.item()\n",
    "#         ))"
   ]
  },
  {
   "cell_type": "code",
   "execution_count": null,
   "id": "4f055c5b",
   "metadata": {},
   "outputs": [],
   "source": [
    "or_p(or_x), torch.round(or_p(or_x)), or_y"
   ]
  },
  {
   "cell_type": "markdown",
   "id": "69ac80ec",
   "metadata": {},
   "source": [
    "# XOR Gate"
   ]
  },
  {
   "cell_type": "code",
   "execution_count": null,
   "id": "61c8d1b6",
   "metadata": {},
   "outputs": [],
   "source": [
    "xor_x = torch.tensor( [[0, 0], [0, 1], [1, 0], [1, 1]], dtype=torch.float32)\n",
    "xor_y = torch.tensor( [[0], [1], [1], [0]], dtype=torch.float32 )\n",
    "\n",
    "xor_p = Perceptron()\n",
    "\n",
    "lerning_rate = 0.01\n",
    "\n",
    "criterion = nn.MSELoss()\n",
    "optimizer = optim.SGD(or_p.parameters(), lr=lerning_rate)\n",
    "\n",
    "epoch = 10000\n",
    "# 학습 과정\n",
    "for e in range(epoch):\n",
    "    \n",
    "    optimizer.zero_grad()\n",
    "    output = xor_p(xor_x)\n",
    "    \n",
    "    loss = criterion(output, xor_y)\n",
    "    loss.backward()\n",
    "    #metric\n",
    "    \n",
    "    optimizer.step()\n",
    "\n",
    "    if e % 1000 == 0:\n",
    "        print(f'epoch {epoch}, loss {loss.item()}')\n",
    "#         print('Epoch: {:4d}/10000 Cost: {:.6f}'.format(\n",
    "#             epoch, loss.item()\n",
    "#         ))"
   ]
  },
  {
   "cell_type": "code",
   "execution_count": null,
   "id": "d2e1dc37",
   "metadata": {},
   "outputs": [],
   "source": [
    "xor_p(xor_x), torch.round(xor_p(xor_x)), xor_y"
   ]
  },
  {
   "cell_type": "code",
   "execution_count": null,
   "id": "c5c9894c",
   "metadata": {},
   "outputs": [],
   "source": []
  },
  {
   "cell_type": "code",
   "execution_count": null,
   "id": "6d0337ae",
   "metadata": {},
   "outputs": [],
   "source": []
  }
 ],
 "metadata": {
  "kernelspec": {
   "display_name": "Python 3 (ipykernel)",
   "language": "python",
   "name": "python3"
  },
  "language_info": {
   "codemirror_mode": {
    "name": "ipython",
    "version": 3
   },
   "file_extension": ".py",
   "mimetype": "text/x-python",
   "name": "python",
   "nbconvert_exporter": "python",
   "pygments_lexer": "ipython3",
   "version": "3.11.3"
  }
 },
 "nbformat": 4,
 "nbformat_minor": 5
}
