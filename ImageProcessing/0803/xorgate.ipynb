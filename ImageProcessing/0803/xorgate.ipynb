{
 "cells": [
  {
   "cell_type": "code",
   "execution_count": null,
   "id": "20a6e33d",
   "metadata": {},
   "outputs": [],
   "source": [
    "import torch\n",
    "import torch.nn as nn\n",
    "import torch.optim as optim\n",
    "\n",
    "import numpy as np"
   ]
  },
  {
   "cell_type": "code",
   "execution_count": null,
   "id": "4d878ebe",
   "metadata": {},
   "outputs": [],
   "source": [
    "# perceptron \n",
    "class Perceptron(nn.Module):\n",
    "    def __init__(self):\n",
    "        super(Perceptron, self).__init__()\n",
    "        self.fc = nn.Linear(2, 4)\n",
    "        self.relu = nn.ReLU(inplace=True)\n",
    "        self.fc2 = nn.Linear(4, 1)\n",
    "        # sigmoid\n",
    "        # self.relu2 = nn.ReLU(inplace=True)\n",
    "        \n",
    "    def forward(self, x):\n",
    "        o = self.fc(x)\n",
    "        o = self.relu(o)\n",
    "        o = self.fc2(o)\n",
    "        \n",
    "        # o = torch.sigmoid(o)\n",
    "        \n",
    "        return o\n",
    "        "
   ]
  },
  {
   "cell_type": "code",
   "execution_count": null,
   "id": "75c31485",
   "metadata": {},
   "outputs": [],
   "source": [
    "xor_p = Perceptron()"
   ]
  },
  {
   "cell_type": "code",
   "execution_count": null,
   "id": "0334a316",
   "metadata": {},
   "outputs": [],
   "source": [
    "print(xor_p)"
   ]
  },
  {
   "cell_type": "code",
   "execution_count": null,
   "id": "cb9b28cc",
   "metadata": {},
   "outputs": [],
   "source": [
    "xor_x = torch.tensor( [[0, 0], [0, 1], [1, 0], [1, 1]], dtype=torch.float32)\n",
    "xor_y = torch.tensor( [[0], [1], [1], [0]], dtype=torch.float32 )"
   ]
  },
  {
   "cell_type": "code",
   "execution_count": null,
   "id": "b7c04189",
   "metadata": {},
   "outputs": [],
   "source": [
    "lerning_rate = 0.01\n",
    "\n",
    "criterion = nn.MSELoss()\n",
    "optimizer = optim.SGD(xor_p.parameters(), lr=lerning_rate)\n",
    "\n",
    "epoch = 10000\n",
    "# 학습 과정\n",
    "for e in range(epoch):\n",
    "    \n",
    "    optimizer.zero_grad()\n",
    "    output = xor_p(xor_x)\n",
    "    \n",
    "    loss = criterion(output, xor_y)\n",
    "    loss.backward()\n",
    "    #metric\n",
    "    \n",
    "    optimizer.step()\n",
    "\n",
    "    if e % 1000 == 0:\n",
    "        print(f'epoch {epoch}, loss {loss.item()}')\n",
    "#         print('Epoch: {:4d}/10000 Cost: {:.6f}'.format(\n",
    "#             epoch, loss.item()\n",
    "#         ))"
   ]
  },
  {
   "cell_type": "code",
   "execution_count": null,
   "id": "2b1ab7ed",
   "metadata": {},
   "outputs": [],
   "source": [
    "xor_p(xor_x)"
   ]
  },
  {
   "cell_type": "code",
   "execution_count": null,
   "id": "084c195b",
   "metadata": {},
   "outputs": [],
   "source": [
    "torch.round(xor_p(xor_x)), xor_y"
   ]
  },
  {
   "cell_type": "code",
   "execution_count": null,
   "id": "c642a588",
   "metadata": {},
   "outputs": [],
   "source": []
  },
  {
   "cell_type": "code",
   "execution_count": null,
   "id": "b54ce92d",
   "metadata": {},
   "outputs": [],
   "source": []
  }
 ],
 "metadata": {
  "kernelspec": {
   "display_name": "Python 3 (ipykernel)",
   "language": "python",
   "name": "python3"
  },
  "language_info": {
   "codemirror_mode": {
    "name": "ipython",
    "version": 3
   },
   "file_extension": ".py",
   "mimetype": "text/x-python",
   "name": "python",
   "nbconvert_exporter": "python",
   "pygments_lexer": "ipython3",
   "version": "3.11.3"
  }
 },
 "nbformat": 4,
 "nbformat_minor": 5
}
