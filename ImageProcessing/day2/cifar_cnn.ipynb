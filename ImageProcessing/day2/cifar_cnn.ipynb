{
 "cells": [
  {
   "cell_type": "code",
   "execution_count": 1,
   "metadata": {
    "executionInfo": {
     "elapsed": 7639,
     "status": "ok",
     "timestamp": 1688542024511,
     "user": {
      "displayName": "유인원",
      "userId": "12609834608015613726"
     },
     "user_tz": -540
    },
    "id": "F-0rfA-KDa52"
   },
   "outputs": [],
   "source": [
    "# torch import 및 GPU(cuda0) device 할당 후 출력\n",
    "import torch\n",
    "import torchvision\n",
    "import torchvision.transforms as transforms"
   ]
  },
  {
   "cell_type": "code",
   "execution_count": 2,
   "metadata": {
    "colab": {
     "base_uri": "https://localhost:8080/"
    },
    "executionInfo": {
     "elapsed": 4,
     "status": "ok",
     "timestamp": 1688542024512,
     "user": {
      "displayName": "유인원",
      "userId": "12609834608015613726"
     },
     "user_tz": -540
    },
    "id": "SHUjmpCIDk3s",
    "outputId": "4eb06bd5-aeaa-4974-dee2-b238dfae8086"
   },
   "outputs": [
    {
     "name": "stdout",
     "output_type": "stream",
     "text": [
      "cpu\n"
     ]
    }
   ],
   "source": [
    "device = torch.device('cuda:0' if torch.cuda.is_available() else 'cpu')\n",
    "print(device)"
   ]
  },
  {
   "cell_type": "code",
   "execution_count": 3,
   "metadata": {
    "executionInfo": {
     "elapsed": 2,
     "status": "ok",
     "timestamp": 1688542024512,
     "user": {
      "displayName": "유인원",
      "userId": "12609834608015613726"
     },
     "user_tz": -540
    },
    "id": "5LuiLJC8BGcR"
   },
   "outputs": [],
   "source": [
    "# 1. 기본적인 전처리: Tensor로 변환\n",
    "transform1 = transforms.Compose([\n",
    "    transforms.ToTensor(),\n",
    "])\n",
    "# 2. 정규화를 포함한 전처리: Tensor로 변환 후, 이미지의 픽셀값을 [-1, 1] 범위로 정규화\n",
    "transform2 = transforms.Compose([\n",
    "    transforms.ToTensor(),\n",
    "    transforms.Normalize((0.5, 0.5, 0.5), (0.5, 0.5, 0.5))  # (mean), (std) for each channel\n",
    "])\n",
    "# 3. Data augmentation을 포함한 전처리: Random Crop과 Random Flip을 적용하고, Tensor로 변환 후 정규화\n",
    "transform3 = transforms.Compose([\n",
    "    transforms.RandomCrop(32, padding=4),\n",
    "    transforms.RandomHorizontalFlip(),\n",
    "    transforms.ToTensor(),\n",
    "    transforms.Normalize((0.4914, 0.4822, 0.4465), (0.2023, 0.1994, 0.2010)),  # calculated mean and std for CIFAR-10\n",
    "])"
   ]
  },
  {
   "cell_type": "code",
   "execution_count": 4,
   "metadata": {
    "colab": {
     "base_uri": "https://localhost:8080/"
    },
    "executionInfo": {
     "elapsed": 16208,
     "status": "ok",
     "timestamp": 1688542040718,
     "user": {
      "displayName": "유인원",
      "userId": "12609834608015613726"
     },
     "user_tz": -540
    },
    "id": "MYv1KxCzBOJB",
    "outputId": "d1106033-e874-429e-d1cc-43234b979561"
   },
   "outputs": [
    {
     "name": "stdout",
     "output_type": "stream",
     "text": [
      "Downloading https://www.cs.toronto.edu/~kriz/cifar-10-python.tar.gz to ./data/cifar-10-python.tar.gz\n"
     ]
    },
    {
     "name": "stderr",
     "output_type": "stream",
     "text": [
      "100%|██████████| 170498071/170498071 [00:04<00:00, 38725295.20it/s]\n"
     ]
    },
    {
     "name": "stdout",
     "output_type": "stream",
     "text": [
      "Extracting ./data/cifar-10-python.tar.gz to ./data\n",
      "Files already downloaded and verified\n",
      "Files already downloaded and verified\n",
      "Files already downloaded and verified\n"
     ]
    },
    {
     "name": "stderr",
     "output_type": "stream",
     "text": [
      "/usr/local/lib/python3.10/dist-packages/torch/utils/data/dataloader.py:560: UserWarning: This DataLoader will create 12 worker processes in total. Our suggested max number of worker in current system is 2, which is smaller than what this DataLoader is going to create. Please be aware that excessive worker creation might get DataLoader running slow or even freeze, lower the worker number to avoid potential slowness/freeze if necessary.\n",
      "  warnings.warn(_create_warning_msg(\n"
     ]
    }
   ],
   "source": [
    "batch_size = 256\n",
    "# transform 만들어보기, 0~1 & -1~1 -> print 해서 확인해보기\n",
    "# torchvision.datasets.CIFAR10(root='./data', train=True, download=True, transform='???')\n",
    "trainset = torchvision.datasets.CIFAR10(root='./data', train=True, download=True, transform=transform1)\n",
    "trainset2 = torchvision.datasets.CIFAR10(root='./data', train=True, download=True, transform=transform2)\n",
    "trainset3 = torchvision.datasets.CIFAR10(root='./data', train=True, download=True, transform=transform3)\n",
    "\n",
    "trainloader = torch.utils.data.DataLoader(trainset, batch_size=batch_size, shuffle=True)\n",
    "trainloader2 = torch.utils.data.DataLoader(trainset2, batch_size=batch_size, shuffle=True)\n",
    "trainloader3 = torch.utils.data.DataLoader(trainset3, batch_size=batch_size, shuffle=True)\n",
    "\n",
    "testset = torchvision.datasets.CIFAR10(root='./data', train=False, download=True, transform=transform1)\n",
    "testloader = torch.utils.data.DataLoader(testset, batch_size=batch_size, shuffle=True, num_workers=12)\n",
    "\n",
    "classes = ('plane', 'car', 'bird', 'cat', 'deer', 'dog', 'frog', 'horse', 'ship', 'truck')"
   ]
  },
  {
   "cell_type": "code",
   "execution_count": 5,
   "metadata": {
    "colab": {
     "base_uri": "https://localhost:8080/"
    },
    "executionInfo": {
     "elapsed": 4,
     "status": "ok",
     "timestamp": 1688542040718,
     "user": {
      "displayName": "유인원",
      "userId": "12609834608015613726"
     },
     "user_tz": -540
    },
    "id": "oiQ-TIO8B5wg",
    "outputId": "39c53e5f-dbb8-4f5d-d690-28388b765bae"
   },
   "outputs": [
    {
     "name": "stdout",
     "output_type": "stream",
     "text": [
      "(50000, 32, 32, 3)\n"
     ]
    }
   ],
   "source": [
    "print(trainset3.data.shape)"
   ]
  },
  {
   "cell_type": "code",
   "execution_count": 6,
   "metadata": {
    "colab": {
     "base_uri": "https://localhost:8080/"
    },
    "executionInfo": {
     "elapsed": 2098,
     "status": "ok",
     "timestamp": 1688542042814,
     "user": {
      "displayName": "유인원",
      "userId": "12609834608015613726"
     },
     "user_tz": -540
    },
    "id": "eshlpEYdxhiO",
    "outputId": "8a224a64-e27f-4c94-a7d3-3ea21e2e8e9c"
   },
   "outputs": [
    {
     "name": "stdout",
     "output_type": "stream",
     "text": [
      "tensor([[0.2353, 0.1412, 0.2000,  ..., 0.3569, 0.1608, 0.1412],\n",
      "        [0.0824, 0.0667, 0.0471,  ..., 0.6510, 0.3373, 0.0824],\n",
      "        [0.1412, 0.0941, 0.1176,  ..., 0.5882, 0.6157, 0.4000],\n",
      "        ...,\n",
      "        [0.2627, 0.2314, 0.2157,  ..., 0.2745, 0.0863, 0.1686],\n",
      "        [0.3686, 0.2941, 0.5137,  ..., 0.2431, 0.1529, 0.2275],\n",
      "        [0.5569, 0.4902, 0.5922,  ..., 0.2431, 0.2431, 0.3020]]) tensor([6, 2, 9, 5, 4, 9, 5, 7, 8, 3, 1, 7, 2, 7, 3, 2, 8, 7, 6, 9, 9, 6, 9, 1,\n",
      "        5, 3, 6, 6, 2, 8, 6, 3, 6, 4, 5, 3, 7, 0, 1, 6, 0, 3, 6, 5, 6, 0, 2, 2,\n",
      "        1, 8, 5, 9, 5, 9, 1, 2, 0, 3, 3, 7, 9, 0, 4, 1, 9, 0, 6, 2, 5, 3, 2, 0,\n",
      "        1, 5, 3, 5, 5, 2, 0, 3, 3, 3, 1, 1, 8, 3, 7, 9, 6, 2, 8, 8, 3, 1, 4, 0,\n",
      "        8, 1, 4, 3, 0, 4, 3, 1, 9, 2, 1, 1, 4, 9, 9, 9, 7, 3, 9, 0, 1, 0, 7, 4,\n",
      "        4, 6, 7, 1, 1, 9, 6, 4, 6, 9, 9, 6, 7, 6, 2, 7, 4, 8, 4, 0, 7, 3, 8, 9,\n",
      "        3, 3, 5, 5, 5, 1, 1, 2, 5, 0, 4, 0, 2, 2, 8, 3, 4, 1, 2, 5, 6, 7, 7, 6,\n",
      "        4, 6, 0, 3, 9, 6, 5, 7, 3, 3, 6, 8, 7, 9, 6, 3, 5, 2, 6, 1, 4, 3, 6, 1,\n",
      "        0, 4, 2, 8, 6, 6, 1, 6, 5, 1, 1, 4, 2, 6, 0, 5, 3, 9, 9, 1, 4, 5, 7, 0,\n",
      "        5, 2, 3, 8, 9, 3, 5, 5, 8, 8, 5, 9, 2, 3, 9, 9, 5, 6, 6, 5, 2, 0, 4, 6,\n",
      "        6, 1, 6, 5, 8, 5, 6, 3, 3, 3, 6, 7, 0, 9, 1, 1])\n"
     ]
    }
   ],
   "source": [
    "testloader2 = iter(testloader)\n",
    "images, labels = next(testloader2)\n",
    "print(images[0][0], labels)"
   ]
  },
  {
   "cell_type": "code",
   "execution_count": 7,
   "metadata": {
    "colab": {
     "base_uri": "https://localhost:8080/"
    },
    "executionInfo": {
     "elapsed": 4,
     "status": "ok",
     "timestamp": 1688542042814,
     "user": {
      "displayName": "유인원",
      "userId": "12609834608015613726"
     },
     "user_tz": -540
    },
    "id": "tGJV6YuZFdDF",
    "outputId": "48fcde88-0697-4dab-cd4a-8e74e8bf155a"
   },
   "outputs": [
    {
     "name": "stdout",
     "output_type": "stream",
     "text": [
      "(50000, 32, 32, 3)\n",
      "(10000, 32, 32, 3)\n",
      "torch.Size([3, 32, 32])\n"
     ]
    }
   ],
   "source": [
    "print(trainset.data.shape)\n",
    "print(testset.data.shape)\n",
    "print(trainset[0][0].shape)"
   ]
  },
  {
   "cell_type": "code",
   "execution_count": 8,
   "metadata": {
    "colab": {
     "base_uri": "https://localhost:8080/"
    },
    "executionInfo": {
     "elapsed": 509,
     "status": "ok",
     "timestamp": 1688542043321,
     "user": {
      "displayName": "유인원",
      "userId": "12609834608015613726"
     },
     "user_tz": -540
    },
    "id": "Z_MMCVmybzDp",
    "outputId": "0cbd83be-c72c-4895-a60e-e2b5831a029e"
   },
   "outputs": [
    {
     "name": "stdout",
     "output_type": "stream",
     "text": [
      "torch.Size([256, 3, 32, 32])\n",
      "tensor([[[-2.4291, -2.4291, -2.4291,  ..., -2.4291, -2.4291, -2.4291],\n",
      "         [-2.4291, -2.4291, -2.4291,  ..., -2.4291, -2.4291, -2.4291],\n",
      "         [-2.4291, -2.4291, -2.4291,  ..., -2.4291, -2.4291, -2.4291],\n",
      "         ...,\n",
      "         [-2.4291, -2.4291, -2.4291,  ..., -0.6457, -0.4712, -0.1804],\n",
      "         [-2.4291, -2.4291, -2.4291,  ..., -0.5681, -0.7038, -0.3355],\n",
      "         [-2.4291, -2.4291, -2.4291,  ..., -0.5487, -0.6844, -0.4324]],\n",
      "\n",
      "        [[-2.4183, -2.4183, -2.4183,  ..., -2.4183, -2.4183, -2.4183],\n",
      "         [-2.4183, -2.4183, -2.4183,  ..., -2.4183, -2.4183, -2.4183],\n",
      "         [-2.4183, -2.4183, -2.4183,  ..., -2.4183, -2.4183, -2.4183],\n",
      "         ...,\n",
      "         [-2.4183, -2.4183, -2.4183,  ..., -0.8842, -0.7072, -0.4122],\n",
      "         [-2.4183, -2.4183, -2.4183,  ..., -0.8449, -0.9826, -0.6482],\n",
      "         [-2.4183, -2.4183, -2.4183,  ..., -0.8056, -0.9432, -0.7269]],\n",
      "\n",
      "        [[-2.2214, -2.2214, -2.2214,  ..., -2.2214, -2.2214, -2.2214],\n",
      "         [-2.2214, -2.2214, -2.2214,  ..., -2.2214, -2.2214, -2.2214],\n",
      "         [-2.2214, -2.2214, -2.2214,  ..., -2.2214, -2.2214, -2.2214],\n",
      "         ...,\n",
      "         [-2.2214, -2.2214, -2.2214,  ..., -1.2459, -1.1093, -0.9142],\n",
      "         [-2.2214, -2.2214, -2.2214,  ..., -1.2459, -1.3825, -1.0898],\n",
      "         [-2.2214, -2.2214, -2.2214,  ..., -1.1678, -1.3044, -1.1678]]])\n"
     ]
    }
   ],
   "source": [
    "trainloader33 = iter(trainloader3)\n",
    "images, labels = next(trainloader33)\n",
    "print(images.shape)\n",
    "print(images[0])"
   ]
  },
  {
   "cell_type": "code",
   "execution_count": 9,
   "metadata": {
    "executionInfo": {
     "elapsed": 4,
     "status": "ok",
     "timestamp": 1688542043321,
     "user": {
      "displayName": "유인원",
      "userId": "12609834608015613726"
     },
     "user_tz": -540
    },
    "id": "OB1MOOuJEieo"
   },
   "outputs": [],
   "source": [
    "import matplotlib.pyplot as plt\n",
    "# trainset 및 testset 데이터 이미지 각각 5개 씩 출력해보기"
   ]
  },
  {
   "cell_type": "code",
   "execution_count": 10,
   "metadata": {
    "colab": {
     "base_uri": "https://localhost:8080/",
     "height": 222
    },
    "executionInfo": {
     "elapsed": 615,
     "status": "ok",
     "timestamp": 1688542043932,
     "user": {
      "displayName": "유인원",
      "userId": "12609834608015613726"
     },
     "user_tz": -540
    },
    "id": "5IJ6lcggEzZh",
    "outputId": "ec338788-56aa-43e6-a980-cf4d9c8f8ae5"
   },
   "outputs": [
    {
     "data": {
      "text/plain": [
       "<function matplotlib.pyplot.show(close=None, block=None)>"
      ]
     },
     "execution_count": 10,
     "metadata": {},
     "output_type": "execute_result"
    },
    {
     "data": {
      "image/png": "[encoded data removed]",
      "text/plain": [
       "<Figure size 640x480 with 2 Axes>"
      ]
     },
     "metadata": {},
     "output_type": "display_data"
    }
   ],
   "source": [
    "plt.subplot(5, 1, 1)\n",
    "plt.imshow(testset.data[100])\n",
    "plt.subplot(5, 1, 2)\n",
    "plt.imshow(testset.data[100])\n",
    "plt.show"
   ]
  },
  {
   "cell_type": "code",
   "execution_count": 11,
   "metadata": {
    "executionInfo": {
     "elapsed": 6,
     "status": "ok",
     "timestamp": 1688542043933,
     "user": {
      "displayName": "유인원",
      "userId": "12609834608015613726"
     },
     "user_tz": -540
    },
    "id": "ZOPBtZGQE2uN"
   },
   "outputs": [],
   "source": [
    "import numpy as np\n",
    "import torch.nn as nn\n",
    "import torch.nn.functional as F\n",
    "import torchsummary\n",
    "# CNN 모델 input channel 3, (32,32) 에 맞게 모델 구축하고 summary 이용하여 모델 모양 출력"
   ]
  },
  {
   "cell_type": "code",
   "execution_count": 13,
   "metadata": {
    "executionInfo": {
     "elapsed": 5,
     "status": "ok",
     "timestamp": 1688469541885,
     "user": {
      "displayName": "유인원",
      "userId": "12609834608015613726"
     },
     "user_tz": -540
    },
    "id": "kS52vHMWdMyj"
   },
   "outputs": [],
   "source": [
    "class SimpleCNN(nn.Module):\n",
    "  def __init__(self):\n",
    "    super(SimpleCNN, self).__init__()\n",
    "    self.name = \"SimpleCNN\"\n",
    "\n",
    "    self.conv_layer = nn.Sequential(\n",
    "        nn.Conv2d(in_channels=3, out_channels=4, kernel_size=(3,3)),\n",
    "        nn.ReLU(inplace=True),\n",
    "        nn.Conv2d(in_channels=4, out_channels=8, kernel_size=(3, 3)),\n",
    "        nn.ReLU(inplace=True),\n",
    "        nn.MaxPool2d(kernel_size=2, stride=2),\n",
    "\n",
    "        nn.Conv2d(in_channels=8, out_channels=16, kernel_size=(3,3)),\n",
    "        nn.ReLU(inplace=True),\n",
    "        nn.Conv2d(in_channels=16, out_channels=16, kernel_size=(3,3)),\n",
    "        nn.ReLU(inplace=True),\n",
    "        nn.MaxPool2d(kernel_size=2, stride=2),\n",
    "    )\n",
    "    # print(self.conv_layer[-3].out_channels, self.conv_layer[-3].kernel_size)\n",
    "    self.fc_layer = nn.Sequential(\n",
    "        nn.Dropout(p=0.5),\n",
    "        nn.Linear(16*5*5, 64),\n",
    "        nn.ReLU(inplace=True),\n",
    "        nn.Linear(64, 32),\n",
    "        nn.ReLU(inplace=True),\n",
    "        nn.Linear(32, 10)\n",
    "    )\n",
    "\n",
    "  def forward(self, x):\n",
    "    x = self.conv_layer(x)\n",
    "    # print(x.shape)\n",
    "    x = x.reshape(x.size(0), -1)\n",
    "    x = self.fc_layer(x)\n",
    "    return x"
   ]
  },
  {
   "cell_type": "code",
   "execution_count": 18,
   "metadata": {
    "colab": {
     "base_uri": "https://localhost:8080/"
    },
    "executionInfo": {
     "elapsed": 3,
     "status": "ok",
     "timestamp": 1688542080407,
     "user": {
      "displayName": "유인원",
      "userId": "12609834608015613726"
     },
     "user_tz": -540
    },
    "id": "LdKJHb32ei6q",
    "outputId": "20c41a61-d7a2-4619-cef0-6f3e73c648a1"
   },
   "outputs": [
    {
     "name": "stdout",
     "output_type": "stream",
     "text": [
      "torch.Size([2, 64, 8, 8])\n",
      "----------------------------------------------------------------\n",
      "        Layer (type)               Output Shape         Param #\n",
      "================================================================\n",
      "            Conv2d-1           [-1, 32, 32, 32]           2,432\n",
      "              ReLU-2           [-1, 32, 32, 32]               0\n",
      "         MaxPool2d-3           [-1, 32, 16, 16]               0\n",
      "            Conv2d-4           [-1, 64, 16, 16]          51,264\n",
      "              ReLU-5           [-1, 64, 16, 16]               0\n",
      "         MaxPool2d-6             [-1, 64, 8, 8]               0\n",
      "           Dropout-7                 [-1, 4096]               0\n",
      "            Linear-8                 [-1, 1000]       4,097,000\n",
      "            Linear-9                   [-1, 10]          10,010\n",
      "================================================================\n",
      "Total params: 4,160,706\n",
      "Trainable params: 4,160,706\n",
      "Non-trainable params: 0\n",
      "----------------------------------------------------------------\n",
      "Input size (MB): 0.01\n",
      "Forward/backward pass size (MB): 0.88\n",
      "Params size (MB): 15.87\n",
      "Estimated Total Size (MB): 16.77\n",
      "----------------------------------------------------------------\n"
     ]
    }
   ],
   "source": [
    "model = SimpleCNN()\n",
    "model = model.to(device)\n",
    "torchsummary.summary(model, input_size=(3, 32, 32), device='cuda')"
   ]
  },
  {
   "cell_type": "code",
   "execution_count": 19,
   "metadata": {
    "executionInfo": {
     "elapsed": 322,
     "status": "ok",
     "timestamp": 1688542139510,
     "user": {
      "displayName": "유인원",
      "userId": "12609834608015613726"
     },
     "user_tz": -540
    },
    "id": "qrxf72Ecexqq"
   },
   "outputs": [],
   "source": [
    "import torch.optim as optim\n",
    "# cross entropy 손실함수, adam 최적화 알고리즘 사용\n",
    "# 모델 training, 60번 배치마다 loss print 및 2 epoch 마다 test data 기반 정확도 출력\n",
    "criterion = nn.CrossEntropyLoss()\n",
    "optimizer = optim.Adam(model.parameters(), lr=0.001)"
   ]
  },
  {
   "cell_type": "code",
   "execution_count": 20,
   "metadata": {
    "executionInfo": {
     "elapsed": 2,
     "status": "ok",
     "timestamp": 1688542139820,
     "user": {
      "displayName": "유인원",
      "userId": "12609834608015613726"
     },
     "user_tz": -540
    },
    "id": "hP-XUz95gMYl"
   },
   "outputs": [],
   "source": [
    "def test_accuracy(model, testloader):\n",
    "  correct = 0\n",
    "  total = 0\n",
    "  with torch.no_grad():\n",
    "    model.eval()\n",
    "    for data in testloader:\n",
    "      images, labels = data[0].to(device), data[1].to(device)\n",
    "      outputs = model(images)\n",
    "      _, predicted = torch.max(outputs.data, 1)\n",
    "      total += labels.size(0)\n",
    "      correct += (predicted == labels).sum().item()\n",
    "  print(f'Accuracy of the network : {100 * correct // total} %')"
   ]
  },
  {
   "cell_type": "code",
   "execution_count": null,
   "metadata": {
    "id": "LWBkMFINhFHY"
   },
   "outputs": [],
   "source": [
    "for epoch in range(1):\n",
    "  model.train()\n",
    "  running_loss = 0.0\n",
    "  for i, data in enumerate(trainloader, 0):\n",
    "    optimizer.zero_grad()\n",
    "    inputs, labels = data\n",
    "    inputs = inputs.to(device)\n",
    "    labels = torch.Tensor(np.eye(10)[labels]).to(device)\n",
    "\n",
    "    outputs = model(inputs)\n",
    "    loss = criterion(outputs, labels)\n",
    "    loss.backward()\n",
    "    optimizer.step()\n",
    "\n",
    "    running_loss += loss.item()\n",
    "    if i % 30 == 29:\n",
    "      print(f'[{epoch + 1}, {i + 1:5d}] loss: {running_loss / 30:.3f}')\n",
    "  test_accuracy(model, testloader)\n",
    "print('Finished')"
   ]
  },
  {
   "cell_type": "code",
   "execution_count": null,
   "metadata": {
    "id": "UHJvj9C6i5z6"
   },
   "outputs": [],
   "source": [
    "correct_pred = {classname: 0 for classname in classes}\n",
    "total_pred = {classname: 0 for classname in classes}\n",
    "\n",
    "with torch.no_grad():\n",
    "  model.eval()\n",
    "  for data in testloader:\n",
    "    images, labels = data[0].to(device), data[1].to(device)\n",
    "    outputs = model(images)\n",
    "    _, predictions = torch.max(outputs, 1)\n",
    "    for label, prediction in zip(labels, predictions):\n",
    "      if label == prediction:\n",
    "        correct_pred[classes[label]] += 1\n",
    "      total_pred[classes[label]] += 1\n",
    "for classname, correct_count in correct_pred.items():\n",
    "  accuracy = 100 * float(correct_count) / total_pred[classname]\n",
    "  print(f'Accuracy for class: {classname:5s} is {accuracy:.1f} %')"
   ]
  },
  {
   "cell_type": "code",
   "execution_count": null,
   "metadata": {
    "executionInfo": {
     "elapsed": 5,
     "status": "aborted",
     "timestamp": 1688542166654,
     "user": {
      "displayName": "유인원",
      "userId": "12609834608015613726"
     },
     "user_tz": -540
    },
    "id": "i8RnZFolRqHU"
   },
   "outputs": [],
   "source": [
    "# 다른 transform 적용 후 정확도가 어떻게 바뀌는 지 확인 (testset은 기본 -1~1 정규화만)\n",
    "# 모델을 바꿔서 정확도 향상시켜보기"
   ]
  },
  {
   "cell_type": "code",
   "execution_count": 31,
   "metadata": {
    "executionInfo": {
     "elapsed": 1811,
     "status": "ok",
     "timestamp": 1688542234938,
     "user": {
      "displayName": "유인원",
      "userId": "12609834608015613726"
     },
     "user_tz": -540
    },
    "id": "9DfisWwijwEW"
   },
   "outputs": [],
   "source": [
    "dataiter = iter(testloader)\n",
    "images, labels = next(dataiter)"
   ]
  },
  {
   "cell_type": "code",
   "execution_count": 32,
   "metadata": {
    "colab": {
     "base_uri": "https://localhost:8080/"
    },
    "executionInfo": {
     "elapsed": 324,
     "status": "ok",
     "timestamp": 1688542236476,
     "user": {
      "displayName": "유인원",
      "userId": "12609834608015613726"
     },
     "user_tz": -540
    },
    "id": "VbCf1lemqYIy",
    "outputId": "a51e1f75-e3dc-40d8-d660-efa2e98ab3d5"
   },
   "outputs": [
    {
     "name": "stdout",
     "output_type": "stream",
     "text": [
      "(256, 32, 32, 3) torch.Size([256, 3, 32, 32])\n"
     ]
    }
   ],
   "source": [
    "# 시각화를 위한 shape 변환\n",
    "images2 = images.numpy().transpose(0, 2, 3, 1)\n",
    "print(images2.shape, images.shape)"
   ]
  },
  {
   "cell_type": "code",
   "execution_count": 25,
   "metadata": {
    "executionInfo": {
     "elapsed": 2,
     "status": "ok",
     "timestamp": 1688542171782,
     "user": {
      "displayName": "유인원",
      "userId": "12609834608015613726"
     },
     "user_tz": -540
    },
    "id": "7H1keibsoU7x"
   },
   "outputs": [],
   "source": [
    "# model 돌린 후 결과와 정답지를 비교하는 시각화 진행, classes 사용하여 class name으로 출력"
   ]
  },
  {
   "cell_type": "code",
   "execution_count": 26,
   "metadata": {
    "colab": {
     "base_uri": "https://localhost:8080/"
    },
    "executionInfo": {
     "elapsed": 1279,
     "status": "ok",
     "timestamp": 1688542173059,
     "user": {
      "displayName": "유인원",
      "userId": "12609834608015613726"
     },
     "user_tz": -540
    },
    "id": "Z8tDfoKYpG7i",
    "outputId": "e2e9aef4-94f3-4504-d0f3-5cea793574be"
   },
   "outputs": [
    {
     "name": "stdout",
     "output_type": "stream",
     "text": [
      "torch.Size([256, 64, 8, 8])\n"
     ]
    }
   ],
   "source": [
    "# xxx\n",
    "with torch.no_grad():\n",
    "  model.to('cpu')\n",
    "  model.eval()\n",
    "  y_pred = model(images)\n",
    "  y_pred2 = np.argmax(y_pred.detach().numpy(), axis=1)\n",
    "  y = labels.detach().numpy()"
   ]
  },
  {
   "cell_type": "code",
   "execution_count": 33,
   "metadata": {
    "colab": {
     "base_uri": "https://localhost:8080/"
    },
    "executionInfo": {
     "elapsed": 816,
     "status": "ok",
     "timestamp": 1688542239957,
     "user": {
      "displayName": "유인원",
      "userId": "12609834608015613726"
     },
     "user_tz": -540
    },
    "id": "Oi9eqCSV9YVY",
    "outputId": "51de155b-7cb9-4887-ce24-5953688d18ce"
   },
   "outputs": [
    {
     "name": "stdout",
     "output_type": "stream",
     "text": [
      "torch.Size([256, 64, 8, 8])\n"
     ]
    }
   ],
   "source": [
    "with torch.no_grad():\n",
    "  model.to('cpu')\n",
    "  model.eval()\n",
    "  # y_pred = model(torch.Tensor(images))\n",
    "  y_pred = model(images)\n",
    "  y_pred2 = np.argmax(y_pred.numpy(), axis=1)\n",
    "  y = labels"
   ]
  },
  {
   "cell_type": "code",
   "execution_count": 27,
   "metadata": {
    "executionInfo": {
     "elapsed": 2,
     "status": "ok",
     "timestamp": 1688542173059,
     "user": {
      "displayName": "유인원",
      "userId": "12609834608015613726"
     },
     "user_tz": -540
    },
    "id": "-cCtYqUZpYj0"
   },
   "outputs": [],
   "source": [
    "def display_test(x, y, y_pred):\n",
    "  plt_r = 10\n",
    "  plt_c = 23\n",
    "  plt.figure(figsize=(25, 15))\n",
    "\n",
    "  for y_pos in range(plt_r):\n",
    "    for x_pos in range(plt_c):\n",
    "      idx = y_pos*plt_c + x_pos\n",
    "\n",
    "      plt.subplot(plt_r, plt_c, idx+1)\n",
    "      prt = '[%s,\\n %s]' % (classes[y[idx]], classes[y_pred[idx]])\n",
    "      plt.title(prt)\n",
    "      plt.imshow(x[idx])\n",
    "\n",
    "      ax = plt.gca()\n",
    "      ax.axes.xaxis.set_visible(False)\n",
    "      ax.axes.yaxis.set_visible(False)\n",
    "  plt.show()"
   ]
  },
  {
   "cell_type": "code",
   "execution_count": 37,
   "metadata": {
    "colab": {
     "base_uri": "https://localhost:8080/",
     "height": 1000,
     "output_embedded_package_id": "1wgFT00AaXupYxdYHqnVMSKx83Rsen4Rr"
    },
    "executionInfo": {
     "elapsed": 13639,
     "status": "ok",
     "timestamp": 1688542335128,
     "user": {
      "displayName": "유인원",
      "userId": "12609834608015613726"
     },
     "user_tz": -540
    },
    "id": "iXw2hicCqA6M",
    "outputId": "ccc397f3-16b9-4903-b06e-e2053292316e"
   },
   "outputs": [
    {
     "data": {
      "text/plain": [
       "Output hidden; open in https://colab.research.google.com to view."
      ]
     },
     "metadata": {},
     "output_type": "display_data"
    }
   ],
   "source": [
    "display_test(images2, y, y_pred2)"
   ]
  },
  {
   "cell_type": "code",
   "execution_count": null,
   "metadata": {
    "executionInfo": {
     "elapsed": 8,
     "status": "aborted",
     "timestamp": 1688469552518,
     "user": {
      "displayName": "유인원",
      "userId": "12609834608015613726"
     },
     "user_tz": -540
    },
    "id": "GbQyxsO6qUpK"
   },
   "outputs": [],
   "source": [
    "|"
   ]
  }
 ],
 "metadata": {
  "colab": {
   "authorship_tag": "ABX9TyM3E3F2irYWe2YC6rUZArvP",
   "provenance": []
  },
  "gpuClass": "standard",
  "kernelspec": {
   "display_name": "Python 3 (ipykernel)",
   "language": "python",
   "name": "python3"
  },
  "language_info": {
   "codemirror_mode": {
    "name": "ipython",
    "version": 3
   },
   "file_extension": ".py",
   "mimetype": "text/x-python",
   "name": "python",
   "nbconvert_exporter": "python",
   "pygments_lexer": "ipython3",
   "version": "3.11.3"
  }
 },
 "nbformat": 4,
 "nbformat_minor": 1
}
