{
 "cells": [
  {
   "cell_type": "code",
   "execution_count": 1,
   "metadata": {
    "executionInfo": {
     "elapsed": 5881,
     "status": "ok",
     "timestamp": 1691128672313,
     "user": {
      "displayName": "InOne U",
      "userId": "15648334942309311251"
     },
     "user_tz": -540
    },
    "id": "zxEWmIvuHvat"
   },
   "outputs": [],
   "source": [
    "import torch\n",
    "import torch.nn as nn\n",
    "import torch.optim as optim\n",
    "from torch.utils.data import DataLoader\n",
    "\n",
    "import torchvision.datasets as datasets\n",
    "import torchvision.transforms as transforms"
   ]
  },
  {
   "cell_type": "markdown",
   "metadata": {
    "colab": {
     "base_uri": "https://localhost:8080/"
    },
    "executionInfo": {
     "elapsed": 5,
     "status": "ok",
     "timestamp": 1691128676506,
     "user": {
      "displayName": "InOne U",
      "userId": "15648334942309311251"
     },
     "user_tz": -540
    },
    "id": "_n26qvF1H0fN",
    "outputId": "e427ea38-7615-44cb-98fe-8fc35637a71b"
   },
   "source": [
    "# device = 'cuda:0' if torch.cuda.is_available() else 'cpu'\n",
    "print('device : ', device)"
   ]
  },
  {
   "cell_type": "code",
   "execution_count": 2,
   "metadata": {},
   "outputs": [],
   "source": [
    "# only for mac\n",
    "device = 'mps'"
   ]
  },
  {
   "cell_type": "code",
   "execution_count": 3,
   "metadata": {
    "executionInfo": {
     "elapsed": 3,
     "status": "ok",
     "timestamp": 1691128681225,
     "user": {
      "displayName": "InOne U",
      "userId": "15648334942309311251"
     },
     "user_tz": -540
    },
    "id": "k4T4lEa_H7mS"
   },
   "outputs": [],
   "source": [
    "# 0~1, -1~1\n",
    "transform = transforms.Compose([\n",
    "    # 0 ~ 1\n",
    "    transforms.ToTensor(),\n",
    "    # (0 - 0.5) / 0.5 --> -1 /  (1 -0.5)/0.5 --> 1 # -1~1\n",
    "    transforms.Normalize((0.5, 0.5, 0.5), (0.5, 0.5, 0.5)),  # (mean), (std) for each channel --> (data - mean) / std\n",
    "    # flip 좌우반전\n",
    "    transforms.RandomHorizontalFlip(p=0.5),\n",
    "])\n",
    "\n",
    "# 0~1, -1~1\n",
    "transform_test = transforms.Compose([\n",
    "    # 0 ~ 1\n",
    "    transforms.ToTensor(),\n",
    "    # (0 - 0.5) / 0.5 --> -1 /  (1 -0.5)/0.5 --> 1 # -1~1\n",
    "    transforms.Normalize((0.5, 0.5, 0.5), (0.5, 0.5, 0.5)),  # (mean), (std) for each channel --> (data - mean) / std\n",
    "])"
   ]
  },
  {
   "cell_type": "code",
   "execution_count": 4,
   "metadata": {
    "colab": {
     "base_uri": "https://localhost:8080/"
    },
    "executionInfo": {
     "elapsed": 18247,
     "status": "ok",
     "timestamp": 1691128705397,
     "user": {
      "displayName": "InOne U",
      "userId": "15648334942309311251"
     },
     "user_tz": -540
    },
    "id": "kVj64Y5YH847",
    "outputId": "263cf554-cfb1-4e30-bc8b-f8fdda83ca69"
   },
   "outputs": [
    {
     "name": "stdout",
     "output_type": "stream",
     "text": [
      "Files already downloaded and verified\n",
      "Files already downloaded and verified\n"
     ]
    }
   ],
   "source": [
    "trainset = datasets.CIFAR10(root='./data', train=True, download=True, transform=transform)\n",
    "testset = datasets.CIFAR10(root='./data', train=False, download=True, transform=transform_test)"
   ]
  },
  {
   "cell_type": "code",
   "execution_count": 5,
   "metadata": {
    "executionInfo": {
     "elapsed": 23,
     "status": "ok",
     "timestamp": 1691128705397,
     "user": {
      "displayName": "InOne U",
      "userId": "15648334942309311251"
     },
     "user_tz": -540
    },
    "id": "khPNaKiPH-Y1"
   },
   "outputs": [],
   "source": [
    "classes = ('plane', 'car', 'bird', 'cat', 'deer', 'dog', 'frog', 'horse', 'ship', 'truck')"
   ]
  },
  {
   "cell_type": "code",
   "execution_count": 6,
   "metadata": {
    "executionInfo": {
     "elapsed": 23,
     "status": "ok",
     "timestamp": 1691128705398,
     "user": {
      "displayName": "InOne U",
      "userId": "15648334942309311251"
     },
     "user_tz": -540
    },
    "id": "CQgGCqCMH_6s"
   },
   "outputs": [],
   "source": [
    "trainloader = torch.utils.data.DataLoader(trainset, batch_size=100, shuffle=True)\n",
    "testloader = torch.utils.data.DataLoader(testset, batch_size=100, shuffle=False)"
   ]
  },
  {
   "cell_type": "code",
   "execution_count": 7,
   "metadata": {
    "executionInfo": {
     "elapsed": 608,
     "status": "ok",
     "timestamp": 1691129196456,
     "user": {
      "displayName": "InOne U",
      "userId": "15648334942309311251"
     },
     "user_tz": -540
    },
    "id": "3Dvti71jIA_y"
   },
   "outputs": [],
   "source": [
    "class simple_cnn(nn.Module):\n",
    "  def __init__(self):\n",
    "    #32/32/3\n",
    "    super(simple_cnn, self).__init__()\n",
    "\n",
    "    self.conv_layer = nn.Sequential(\n",
    "        nn.Conv2d(in_channels=3, out_channels=4, kernel_size=(3,3) ),\n",
    "        nn.ReLU(inplace=True),\n",
    "        nn.Conv2d(in_channels=4, out_channels=16, kernel_size=(3,3) ),\n",
    "        nn.ReLU(inplace=True),\n",
    "        nn.MaxPool2d(kernel_size=2, stride=2 ),\n",
    "\n",
    "        nn.Conv2d(in_channels=16, out_channels=16, kernel_size=(3,3)),\n",
    "        nn.ReLU(inplace=True),\n",
    "        nn.Conv2d(in_channels=16, out_channels=16, kernel_size=(3,3)),\n",
    "        nn.ReLU(inplace=True),\n",
    "        nn.MaxPool2d(kernel_size=2, stride=2),\n",
    "\n",
    "        # 5*5*16\n",
    "    )\n",
    "    # fc layer Linear\n",
    "\n",
    "    self.fc_layer = nn.Sequential(\n",
    "        nn.Dropout(0.5), \n",
    "        nn.Linear(16*5*5, 64),\n",
    "        nn.ReLU(inplace=True), \n",
    "        nn.Linear(64, 32),\n",
    "        nn.ReLU(inplace=True),\n",
    "        nn.Linear(32, 10),        \n",
    "    )\n",
    "\n",
    "  def forward(self, x):\n",
    "    o = self.conv_layer(x)\n",
    "    # 5x5x16 # batch size- channel, h, w\n",
    "    o = o.view(o.shape[0], -1) #numpy reshape\n",
    "    o = self.fc_layer(o)\n",
    "\n",
    "    return o\n"
   ]
  },
  {
   "cell_type": "code",
   "execution_count": 8,
   "metadata": {
    "executionInfo": {
     "elapsed": 6,
     "status": "ok",
     "timestamp": 1691129204992,
     "user": {
      "displayName": "InOne U",
      "userId": "15648334942309311251"
     },
     "user_tz": -540
    },
    "id": "zSaZlYY2J6R1"
   },
   "outputs": [],
   "source": [
    "cnn_net = simple_cnn()"
   ]
  },
  {
   "cell_type": "code",
   "execution_count": 9,
   "metadata": {
    "id": "qNqUYVgcJ8iM"
   },
   "outputs": [
    {
     "name": "stdout",
     "output_type": "stream",
     "text": [
      "----------------------------------------------------------------\n",
      "        Layer (type)               Output Shape         Param #\n",
      "================================================================\n",
      "            Conv2d-1            [-1, 4, 30, 30]             112\n",
      "              ReLU-2            [-1, 4, 30, 30]               0\n",
      "            Conv2d-3           [-1, 16, 28, 28]             592\n",
      "              ReLU-4           [-1, 16, 28, 28]               0\n",
      "         MaxPool2d-5           [-1, 16, 14, 14]               0\n",
      "            Conv2d-6           [-1, 16, 12, 12]           2,320\n",
      "              ReLU-7           [-1, 16, 12, 12]               0\n",
      "            Conv2d-8           [-1, 16, 10, 10]           2,320\n",
      "              ReLU-9           [-1, 16, 10, 10]               0\n",
      "        MaxPool2d-10             [-1, 16, 5, 5]               0\n",
      "          Dropout-11                  [-1, 400]               0\n",
      "           Linear-12                   [-1, 64]          25,664\n",
      "             ReLU-13                   [-1, 64]               0\n",
      "           Linear-14                   [-1, 32]           2,080\n",
      "             ReLU-15                   [-1, 32]               0\n",
      "           Linear-16                   [-1, 10]             330\n",
      "================================================================\n",
      "Total params: 33,418\n",
      "Trainable params: 33,418\n",
      "Non-trainable params: 0\n",
      "----------------------------------------------------------------\n",
      "Input size (MB): 0.01\n",
      "Forward/backward pass size (MB): 0.34\n",
      "Params size (MB): 0.13\n",
      "Estimated Total Size (MB): 0.48\n",
      "----------------------------------------------------------------\n"
     ]
    }
   ],
   "source": [
    "from torchsummary import summary\n",
    "# cnn_net = cnn_net.to(device)\n",
    "summary(cnn_net, (3, 32, 32))"
   ]
  },
  {
   "cell_type": "code",
   "execution_count": 10,
   "metadata": {},
   "outputs": [],
   "source": [
    "criterion = nn.CrossEntropyLoss() #\n",
    "optimizer = optim.Adam(cnn_net.parameters(), lr=0.001)"
   ]
  },
  {
   "cell_type": "code",
   "execution_count": 11,
   "metadata": {},
   "outputs": [],
   "source": [
    "epochs = 10"
   ]
  },
  {
   "cell_type": "code",
   "execution_count": 13,
   "metadata": {},
   "outputs": [
    {
     "name": "stdout",
     "output_type": "stream",
     "text": [
      "epoch0, batch50, loss2.3205461502075195\n",
      "epoch0, batch100, loss2.185717821121216\n",
      "epoch0, batch150, loss2.0120086669921875\n",
      "epoch0, batch200, loss1.7870711088180542\n",
      "epoch0, batch250, loss1.9749960899353027\n",
      "epoch0, batch300, loss1.9124548435211182\n",
      "epoch0, batch350, loss1.6788569688796997\n",
      "epoch0, batch400, loss1.696638822555542\n",
      "epoch0, batch450, loss1.5874279737472534\n",
      "epoch0, batch500, loss1.6580092906951904\n",
      "epoch1, batch50, loss1.778192162513733\n",
      "epoch1, batch100, loss1.688588261604309\n",
      "epoch1, batch150, loss1.4980984926223755\n",
      "epoch1, batch200, loss1.7169549465179443\n",
      "epoch1, batch250, loss1.6189017295837402\n",
      "epoch1, batch300, loss1.5063012838363647\n",
      "epoch1, batch350, loss1.516233205795288\n",
      "epoch1, batch400, loss1.6039565801620483\n",
      "epoch1, batch450, loss1.4284920692443848\n",
      "epoch1, batch500, loss1.6124887466430664\n",
      "epoch2, batch50, loss1.635170340538025\n",
      "epoch2, batch100, loss1.397940993309021\n",
      "epoch2, batch150, loss1.7699902057647705\n",
      "epoch2, batch200, loss1.5164211988449097\n",
      "epoch2, batch250, loss1.4832406044006348\n",
      "epoch2, batch300, loss1.3173131942749023\n",
      "epoch2, batch350, loss1.4103771448135376\n",
      "epoch2, batch400, loss1.6199530363082886\n",
      "epoch2, batch450, loss1.4785287380218506\n",
      "epoch2, batch500, loss1.5896365642547607\n",
      "epoch3, batch50, loss1.4721413850784302\n",
      "epoch3, batch100, loss1.4629778861999512\n",
      "epoch3, batch150, loss1.3961726427078247\n",
      "epoch3, batch200, loss1.553183913230896\n",
      "epoch3, batch250, loss1.408657431602478\n",
      "epoch3, batch300, loss1.3334301710128784\n",
      "epoch3, batch350, loss1.3373936414718628\n",
      "epoch3, batch400, loss1.3641865253448486\n",
      "epoch3, batch450, loss1.4141311645507812\n",
      "epoch3, batch500, loss1.6294620037078857\n",
      "epoch4, batch50, loss1.5338112115859985\n",
      "epoch4, batch100, loss1.5516619682312012\n",
      "epoch4, batch150, loss1.3232073783874512\n",
      "epoch4, batch200, loss1.300685167312622\n",
      "epoch4, batch250, loss1.2793300151824951\n",
      "epoch4, batch300, loss1.230519413948059\n",
      "epoch4, batch350, loss1.4995324611663818\n",
      "epoch4, batch400, loss1.3934000730514526\n",
      "epoch4, batch450, loss1.46126127243042\n",
      "epoch4, batch500, loss1.4694268703460693\n",
      "epoch5, batch50, loss1.5015933513641357\n",
      "epoch5, batch100, loss1.4043062925338745\n",
      "epoch5, batch150, loss1.4165430068969727\n",
      "epoch5, batch200, loss1.285288691520691\n",
      "epoch5, batch250, loss1.4184811115264893\n",
      "epoch5, batch300, loss1.5187597274780273\n",
      "epoch5, batch350, loss1.2581639289855957\n",
      "epoch5, batch400, loss1.3355035781860352\n",
      "epoch5, batch450, loss1.3681477308273315\n",
      "epoch5, batch500, loss1.2691733837127686\n",
      "epoch6, batch50, loss1.2587043046951294\n",
      "epoch6, batch100, loss1.396602749824524\n",
      "epoch6, batch150, loss1.214038610458374\n",
      "epoch6, batch200, loss1.443794846534729\n",
      "epoch6, batch250, loss1.401671290397644\n",
      "epoch6, batch300, loss1.2245842218399048\n",
      "epoch6, batch350, loss1.3324741125106812\n",
      "epoch6, batch400, loss1.391725778579712\n",
      "epoch6, batch450, loss1.3800222873687744\n",
      "epoch6, batch500, loss1.3131009340286255\n",
      "epoch7, batch50, loss1.3373115062713623\n",
      "epoch7, batch100, loss1.3091436624526978\n",
      "epoch7, batch150, loss1.255556344985962\n",
      "epoch7, batch200, loss1.5354666709899902\n",
      "epoch7, batch250, loss1.1997044086456299\n",
      "epoch7, batch300, loss1.2762727737426758\n",
      "epoch7, batch350, loss1.309389591217041\n",
      "epoch7, batch400, loss1.2841742038726807\n",
      "epoch7, batch450, loss1.3643378019332886\n",
      "epoch7, batch500, loss1.6061694622039795\n",
      "epoch8, batch50, loss1.2131544351577759\n",
      "epoch8, batch100, loss1.1537885665893555\n",
      "epoch8, batch150, loss1.3057862520217896\n",
      "epoch8, batch200, loss1.1308083534240723\n",
      "epoch8, batch250, loss1.2230687141418457\n",
      "epoch8, batch300, loss1.1788557767868042\n",
      "epoch8, batch350, loss1.1336840391159058\n",
      "epoch8, batch400, loss0.9858207106590271\n",
      "epoch8, batch450, loss1.3986800909042358\n",
      "epoch8, batch500, loss1.313665747642517\n",
      "epoch9, batch50, loss1.2048935890197754\n",
      "epoch9, batch100, loss1.2090296745300293\n",
      "epoch9, batch150, loss1.3177902698516846\n",
      "epoch9, batch200, loss1.2724133729934692\n",
      "epoch9, batch250, loss1.3144603967666626\n",
      "epoch9, batch300, loss1.2774114608764648\n",
      "epoch9, batch350, loss1.2245125770568848\n",
      "epoch9, batch400, loss1.2951377630233765\n",
      "epoch9, batch450, loss1.5150561332702637\n",
      "epoch9, batch500, loss1.2810920476913452\n"
     ]
    }
   ],
   "source": [
    "cnn_net = cnn_net.to(device)\n",
    "for e in range(epochs):\n",
    "  for it_bat, (img, lab) in enumerate(trainloader):\n",
    "    img = img.to(device)\n",
    "    lab = lab.to(device)\n",
    "\n",
    "    optimizer.zero_grad()\n",
    "    outputs = cnn_net(img)\n",
    "\n",
    "    loss = criterion(outputs, lab)\n",
    "    loss.backward()\n",
    "\n",
    "    optimizer.step()\n",
    "\n",
    "    if (it_bat+1) % 50 == 0:\n",
    "      print(f'epoch{e}, batch{it_bat+1}, loss{loss.item()}')\n"
   ]
  },
  {
   "cell_type": "code",
   "execution_count": null,
   "metadata": {},
   "outputs": [],
   "source": []
  }
 ],
 "metadata": {
  "accelerator": "GPU",
  "colab": {
   "authorship_tag": "ABX9TyOl7oNWlqUjtc+mZ6I6rSo1",
   "gpuType": "T4",
   "provenance": []
  },
  "kernelspec": {
   "display_name": "Python 3 (ipykernel)",
   "language": "python",
   "name": "python3"
  },
  "language_info": {
   "codemirror_mode": {
    "name": "ipython",
    "version": 3
   },
   "file_extension": ".py",
   "mimetype": "text/x-python",
   "name": "python",
   "nbconvert_exporter": "python",
   "pygments_lexer": "ipython3",
   "version": "3.11.3"
  }
 },
 "nbformat": 4,
 "nbformat_minor": 1
}
