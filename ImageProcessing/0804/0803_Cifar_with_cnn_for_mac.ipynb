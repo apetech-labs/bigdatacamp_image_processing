{
 "cells": [
  {
   "cell_type": "code",
   "execution_count": 1,
   "metadata": {
    "executionInfo": {
     "elapsed": 5881,
     "status": "ok",
     "timestamp": 1691128672313,
     "user": {
      "displayName": "InOne U",
      "userId": "15648334942309311251"
     },
     "user_tz": -540
    },
    "id": "zxEWmIvuHvat"
   },
   "outputs": [],
   "source": [
    "import torch\n",
    "import torch.nn as nn\n",
    "import torch.optim as optim\n",
    "from torch.utils.data import DataLoader\n",
    "\n",
    "import torchvision.datasets as datasets\n",
    "import torchvision.transforms as transforms"
   ]
  },
  {
   "cell_type": "markdown",
   "metadata": {
    "colab": {
     "base_uri": "https://localhost:8080/"
    },
    "executionInfo": {
     "elapsed": 5,
     "status": "ok",
     "timestamp": 1691128676506,
     "user": {
      "displayName": "InOne U",
      "userId": "15648334942309311251"
     },
     "user_tz": -540
    },
    "id": "_n26qvF1H0fN",
    "outputId": "e427ea38-7615-44cb-98fe-8fc35637a71b"
   },
   "source": [
    "# device = 'cuda:0' if torch.cuda.is_available() else 'cpu'\n",
    "print('device : ', device)"
   ]
  },
  {
   "cell_type": "code",
   "execution_count": 2,
   "metadata": {},
   "outputs": [],
   "source": [
    "# only for mac\n",
    "device = 'mps'"
   ]
  },
  {
   "cell_type": "code",
   "execution_count": 3,
   "metadata": {
    "executionInfo": {
     "elapsed": 3,
     "status": "ok",
     "timestamp": 1691128681225,
     "user": {
      "displayName": "InOne U",
      "userId": "15648334942309311251"
     },
     "user_tz": -540
    },
    "id": "k4T4lEa_H7mS"
   },
   "outputs": [],
   "source": [
    "# 0~1, -1~1\n",
    "transform = transforms.Compose([\n",
    "    # 0 ~ 1\n",
    "    transforms.ToTensor(),\n",
    "    # (0 - 0.5) / 0.5 --> -1 /  (1 -0.5)/0.5 --> 1 # -1~1\n",
    "    transforms.Normalize((0.5, 0.5, 0.5), (0.5, 0.5, 0.5)),  # (mean), (std) for each channel --> (data - mean) / std\n",
    "    # flip 좌우반전\n",
    "    transforms.RandomHorizontalFlip(p=0.5),\n",
    "])\n",
    "\n",
    "# 0~1, -1~1\n",
    "transform_test = transforms.Compose([\n",
    "    # 0 ~ 1\n",
    "    transforms.ToTensor(),\n",
    "    # (0 - 0.5) / 0.5 --> -1 /  (1 -0.5)/0.5 --> 1 # -1~1\n",
    "    transforms.Normalize((0.5, 0.5, 0.5), (0.5, 0.5, 0.5)),  # (mean), (std) for each channel --> (data - mean) / std\n",
    "])"
   ]
  },
  {
   "cell_type": "code",
   "execution_count": 4,
   "metadata": {
    "colab": {
     "base_uri": "https://localhost:8080/"
    },
    "executionInfo": {
     "elapsed": 18247,
     "status": "ok",
     "timestamp": 1691128705397,
     "user": {
      "displayName": "InOne U",
      "userId": "15648334942309311251"
     },
     "user_tz": -540
    },
    "id": "kVj64Y5YH847",
    "outputId": "263cf554-cfb1-4e30-bc8b-f8fdda83ca69"
   },
   "outputs": [
    {
     "name": "stdout",
     "output_type": "stream",
     "text": [
      "Files already downloaded and verified\n",
      "Files already downloaded and verified\n"
     ]
    }
   ],
   "source": [
    "trainset = datasets.CIFAR10(root='./data', train=True, download=True, transform=transform)\n",
    "testset = datasets.CIFAR10(root='./data', train=False, download=True, transform=transform_test)"
   ]
  },
  {
   "cell_type": "code",
   "execution_count": 5,
   "metadata": {
    "executionInfo": {
     "elapsed": 23,
     "status": "ok",
     "timestamp": 1691128705397,
     "user": {
      "displayName": "InOne U",
      "userId": "15648334942309311251"
     },
     "user_tz": -540
    },
    "id": "khPNaKiPH-Y1"
   },
   "outputs": [],
   "source": [
    "classes = ('plane', 'car', 'bird', 'cat', 'deer', 'dog', 'frog', 'horse', 'ship', 'truck')"
   ]
  },
  {
   "cell_type": "code",
   "execution_count": 6,
   "metadata": {
    "executionInfo": {
     "elapsed": 23,
     "status": "ok",
     "timestamp": 1691128705398,
     "user": {
      "displayName": "InOne U",
      "userId": "15648334942309311251"
     },
     "user_tz": -540
    },
    "id": "CQgGCqCMH_6s"
   },
   "outputs": [],
   "source": [
    "trainloader = torch.utils.data.DataLoader(trainset, batch_size=100, shuffle=True)\n",
    "testloader = torch.utils.data.DataLoader(testset, batch_size=100, shuffle=False)"
   ]
  },
  {
   "cell_type": "code",
   "execution_count": 7,
   "metadata": {},
   "outputs": [],
   "source": [
    "# output = input-kernel+(2*padding) / stride + 1\n",
    "# output = 32 - 3 + (2) / 1 + 1\n",
    "\n",
    "class AlexNet(nn.Module) :\n",
    "    def __init__(self) :\n",
    "        super(AlexNet, self).__init__()\n",
    "        self.name = \"AlexNet\"\n",
    "        self.conv_layer1 = nn.Sequential(\n",
    "            nn.Conv2d(3, 96, kernel_size=(4, 4)),\n",
    "            nn.ReLU(inplace=True),\n",
    "        )\n",
    "        self.conv_layer2 = nn.Sequential(\n",
    "            nn.Conv2d(96, 256, kernel_size=(5, 5), padding=(2, 2)),\n",
    "            nn.ReLU(inplace=True),\n",
    "            nn.MaxPool2d(kernel_size=3, stride=2)\n",
    "        )\n",
    "        self.conv_layer3 = nn.Sequential(\n",
    "            nn.Conv2d(256, 384, kernel_size=(3, 3), padding=(1, 1)),\n",
    "            nn.ReLU(inplace=True),\n",
    "            nn.Conv2d(384, 384, kernel_size=(3, 3), padding=(1, 1)),\n",
    "            nn.ReLU(inplace=True),\n",
    "            nn.Conv2d(384, 256, kernel_size=(3, 3), padding=(1, 1)),\n",
    "            nn.ReLU(inplace=True),\n",
    "            nn.MaxPool2d(kernel_size=3, stride=2)\n",
    "        )\n",
    "        self.fc_layer1 = nn.Sequential(\n",
    "            nn.Dropout(p = 0.5),\n",
    "            nn.Linear(9216, 4096),\n",
    "            nn.ReLU(inplace=True),\n",
    "            nn.Dropout(p = 0.5),\n",
    "            nn.Linear(4096, 4096),\n",
    "            nn.ReLU(inplace=True),\n",
    "            nn.Linear(4096, 10)\n",
    "        )\n",
    "\n",
    "    def forward(self, x) :\n",
    "        output = self.conv_layer1(x)\n",
    "        output = self.conv_layer2(output)\n",
    "        output = self.conv_layer3(output)\n",
    "        output = output.view(-1, 9216)\n",
    "        output = self.fc_layer1(output)\n",
    "        return output"
   ]
  },
  {
   "cell_type": "code",
   "execution_count": 8,
   "metadata": {
    "executionInfo": {
     "elapsed": 608,
     "status": "ok",
     "timestamp": 1691129196456,
     "user": {
      "displayName": "InOne U",
      "userId": "15648334942309311251"
     },
     "user_tz": -540
    },
    "id": "3Dvti71jIA_y"
   },
   "outputs": [],
   "source": [
    "class simple_cnn(nn.Module):\n",
    "  def __init__(self):\n",
    "    #32/32/3\n",
    "    super(simple_cnn, self).__init__()\n",
    "\n",
    "    self.conv_layer = nn.Sequential(\n",
    "        nn.Conv2d(in_channels=3, out_channels=4, kernel_size=(3,3) ),\n",
    "        nn.ReLU(inplace=True),\n",
    "        nn.Conv2d(in_channels=4, out_channels=16, kernel_size=(3,3) ),\n",
    "        nn.ReLU(inplace=True),\n",
    "        nn.MaxPool2d(kernel_size=2, stride=2 ),\n",
    "\n",
    "        nn.Conv2d(in_channels=16, out_channels=16, kernel_size=(3,3)),\n",
    "        nn.ReLU(inplace=True),\n",
    "        nn.Conv2d(in_channels=16, out_channels=16, kernel_size=(3,3)),\n",
    "        nn.ReLU(inplace=True),\n",
    "        nn.MaxPool2d(kernel_size=2, stride=2),\n",
    "\n",
    "        # 5*5*16\n",
    "    )\n",
    "    # fc layer Linear\n",
    "\n",
    "    self.fc_layer = nn.Sequential(\n",
    "        nn.Dropout(0.5), \n",
    "        nn.Linear(16*5*5, 64),\n",
    "        nn.ReLU(inplace=True), \n",
    "        nn.Linear(64, 32),\n",
    "        nn.ReLU(inplace=True),\n",
    "        nn.Linear(32, 10),        \n",
    "    )\n",
    "\n",
    "  def forward(self, x):\n",
    "    o = self.conv_layer(x)\n",
    "    # 5x5x16 # batch size- channel, h, w\n",
    "    o = o.view(o.shape[0], -1) #numpy reshape\n",
    "    o = self.fc_layer(o)\n",
    "\n",
    "    return o\n"
   ]
  },
  {
   "cell_type": "code",
   "execution_count": 9,
   "metadata": {
    "executionInfo": {
     "elapsed": 6,
     "status": "ok",
     "timestamp": 1691129204992,
     "user": {
      "displayName": "InOne U",
      "userId": "15648334942309311251"
     },
     "user_tz": -540
    },
    "id": "zSaZlYY2J6R1"
   },
   "outputs": [],
   "source": [
    "# cnn_net = simple_cnn()\n",
    "cnn_net = AlexNet()"
   ]
  },
  {
   "cell_type": "code",
   "execution_count": 10,
   "metadata": {
    "id": "qNqUYVgcJ8iM"
   },
   "outputs": [
    {
     "name": "stdout",
     "output_type": "stream",
     "text": [
      "----------------------------------------------------------------\n",
      "        Layer (type)               Output Shape         Param #\n",
      "================================================================\n",
      "            Conv2d-1           [-1, 96, 29, 29]           4,704\n",
      "              ReLU-2           [-1, 96, 29, 29]               0\n",
      "            Conv2d-3          [-1, 256, 29, 29]         614,656\n",
      "              ReLU-4          [-1, 256, 29, 29]               0\n",
      "         MaxPool2d-5          [-1, 256, 14, 14]               0\n",
      "            Conv2d-6          [-1, 384, 14, 14]         885,120\n",
      "              ReLU-7          [-1, 384, 14, 14]               0\n",
      "            Conv2d-8          [-1, 384, 14, 14]       1,327,488\n",
      "              ReLU-9          [-1, 384, 14, 14]               0\n",
      "           Conv2d-10          [-1, 256, 14, 14]         884,992\n",
      "             ReLU-11          [-1, 256, 14, 14]               0\n",
      "        MaxPool2d-12            [-1, 256, 6, 6]               0\n",
      "          Dropout-13                 [-1, 9216]               0\n",
      "           Linear-14                 [-1, 4096]      37,752,832\n",
      "             ReLU-15                 [-1, 4096]               0\n",
      "          Dropout-16                 [-1, 4096]               0\n",
      "           Linear-17                 [-1, 4096]      16,781,312\n",
      "             ReLU-18                 [-1, 4096]               0\n",
      "           Linear-19                   [-1, 10]          40,970\n",
      "================================================================\n",
      "Total params: 58,292,074\n",
      "Trainable params: 58,292,074\n",
      "Non-trainable params: 0\n",
      "----------------------------------------------------------------\n",
      "Input size (MB): 0.01\n",
      "Forward/backward pass size (MB): 8.26\n",
      "Params size (MB): 222.37\n",
      "Estimated Total Size (MB): 230.64\n",
      "----------------------------------------------------------------\n"
     ]
    }
   ],
   "source": [
    "from torchsummary import summary\n",
    "# cnn_net = cnn_net.to(device)\n",
    "summary(cnn_net, (3, 32, 32))"
   ]
  },
  {
   "cell_type": "code",
   "execution_count": 11,
   "metadata": {},
   "outputs": [],
   "source": [
    "criterion = nn.CrossEntropyLoss() #\n",
    "optimizer = optim.Adam(cnn_net.parameters(), lr=0.001)"
   ]
  },
  {
   "cell_type": "code",
   "execution_count": 12,
   "metadata": {},
   "outputs": [],
   "source": [
    "epochs = 10"
   ]
  },
  {
   "cell_type": "code",
   "execution_count": 13,
   "metadata": {
    "scrolled": false
   },
   "outputs": [
    {
     "name": "stdout",
     "output_type": "stream",
     "text": [
      "epoch0, batch100, loss1.8480874300003052\n",
      "correct118, total400, acc29.5\n",
      "epoch0, batch200, loss1.7065114974975586\n",
      "correct148, total400, acc37.0\n",
      "epoch0, batch300, loss1.4795459508895874\n",
      "correct172, total400, acc43.0\n",
      "epoch0, batch400, loss1.586977243423462\n",
      "correct170, total400, acc42.5\n",
      "epoch0, batch500, loss1.4009839296340942\n",
      "correct216, total400, acc54.0\n"
     ]
    },
    {
     "ename": "KeyboardInterrupt",
     "evalue": "",
     "output_type": "error",
     "traceback": [
      "\u001b[0;31m---------------------------------------------------------------------------\u001b[0m",
      "\u001b[0;31mKeyboardInterrupt\u001b[0m                         Traceback (most recent call last)",
      "Cell \u001b[0;32mIn[13], line 4\u001b[0m\n\u001b[1;32m      2\u001b[0m \u001b[38;5;28;01mfor\u001b[39;00m e \u001b[38;5;129;01min\u001b[39;00m \u001b[38;5;28mrange\u001b[39m(epochs):\n\u001b[1;32m      3\u001b[0m   \u001b[38;5;28;01mfor\u001b[39;00m it_bat, (img, lab) \u001b[38;5;129;01min\u001b[39;00m \u001b[38;5;28menumerate\u001b[39m(trainloader):\n\u001b[0;32m----> 4\u001b[0m     img \u001b[38;5;241m=\u001b[39m \u001b[43mimg\u001b[49m\u001b[38;5;241;43m.\u001b[39;49m\u001b[43mto\u001b[49m\u001b[43m(\u001b[49m\u001b[43mdevice\u001b[49m\u001b[43m)\u001b[49m\n\u001b[1;32m      5\u001b[0m     lab \u001b[38;5;241m=\u001b[39m lab\u001b[38;5;241m.\u001b[39mto(device)\n\u001b[1;32m      7\u001b[0m     optimizer\u001b[38;5;241m.\u001b[39mzero_grad()\n",
      "\u001b[0;31mKeyboardInterrupt\u001b[0m: "
     ]
    }
   ],
   "source": [
    "cnn_net = cnn_net.to(device)\n",
    "for e in range(epochs):\n",
    "  for it_bat, (img, lab) in enumerate(trainloader):\n",
    "    img = img.to(device)\n",
    "    lab = lab.to(device)\n",
    "\n",
    "    optimizer.zero_grad()\n",
    "    outputs = cnn_net(img)\n",
    "\n",
    "    loss = criterion(outputs, lab)\n",
    "    loss.backward()\n",
    "\n",
    "    optimizer.step()\n",
    "\n",
    "    if (it_bat+1) % 100 == 0:\n",
    "        print(f'epoch{e}, batch{it_bat+1}, loss{loss.item()}')\n",
    "        with torch.no_grad():\n",
    "            cnn_net.eval()\n",
    "            total_cnt =0\n",
    "            correct_cnt=0\n",
    "            for it_batch, (img, lab) in enumerate(testloader):\n",
    "                img = img.to(device)\n",
    "                lab = lab.to(device)\n",
    "\n",
    "                total_cnt += img.shape[0]\n",
    "                outputs = cnn_net(img)\n",
    "\n",
    "                pred = torch.argmax(outputs, axis=1)\n",
    "                correct_cnt +=(pred == lab).sum().item()\n",
    "                \n",
    "                if it_batch > 2:\n",
    "                    break;\n",
    "            print(f'correct{correct_cnt}, total{total_cnt}, acc{correct_cnt/total_cnt*100}')\n",
    "        cnn_net.train()\n"
   ]
  },
  {
   "cell_type": "code",
   "execution_count": null,
   "metadata": {},
   "outputs": [],
   "source": [
    "sample = next(iter(testloader))\n",
    "o = cnn_net(sample[0].to(device))\n",
    "pred = torch.argmax(o, axis=1).to('cpu')\n",
    "correct = pred == sample[1]\n",
    "correct.sum().item()"
   ]
  },
  {
   "cell_type": "code",
   "execution_count": null,
   "metadata": {},
   "outputs": [],
   "source": [
    "import matplotlib.pyplot as plt\n",
    "\n",
    "def display_sample(img, gt, pred):\n",
    "  img = img.numpy()\n",
    "  img = img.transpose(1, 2, 0)\n",
    "  img = img * 0.5 + 0.5\n",
    "\n",
    "  plt.figure(figsize=(3,3))\n",
    "  title_ = 'gt[%s],pred[%s]' % (classes[gt.item()], classes[pred.item()])\n",
    "  plt.title(title_)\n",
    "  plt.imshow(img)\n",
    "  plt.show()"
   ]
  },
  {
   "cell_type": "code",
   "execution_count": null,
   "metadata": {
    "scrolled": false
   },
   "outputs": [],
   "source": [
    "for it_sample in range(sample[0].shape[0]):\n",
    "  display_sample(sample[0][it_sample], sample[1][it_sample], pred[it_sample])"
   ]
  },
  {
   "cell_type": "code",
   "execution_count": null,
   "metadata": {},
   "outputs": [],
   "source": []
  }
 ],
 "metadata": {
  "accelerator": "GPU",
  "colab": {
   "authorship_tag": "ABX9TyOl7oNWlqUjtc+mZ6I6rSo1",
   "gpuType": "T4",
   "provenance": []
  },
  "kernelspec": {
   "display_name": "Python 3 (ipykernel)",
   "language": "python",
   "name": "python3"
  },
  "language_info": {
   "codemirror_mode": {
    "name": "ipython",
    "version": 3
   },
   "file_extension": ".py",
   "mimetype": "text/x-python",
   "name": "python",
   "nbconvert_exporter": "python",
   "pygments_lexer": "ipython3",
   "version": "3.11.3"
  }
 },
 "nbformat": 4,
 "nbformat_minor": 1
}
