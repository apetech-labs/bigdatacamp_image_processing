{
 "cells": [
  {
   "cell_type": "code",
   "execution_count": null,
   "metadata": {
    "executionInfo": {
     "elapsed": 4439,
     "status": "ok",
     "timestamp": 1691122307317,
     "user": {
      "displayName": "유인원",
      "userId": "12609834608015613726"
     },
     "user_tz": -540
    },
    "id": "_filgiyN4NcA"
   },
   "outputs": [],
   "source": [
    "import torch\n",
    "import torch.nn as nn\n",
    "import torch.optim as potim\n",
    "from torch.utils.data import DataLoader\n",
    "\n",
    "import torchvision.datasets as datasets\n",
    "import torchvision.transforms as transforms"
   ]
  },
  {
   "cell_type": "code",
   "execution_count": null,
   "metadata": {
    "executionInfo": {
     "elapsed": 3,
     "status": "ok",
     "timestamp": 1691122307317,
     "user": {
      "displayName": "유인원",
      "userId": "12609834608015613726"
     },
     "user_tz": -540
    },
    "id": "5L6Zmzn65Fy8"
   },
   "outputs": [],
   "source": [
    "train_dataset = datasets.MNIST(root='./data', train=True, transform=transforms.ToTensor(), download=True)\n",
    "test_dataset = datasets.MNIST(root='./data', train=False, transform=transforms.ToTensor())\n",
    "\n",
    "train_loader = DataLoader(dataset=train_dataset, batch_size=100, shuffle=True)\n",
    "test_loader = DataLoader(dataset=test_dataset, batch_size=100, shuffle=False)"
   ]
  },
  {
   "cell_type": "code",
   "execution_count": null,
   "metadata": {
    "colab": {
     "base_uri": "https://localhost:8080/"
    },
    "executionInfo": {
     "elapsed": 3,
     "status": "ok",
     "timestamp": 1691122307317,
     "user": {
      "displayName": "유인원",
      "userId": "12609834608015613726"
     },
     "user_tz": -540
    },
    "id": "mlwJa4jF5H5s",
    "outputId": "259168f2-319e-4038-b53f-432f07fe500e"
   },
   "outputs": [],
   "source": [
    "# input datas\n",
    "train_dataset.data.shape, test_dataset.data.shape\n",
    "\n",
    "# output datas\n",
    "train_dataset.targets.shape, test_dataset.targets.shape"
   ]
  },
  {
   "cell_type": "code",
   "execution_count": null,
   "metadata": {
    "executionInfo": {
     "elapsed": 1,
     "status": "ok",
     "timestamp": 1691122307317,
     "user": {
      "displayName": "유인원",
      "userId": "12609834608015613726"
     },
     "user_tz": -540
    },
    "id": "3S1vVCY65Krn"
   },
   "outputs": [],
   "source": [
    "import matplotlib.pyplot as plt"
   ]
  },
  {
   "cell_type": "code",
   "execution_count": null,
   "metadata": {
    "id": "xDaCXd-V5MLL"
   },
   "outputs": [],
   "source": [
    "plot_size = 4\n",
    "for it_sam, _sample in enumerate(train_dataset.data[:10]):\n",
    "\n",
    "    cur_idx = it_sam%plot_size+1\n",
    "\n",
    "    plt.subplot(1, plot_size, cur_idx)\n",
    "\n",
    "    _sample_target = train_dataset.targets[it_sam]\n",
    "    plt.title(_sample_target.item())\n",
    "    plt.imshow(_sample, 'gray')\n",
    "\n",
    "\n",
    "    if cur_idx == plot_size:\n",
    "        plt.show()"
   ]
  },
  {
   "cell_type": "code",
   "execution_count": null,
   "metadata": {
    "id": "-hkWEPam5N5I"
   },
   "outputs": [],
   "source": [
    "# input normalize, mini-batch\n",
    "sample_ = next(iter(train_loader))"
   ]
  },
  {
   "cell_type": "code",
   "execution_count": null,
   "metadata": {
    "id": "i2qDchbZ7Eks"
   },
   "outputs": [],
   "source": [
    "train_dataset.data[0]"
   ]
  },
  {
   "cell_type": "code",
   "execution_count": null,
   "metadata": {
    "id": "cyp3drw86az-"
   },
   "outputs": [],
   "source": [
    "sample_[0].shape # input # sample_[1] # target"
   ]
  },
  {
   "cell_type": "code",
   "execution_count": null,
   "metadata": {
    "id": "jhIp9JLJnMr6"
   },
   "outputs": [],
   "source": [
    "sample_[1].dtype"
   ]
  },
  {
   "cell_type": "code",
   "execution_count": null,
   "metadata": {
    "executionInfo": {
     "elapsed": 3,
     "status": "ok",
     "timestamp": 1691122310798,
     "user": {
      "displayName": "유인원",
      "userId": "12609834608015613726"
     },
     "user_tz": -540
    },
    "id": "3RsQYt0L6fN9"
   },
   "outputs": [],
   "source": [
    "class mnist_fcn(nn.Module):\n",
    "  def __init__(self, input_size, output_size=10, layers=[120, 84]):\n",
    "    super(mnist_fcn, self).__init__()\n",
    "    self.fc1 = nn.Linear(input_size, layers[0])\n",
    "    self.fc2 = nn.Linear(layers[0], layers[1])\n",
    "    self.fc3 = nn.Linear(layers[1], output_size)\n",
    "\n",
    "    self.relu = nn.ReLU(inplace=True)\n",
    "\n",
    "  def forward(self, x):\n",
    "    o = self.relu(self.fc1(x))\n",
    "    o = self.relu(self.fc2(o))\n",
    "    o = self.fc3(o)\n",
    "\n",
    "    return o"
   ]
  },
  {
   "cell_type": "code",
   "execution_count": null,
   "metadata": {
    "colab": {
     "base_uri": "https://localhost:8080/"
    },
    "executionInfo": {
     "elapsed": 5,
     "status": "ok",
     "timestamp": 1691122315792,
     "user": {
      "displayName": "유인원",
      "userId": "12609834608015613726"
     },
     "user_tz": -540
    },
    "id": "cfx33F5l8CAU",
    "outputId": "4d219e6c-59f5-4a0e-a898-31e7ee3bcd01"
   },
   "outputs": [],
   "source": [
    "model = mnist_fcn(784, 1) # categori 3 [0, 0, 0, 1, 0, 0, 0, ] --> MSE 0~9\n",
    "print(model)"
   ]
  },
  {
   "cell_type": "code",
   "execution_count": null,
   "metadata": {
    "executionInfo": {
     "elapsed": 3,
     "status": "ok",
     "timestamp": 1691122315793,
     "user": {
      "displayName": "유인원",
      "userId": "12609834608015613726"
     },
     "user_tz": -540
    },
    "id": "M1sMh_14Ef9V"
   },
   "outputs": [],
   "source": [
    "# device = 'cuda:0' if torch.cuda.is_available() else 'cpu'\n",
    "device = 'mps'\n"
   ]
  },
  {
   "cell_type": "code",
   "execution_count": null,
   "metadata": {
    "executionInfo": {
     "elapsed": 3,
     "status": "ok",
     "timestamp": 1691122316925,
     "user": {
      "displayName": "유인원",
      "userId": "12609834608015613726"
     },
     "user_tz": -540
    },
    "id": "o1njnZI48m08"
   },
   "outputs": [],
   "source": [
    "# criterion = nn.CrossEntropyLoss() # Categori class, 0 1 2 3\n",
    "criterion = nn.MSELoss() # Linear\n",
    "optimizer = torch.optim.Adam(model.parameters(), lr=0.01)"
   ]
  },
  {
   "cell_type": "code",
   "execution_count": null,
   "metadata": {
    "colab": {
     "base_uri": "https://localhost:8080/"
    },
    "id": "N6d_pcTc-Jor",
    "outputId": "210f28de-6181-4147-9e2d-3ce5676da08f"
   },
   "outputs": [],
   "source": [
    "epochs= 5\n",
    "model = model.to(device)\n",
    "for e in range(epochs):\n",
    "\n",
    "  for it_batch, (images, labels) in enumerate(train_loader):\n",
    "    # 100, 1, 28, 28 --> 100, 784(28*28*1)\n",
    "    images = images.reshape(-1, 784)\n",
    "    images = images.to(device) # if gpu is ture : cpu --> gpu\n",
    "\n",
    "    labels = labels.reshape(-1, 1)\n",
    "    labels = labels.type(torch.float32)\n",
    "    labels = labels.to(device)\n",
    "\n",
    "    optimizer.zero_grad()\n",
    "    outputs = model(images)\n",
    "    loss = criterion(outputs, labels)\n",
    "    loss.backward()\n",
    "    optimizer.step()\n",
    "\n",
    "    if (it_batch+1) % 100 == 0:\n",
    "      print(f'epoch:{e}, batch:{it_batch+1}, curr_loss:{loss.item()}')\n",
    "      with torch.no_grad():\n",
    "        model.eval()\n",
    "        total_sum = 0\n",
    "        correct_sum =0\n",
    "        for it_batch, (images, labels) in enumerate(test_loader):\n",
    "          images = images.reshape(-1, 784)\n",
    "          images = images.to(device) # if gpu is ture : cpu --> gpu\n",
    "          labels = labels.reshape(-1, 1)\n",
    "          labels = labels.type(torch.float32)\n",
    "          labels = labels.to(device)\n",
    "          total_sum += images.shape[0]\n",
    "\n",
    "\n",
    "          outputs = model(images)\n",
    "          # pred = torch.argmax(outputs, axis=1)\n",
    "          # correct_sum += (pred == labels).sum().item()\n",
    "          correct_sum += torch.sum(torch.round(outputs) == labels).item()\n",
    "\n",
    "        print(f'correct:{correct_sum}, total:{total_sum}, accuracy {correct_sum/total_sum*100} ')\n",
    "\n",
    "\n",
    "      model.train()\n"
   ]
  },
  {
   "cell_type": "code",
   "execution_count": null,
   "metadata": {
    "executionInfo": {
     "elapsed": 4,
     "status": "ok",
     "timestamp": 1691121885724,
     "user": {
      "displayName": "유인원",
      "userId": "12609834608015613726"
     },
     "user_tz": -540
    },
    "id": "2dqotVXlt95D"
   },
   "outputs": [],
   "source": [
    "model = model.to('cpu')"
   ]
  },
  {
   "cell_type": "code",
   "execution_count": null,
   "metadata": {
    "executionInfo": {
     "elapsed": 4,
     "status": "ok",
     "timestamp": 1691121913343,
     "user": {
      "displayName": "유인원",
      "userId": "12609834608015613726"
     },
     "user_tz": -540
    },
    "id": "e9NMkAUmuClQ"
   },
   "outputs": [],
   "source": [
    "test_sample = next(iter(test_loader))"
   ]
  },
  {
   "cell_type": "code",
   "execution_count": null,
   "metadata": {
    "executionInfo": {
     "elapsed": 3,
     "status": "ok",
     "timestamp": 1691121958446,
     "user": {
      "displayName": "유인원",
      "userId": "12609834608015613726"
     },
     "user_tz": -540
    },
    "id": "9i0xlHFruCQv"
   },
   "outputs": [],
   "source": [
    "outputs = model(test_sample[0].reshape(-1, 784))"
   ]
  },
  {
   "cell_type": "code",
   "execution_count": null,
   "metadata": {
    "colab": {
     "base_uri": "https://localhost:8080/"
    },
    "executionInfo": {
     "elapsed": 3,
     "status": "ok",
     "timestamp": 1691122095636,
     "user": {
      "displayName": "유인원",
      "userId": "12609834608015613726"
     },
     "user_tz": -540
    },
    "id": "LIzy6UnpuUtq",
    "outputId": "76b07490-ae4e-45ea-b7ed-9645a18b1372"
   },
   "outputs": [],
   "source": [
    "torch.sum(torch.round(outputs[0:10]) == test_sample[1][:10].reshape(-1, 1)).item()"
   ]
  },
  {
   "cell_type": "code",
   "execution_count": null,
   "metadata": {
    "colab": {
     "base_uri": "https://localhost:8080/"
    },
    "executionInfo": {
     "elapsed": 1461,
     "status": "ok",
     "timestamp": 1691122135941,
     "user": {
      "displayName": "유인원",
      "userId": "12609834608015613726"
     },
     "user_tz": -540
    },
    "id": "wOOtPgSRsZWX",
    "outputId": "6a95991b-626a-47ad-efbf-906b188be888"
   },
   "outputs": [],
   "source": []
  },
  {
   "cell_type": "code",
   "execution_count": null,
   "metadata": {
    "id": "CbFAufVIDmVA"
   },
   "outputs": [],
   "source": [
    "\n",
    "with torch.no_grad():\n",
    "  model.eval()\n",
    "  total_sum = 0\n",
    "  correct_sum =0\n",
    "  for it_batch, (images, labels) in enumerate(test_loader):\n",
    "    images = images.reshape(-1, 784)\n",
    "    total_sum += images.shape[0]\n",
    "\n",
    "    outputs = model(images)\n",
    "    pred = torch.argmax(outputs, axis=1)\n",
    "    correct_sum += (pred == labels).sum().item()\n",
    "\n",
    "  print(f'correct:{correct_sum}, total:{total_sum}, accuracy {correct_sum/total_sum*100} ')\n",
    "\n"
   ]
  },
  {
   "cell_type": "code",
   "execution_count": null,
   "metadata": {
    "id": "jhzZKiuBJIoo"
   },
   "outputs": [],
   "source": [
    "# 모델 결과 시각화 ( 이미지 target )\n",
    "\n",
    "# 3행 3열 9개 데이터 시각화, title에 정답, 예측값 표시. 이미지 형식(28, 28)로\n",
    "\n",
    "# 행 : 5, 열 : 20 테스트 데이터 시각화, ''"
   ]
  },
  {
   "cell_type": "code",
   "execution_count": null,
   "metadata": {
    "id": "eDsnkmOCROh_"
   },
   "outputs": [],
   "source": [
    "tmp = iter(test_loader)\n",
    "images, labels = next(tmp)\n",
    "print(images.shape)"
   ]
  },
  {
   "cell_type": "code",
   "execution_count": null,
   "metadata": {
    "id": "viziDah_RcKE"
   },
   "outputs": [],
   "source": [
    "import numpy as np\n",
    "with torch.no_grad():\n",
    "  model.to('cpu')\n",
    "  model.eval()\n",
    "  y_pred = model(images.reshape(-1, 28*28))\n",
    "  y_pred2 = np.argmax(y_pred.numpy(), axis=1)"
   ]
  },
  {
   "cell_type": "code",
   "execution_count": null,
   "metadata": {
    "id": "2bFJmW5LRv0o"
   },
   "outputs": [],
   "source": [
    "def display_test(x, y, y_pred):\n",
    "  plt_r = 5\n",
    "  plt_c = 20\n",
    "  plt.figure(figsize=(15, 5))\n",
    "  for y_pos in range(plt_r):\n",
    "    for x_pos in range(plt_c):\n",
    "      idx = y_pos*plt_c + x_pos\n",
    "      plt.subplot(plt_r, plt_c, idx+1)\n",
    "      plt.title('[%d, %d]' % (y[idx], y_pred[idx]))\n",
    "      plt.imshow(x[idx].reshape(28, 28), 'gray')\n",
    "      ax = plt.gca()\n",
    "      ax.axes.xaxis.set_visible(False)\n",
    "      ax.axes.yaxis.set_visible(False)\n",
    "  plt.show()"
   ]
  },
  {
   "cell_type": "code",
   "execution_count": null,
   "metadata": {
    "id": "SHc9spjcSlWQ"
   },
   "outputs": [],
   "source": [
    "display_test(images, labels, y_pred2)"
   ]
  },
  {
   "cell_type": "code",
   "execution_count": null,
   "metadata": {
    "id": "yATXs57ESqnY"
   },
   "outputs": [],
   "source": []
  }
 ],
 "metadata": {
  "accelerator": "GPU",
  "colab": {
   "authorship_tag": "ABX9TyMm2ysaMnrZHyaoxxeoQiYS",
   "gpuType": "T4",
   "provenance": []
  },
  "kernelspec": {
   "display_name": "Python 3 (ipykernel)",
   "language": "python",
   "name": "python3"
  },
  "language_info": {
   "codemirror_mode": {
    "name": "ipython",
    "version": 3
   },
   "file_extension": ".py",
   "mimetype": "text/x-python",
   "name": "python",
   "nbconvert_exporter": "python",
   "pygments_lexer": "ipython3",
   "version": "3.11.3"
  }
 },
 "nbformat": 4,
 "nbformat_minor": 1
}
