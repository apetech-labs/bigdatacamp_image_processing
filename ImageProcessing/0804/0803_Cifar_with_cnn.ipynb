{
 "cells": [
  {
   "cell_type": "code",
   "execution_count": null,
   "metadata": {
    "executionInfo": {
     "elapsed": 5881,
     "status": "ok",
     "timestamp": 1691128672313,
     "user": {
      "displayName": "InOne U",
      "userId": "15648334942309311251"
     },
     "user_tz": -540
    },
    "id": "zxEWmIvuHvat"
   },
   "outputs": [],
   "source": [
    "import torch\n",
    "import torch.nn as nn\n",
    "import torch.optim as optim\n",
    "from torch.utils.data import DataLoader\n",
    "\n",
    "import torchvision.datasets as datasets\n",
    "import torchvision.transforms as transforms"
   ]
  },
  {
   "cell_type": "code",
   "execution_count": null,
   "metadata": {
    "colab": {
     "base_uri": "https://localhost:8080/"
    },
    "executionInfo": {
     "elapsed": 5,
     "status": "ok",
     "timestamp": 1691128676506,
     "user": {
      "displayName": "InOne U",
      "userId": "15648334942309311251"
     },
     "user_tz": -540
    },
    "id": "_n26qvF1H0fN",
    "outputId": "e427ea38-7615-44cb-98fe-8fc35637a71b"
   },
   "outputs": [],
   "source": [
    "# device = 'cuda:0' if torch.cuda.is_available() else 'cpu'\n",
    "device = 'mps'\n",
    "print('device : ', device)"
   ]
  },
  {
   "cell_type": "code",
   "execution_count": null,
   "metadata": {
    "executionInfo": {
     "elapsed": 3,
     "status": "ok",
     "timestamp": 1691128681225,
     "user": {
      "displayName": "InOne U",
      "userId": "15648334942309311251"
     },
     "user_tz": -540
    },
    "id": "k4T4lEa_H7mS"
   },
   "outputs": [],
   "source": [
    "# 0~1, -1~1\n",
    "transform = transforms.Compose([\n",
    "    # 0 ~ 1\n",
    "    transforms.ToTensor(),\n",
    "    # (0 - 0.5) / 0.5 --> -1 /  (1 -0.5)/0.5 --> 1 # -1~1\n",
    "    transforms.Normalize((0.5, 0.5, 0.5), (0.5, 0.5, 0.5)),  # (mean), (std) for each channel --> (data - mean) / std\n",
    "    # flip 좌우반전\n",
    "    transforms.RandomHorizontalFlip(p=0.5),\n",
    "])\n",
    "\n",
    "# 0~1, -1~1\n",
    "transform_test = transforms.Compose([\n",
    "    # 0 ~ 1\n",
    "    transforms.ToTensor(),\n",
    "    # (0 - 0.5) / 0.5 --> -1 /  (1 -0.5)/0.5 --> 1 # -1~1\n",
    "    transforms.Normalize((0.5, 0.5, 0.5), (0.5, 0.5, 0.5)),  # (mean), (std) for each channel --> (data - mean) / std\n",
    "])"
   ]
  },
  {
   "cell_type": "code",
   "execution_count": null,
   "metadata": {
    "colab": {
     "base_uri": "https://localhost:8080/"
    },
    "executionInfo": {
     "elapsed": 18247,
     "status": "ok",
     "timestamp": 1691128705397,
     "user": {
      "displayName": "InOne U",
      "userId": "15648334942309311251"
     },
     "user_tz": -540
    },
    "id": "kVj64Y5YH847",
    "outputId": "263cf554-cfb1-4e30-bc8b-f8fdda83ca69"
   },
   "outputs": [],
   "source": [
    "trainset = datasets.CIFAR10(root='./data', train=True, download=True, transform=transform)\n",
    "testset = datasets.CIFAR10(root='./data', train=False, download=True, transform=transform_test)"
   ]
  },
  {
   "cell_type": "code",
   "execution_count": null,
   "metadata": {
    "executionInfo": {
     "elapsed": 23,
     "status": "ok",
     "timestamp": 1691128705397,
     "user": {
      "displayName": "InOne U",
      "userId": "15648334942309311251"
     },
     "user_tz": -540
    },
    "id": "khPNaKiPH-Y1"
   },
   "outputs": [],
   "source": [
    "classes = ('plane', 'car', 'bird', 'cat', 'deer', 'dog', 'frog', 'horse', 'ship', 'truck')"
   ]
  },
  {
   "cell_type": "code",
   "execution_count": null,
   "metadata": {
    "executionInfo": {
     "elapsed": 23,
     "status": "ok",
     "timestamp": 1691128705398,
     "user": {
      "displayName": "InOne U",
      "userId": "15648334942309311251"
     },
     "user_tz": -540
    },
    "id": "CQgGCqCMH_6s"
   },
   "outputs": [],
   "source": [
    "trainloader = torch.utils.data.DataLoader(trainset, batch_size=100, shuffle=True)\n",
    "testloader = torch.utils.data.DataLoader(testset, batch_size=100, shuffle=False)"
   ]
  },
  {
   "cell_type": "code",
   "execution_count": null,
   "metadata": {},
   "outputs": [],
   "source": [
    "\n",
    "# output = input-kernel+(2*padding) / stride + 1\n",
    "# output = 32 - 3 + (2) / 1 + 1\n",
    "\n",
    "class AlexNet(nn.Module) :\n",
    "    def __init__(self) :\n",
    "        super(AlexNet, self).__init__()\n",
    "        self.name = \"AlexNet\"\n",
    "        self.conv_layer1 = nn.Sequential(\n",
    "            nn.Conv2d(3, 96, kernel_size=(4, 4)),\n",
    "            nn.ReLU(inplace=True),\n",
    "        )\n",
    "        self.conv_layer2 = nn.Sequential(\n",
    "            nn.Conv2d(96, 256, kernel_size=(5, 5), padding=(2, 2)),\n",
    "            nn.ReLU(inplace=True),\n",
    "            nn.MaxPool2d(kernel_size=3, stride=2)\n",
    "        )\n",
    "        self.conv_layer3 = nn.Sequential(\n",
    "            nn.Conv2d(256, 384, kernel_size=(3, 3), padding=(1, 1)),\n",
    "            nn.ReLU(inplace=True),\n",
    "            nn.Conv2d(384, 384, kernel_size=(3, 3), padding=(1, 1)),\n",
    "            nn.ReLU(inplace=True),\n",
    "            nn.Conv2d(384, 256, kernel_size=(3, 3), padding=(1, 1)),\n",
    "            nn.ReLU(inplace=True),\n",
    "            nn.MaxPool2d(kernel_size=3, stride=2)\n",
    "        )\n",
    "        self.fc_layer1 = nn.Sequential(\n",
    "            nn.Dropout(p = 0.5),\n",
    "            nn.Linear(9216, 4096),\n",
    "            nn.ReLU(inplace=True),\n",
    "            nn.Dropout(p = 0.5),\n",
    "            nn.Linear(4096, 4096),\n",
    "            nn.ReLU(inplace=True),\n",
    "            nn.Linear(4096, 10)\n",
    "        )\n",
    "\n",
    "    def forward(self, x) :\n",
    "        output = self.conv_layer1(x)\n",
    "        output = self.conv_layer2(output)\n",
    "        output = self.conv_layer3(output)\n",
    "        output = output.view(-1, 9216)\n",
    "        output = self.fc_layer1(output)\n",
    "        return output"
   ]
  },
  {
   "cell_type": "code",
   "execution_count": null,
   "metadata": {
    "executionInfo": {
     "elapsed": 5,
     "status": "ok",
     "timestamp": 1691129788958,
     "user": {
      "displayName": "InOne U",
      "userId": "15648334942309311251"
     },
     "user_tz": -540
    },
    "id": "3Dvti71jIA_y"
   },
   "outputs": [],
   "source": [
    "class simple_cnn(nn.Module):\n",
    "  def __init__(self):\n",
    "    #32/32/3\n",
    "    super(simple_cnn, self).__init__()\n",
    "\n",
    "    self.conv_layer = nn.Sequential(\n",
    "        nn.Conv2d(in_channels=3, out_channels=4, kernel_size=(3,3) ),\n",
    "        nn.ReLU(inplace=True),\n",
    "        nn.Conv2d(in_channels=4, out_channels=16, kernel_size=(3,3) ),\n",
    "        nn.ReLU(inplace=True),\n",
    "        nn.MaxPool2d(kernel_size=2, stride=2 ),\n",
    "\n",
    "        nn.Conv2d(in_channels=16, out_channels=16, kernel_size=(3,3)),\n",
    "        nn.ReLU(inplace=True),\n",
    "        nn.Conv2d(in_channels=16, out_channels=16, kernel_size=(3,3)),\n",
    "        nn.ReLU(inplace=True),\n",
    "        nn.MaxPool2d(kernel_size=2, stride=2),\n",
    "\n",
    "        # 5*5*16\n",
    "    )\n",
    "    # fc layer Linear\n",
    "\n",
    "    self.fc_layer = nn.Sequential(\n",
    "        nn.Dropout(0.5),\n",
    "        nn.Linear(16*5*5, 64),\n",
    "        nn.ReLU(inplace=True),\n",
    "        nn.Linear(64, 32),\n",
    "        nn.ReLU(inplace=True),\n",
    "        nn.Linear(32, 10),\n",
    "    )\n",
    "\n",
    "  def forward(self, x):\n",
    "    o = self.conv_layer(x)\n",
    "    # 5x5x16 # batch size- channel, h, w\n",
    "    o = o.view(o.shape[0], -1) #numpy reshape\n",
    "    o = self.fc_layer(o)\n",
    "\n",
    "    return o\n"
   ]
  },
  {
   "cell_type": "code",
   "execution_count": null,
   "metadata": {
    "executionInfo": {
     "elapsed": 4,
     "status": "ok",
     "timestamp": 1691129789448,
     "user": {
      "displayName": "InOne U",
      "userId": "15648334942309311251"
     },
     "user_tz": -540
    },
    "id": "zSaZlYY2J6R1"
   },
   "outputs": [],
   "source": [
    "# cnn_net = simple_cnn()\n",
    "cnn_net = AlexNet()"
   ]
  },
  {
   "cell_type": "code",
   "execution_count": null,
   "metadata": {
    "executionInfo": {
     "elapsed": 4,
     "status": "ok",
     "timestamp": 1691129789449,
     "user": {
      "displayName": "InOne U",
      "userId": "15648334942309311251"
     },
     "user_tz": -540
    },
    "id": "qNqUYVgcJ8iM"
   },
   "outputs": [],
   "source": [
    "from torchsummary import summary"
   ]
  },
  {
   "cell_type": "code",
   "execution_count": null,
   "metadata": {
    "executionInfo": {
     "elapsed": 2,
     "status": "ok",
     "timestamp": 1691129791695,
     "user": {
      "displayName": "InOne U",
      "userId": "15648334942309311251"
     },
     "user_tz": -540
    },
    "id": "QJK6uQcrK2aI"
   },
   "outputs": [],
   "source": [
    "# cnn_net = cnn_net.to(device)"
   ]
  },
  {
   "cell_type": "code",
   "execution_count": null,
   "metadata": {
    "colab": {
     "base_uri": "https://localhost:8080/"
    },
    "executionInfo": {
     "elapsed": 4,
     "status": "ok",
     "timestamp": 1691129794354,
     "user": {
      "displayName": "InOne U",
      "userId": "15648334942309311251"
     },
     "user_tz": -540
    },
    "id": "Ch96-WMyKlhi",
    "outputId": "5eea1331-a32b-4729-fb2b-a5e6ca419f63"
   },
   "outputs": [],
   "source": [
    "summary(cnn_net, (3, 32, 32))"
   ]
  },
  {
   "cell_type": "code",
   "execution_count": null,
   "metadata": {
    "executionInfo": {
     "elapsed": 3,
     "status": "ok",
     "timestamp": 1691129874361,
     "user": {
      "displayName": "InOne U",
      "userId": "15648334942309311251"
     },
     "user_tz": -540
    },
    "id": "kI2C7ZCOKqfo"
   },
   "outputs": [],
   "source": [
    "criterion = nn.CrossEntropyLoss() #\n",
    "optimizer = optim.Adam(cnn_net.parameters(), lr=0.001)"
   ]
  },
  {
   "cell_type": "code",
   "execution_count": null,
   "metadata": {
    "executionInfo": {
     "elapsed": 4,
     "status": "ok",
     "timestamp": 1691130350915,
     "user": {
      "displayName": "InOne U",
      "userId": "15648334942309311251"
     },
     "user_tz": -540
    },
    "id": "5SZi6ehjMgB4"
   },
   "outputs": [],
   "source": [
    "epochs = 10"
   ]
  },
  {
   "cell_type": "code",
   "execution_count": null,
   "metadata": {},
   "outputs": [],
   "source": [
    "cnn_net = cnn_net.to(device)"
   ]
  },
  {
   "cell_type": "code",
   "execution_count": null,
   "metadata": {
    "colab": {
     "base_uri": "https://localhost:8080/"
    },
    "executionInfo": {
     "elapsed": 155840,
     "status": "ok",
     "timestamp": 1691130510722,
     "user": {
      "displayName": "InOne U",
      "userId": "15648334942309311251"
     },
     "user_tz": -540
    },
    "id": "JjBcD1TeMkgl",
    "outputId": "12f0c2df-2cb4-47c6-db1f-7fdfed7964a8"
   },
   "outputs": [],
   "source": [
    "for e in range(epochs):\n",
    "  for it_bat, (img, lab) in enumerate(trainloader):\n",
    "    img = img.to(device)\n",
    "    lab = lab.to(device)\n",
    "\n",
    "    optimizer.zero_grad()\n",
    "    outputs = cnn_net(img)\n",
    "\n",
    "    loss = criterion(outputs, lab)\n",
    "    loss.backward()\n",
    "\n",
    "    optimizer.step()\n",
    "\n",
    "    if (it_bat+1) % 50 == 0:\n",
    "      print(f'epoch{e}, batch{it_bat+1}, loss{loss.item()}')\n"
   ]
  },
  {
   "cell_type": "code",
   "execution_count": null,
   "metadata": {
    "id": "pezospKbS6N3"
   },
   "outputs": [],
   "source": []
  },
  {
   "cell_type": "code",
   "execution_count": null,
   "metadata": {
    "executionInfo": {
     "elapsed": 2348,
     "status": "ok",
     "timestamp": 1691131681851,
     "user": {
      "displayName": "InOne U",
      "userId": "15648334942309311251"
     },
     "user_tz": -540
    },
    "id": "4wQ_BBAkSjaO"
   },
   "outputs": [],
   "source": [
    "with torch.no_grad():\n",
    "  cnn_net.eval()\n",
    "  total_cnt =0\n",
    "  correct_cnt=0\n",
    "  for it_batch, (img, lab) in enumerate(testloader):\n",
    "      img = img.to(device)\n",
    "      lab = lab.to(device)\n",
    "\n",
    "      total_cnt += img.shape[0]\n",
    "      outputs = cnn_net(img)\n",
    "\n",
    "      pred = torch.argmax(outputs, axis=1)\n",
    "      correct_cnt +=(pred == lab).sum().item()\n"
   ]
  },
  {
   "cell_type": "code",
   "execution_count": null,
   "metadata": {
    "colab": {
     "base_uri": "https://localhost:8080/"
    },
    "executionInfo": {
     "elapsed": 2,
     "status": "ok",
     "timestamp": 1691131722191,
     "user": {
      "displayName": "InOne U",
      "userId": "15648334942309311251"
     },
     "user_tz": -540
    },
    "id": "p-GjRo44Taba",
    "outputId": "5c697f51-f5a5-4103-9d1f-71d1fff3e988"
   },
   "outputs": [],
   "source": [
    "print(f'correct{correct_cnt}, total{total_cnt}, acc{correct_cnt/total_cnt*100}')"
   ]
  },
  {
   "cell_type": "code",
   "execution_count": null,
   "metadata": {
    "colab": {
     "base_uri": "https://localhost:8080/"
    },
    "executionInfo": {
     "elapsed": 493,
     "status": "ok",
     "timestamp": 1691131814738,
     "user": {
      "displayName": "InOne U",
      "userId": "15648334942309311251"
     },
     "user_tz": -540
    },
    "id": "KUU9Fq6GNtu2",
    "outputId": "c89f7e75-703d-4d70-d1a0-a699f08ff14e"
   },
   "outputs": [],
   "source": [
    "sample = next(iter(testloader))\n",
    "o = cnn_net(sample[0].to(device))\n",
    "pred = torch.argmax(o, axis=1).to('cpu')\n",
    "correct = pred == sample[1]\n",
    "correct.sum().item()"
   ]
  },
  {
   "cell_type": "code",
   "execution_count": null,
   "metadata": {
    "id": "QwiwA9KfTr1e"
   },
   "outputs": [],
   "source": []
  },
  {
   "cell_type": "code",
   "execution_count": null,
   "metadata": {
    "executionInfo": {
     "elapsed": 1076,
     "status": "ok",
     "timestamp": 1691131087508,
     "user": {
      "displayName": "InOne U",
      "userId": "15648334942309311251"
     },
     "user_tz": -540
    },
    "id": "dH1PPUoUPLTq"
   },
   "outputs": [],
   "source": [
    "import matplotlib.pyplot as plt"
   ]
  },
  {
   "cell_type": "code",
   "execution_count": null,
   "metadata": {
    "executionInfo": {
     "elapsed": 575,
     "status": "ok",
     "timestamp": 1691131824393,
     "user": {
      "displayName": "InOne U",
      "userId": "15648334942309311251"
     },
     "user_tz": -540
    },
    "id": "vk1yHSGNT1g9"
   },
   "outputs": [],
   "source": [
    "def display_sample(img, gt, pred):\n",
    "  img = img.numpy()\n",
    "  img = img.transpose(1, 2, 0)\n",
    "  img = img * 0.5 + 0.5\n",
    "\n",
    "  plt.figure(figsize=(3,3))\n",
    "  title_ = 'gt[%s],pred[%s]' % (classes[gt.item()], classes[pred.item()])\n",
    "  plt.title(title_)\n",
    "  plt.imshow(img)\n",
    "  plt.show()"
   ]
  },
  {
   "cell_type": "code",
   "execution_count": null,
   "metadata": {
    "colab": {
     "base_uri": "https://localhost:8080/",
     "height": 1000
    },
    "executionInfo": {
     "elapsed": 19558,
     "status": "ok",
     "timestamp": 1691131845139,
     "user": {
      "displayName": "InOne U",
      "userId": "15648334942309311251"
     },
     "user_tz": -540
    },
    "id": "TozoGPiNQ2mK",
    "outputId": "e95848f5-25e4-48b6-cee9-38fddb06df34",
    "scrolled": false
   },
   "outputs": [],
   "source": [
    "for it_sample in range(sample[0].shape[0]):\n",
    "  display_sample(sample[0][it_sample], sample[1][it_sample], pred[it_sample])"
   ]
  },
  {
   "cell_type": "code",
   "execution_count": null,
   "metadata": {
    "executionInfo": {
     "elapsed": 3,
     "status": "ok",
     "timestamp": 1691131130150,
     "user": {
      "displayName": "InOne U",
      "userId": "15648334942309311251"
     },
     "user_tz": -540
    },
    "id": "zwRgxsmaQYQu"
   },
   "outputs": [],
   "source": []
  },
  {
   "cell_type": "code",
   "execution_count": null,
   "metadata": {
    "id": "dd7C8eOIQ0Z_"
   },
   "outputs": [],
   "source": []
  }
 ],
 "metadata": {
  "accelerator": "GPU",
  "colab": {
   "authorship_tag": "ABX9TyP0vexU6/b7dBgUwC6TAxRE",
   "gpuType": "T4",
   "provenance": []
  },
  "kernelspec": {
   "display_name": "Python 3 (ipykernel)",
   "language": "python",
   "name": "python3"
  },
  "language_info": {
   "codemirror_mode": {
    "name": "ipython",
    "version": 3
   },
   "file_extension": ".py",
   "mimetype": "text/x-python",
   "name": "python",
   "nbconvert_exporter": "python",
   "pygments_lexer": "ipython3",
   "version": "3.11.3"
  }
 },
 "nbformat": 4,
 "nbformat_minor": 1
}
