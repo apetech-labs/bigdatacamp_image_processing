{
 "cells": [
  {
   "cell_type": "code",
   "execution_count": null,
   "id": "cf1bdf7d",
   "metadata": {},
   "outputs": [],
   "source": [
    "# train\n",
    "criterion = nn.CrossEntropyLoss() \n",
    "optimizer = optim.Adam(model.parameters(), lr=0.001)"
   ]
  },
  {
   "cell_type": "code",
   "execution_count": null,
   "id": "00812902",
   "metadata": {},
   "outputs": [],
   "source": [
    "epochs = 1000\n",
    "for e in range(epochs):\n",
    "    for b in range(x_train.shape[0]):\n",
    "        optimizer.zero_grad()\n",
    "        \n",
    "        output = model(x_train[b])\n",
    "        \n",
    "        loss = criterion(output, y_train[b])\n",
    "        loss.backward()\n",
    "        \n",
    "        optimizer.step()\n",
    "    \n",
    "    if (e+1) % 10 == 0:\n",
    "        print(f'Epoch {e+1} / {epochs}, Loss : {loss.item()}')\n",
    "        # accuracy \n",
    "        with torch.no_grad():\n",
    "            model.eval()\n",
    "\n",
    "            correct = 0\n",
    "            total = 0\n",
    "\n",
    "            outputs = model(x_test)\n",
    "            pred = torch.argmax(outputs, axis=1)\n",
    "            total = y_test.size(0)\n",
    "            correct = (pred == y_test).sum().item()\n",
    "            print(f'correct { correct } / total {total}')\n",
    "            print('Accuracy of the model on test data: {} %'.format(100 * correct / total))\n",
    "        model.train()\n",
    "        "
   ]
  }
 ],
 "metadata": {
  "kernelspec": {
   "display_name": "Python 3 (ipykernel)",
   "language": "python",
   "name": "python3"
  },
  "language_info": {
   "codemirror_mode": {
    "name": "ipython",
    "version": 3
   },
   "file_extension": ".py",
   "mimetype": "text/x-python",
   "name": "python",
   "nbconvert_exporter": "python",
   "pygments_lexer": "ipython3",
   "version": "3.11.3"
  }
 },
 "nbformat": 4,
 "nbformat_minor": 5
}
