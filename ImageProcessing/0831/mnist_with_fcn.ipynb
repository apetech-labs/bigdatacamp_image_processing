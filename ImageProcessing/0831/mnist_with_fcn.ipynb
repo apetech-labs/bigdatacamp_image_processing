{
 "cells": [
  {
   "cell_type": "code",
   "execution_count": null,
   "id": "6e38da6d",
   "metadata": {},
   "outputs": [],
   "source": [
    "# pytorch\n",
    "import torch\n",
    "import torch.nn as nn\n",
    "import torch.optim as potim"
   ]
  },
  {
   "cell_type": "code",
   "execution_count": null,
   "id": "9493a577",
   "metadata": {},
   "outputs": [],
   "source": [
    "#torch dataloader\n",
    "from torch.utils.data import DataLoader\n",
    "\n",
    "#torch vision\n",
    "import torchvision.datasets as datasets\n",
    "#crop, casting\n",
    "import torchvision.transforms as transforms"
   ]
  },
  {
   "cell_type": "code",
   "execution_count": null,
   "id": "179de04b",
   "metadata": {},
   "outputs": [],
   "source": [
    "train_dataset= datasets.MNIST(root='./data', train=True, transform=transforms.ToTensor(), download=True)\n",
    "test_dataset = datasets.MNIST(root='./data', train=False, transform=transforms.ToTensor())"
   ]
  },
  {
   "cell_type": "code",
   "execution_count": null,
   "id": "2e20a02a",
   "metadata": {},
   "outputs": [],
   "source": [
    "# inout datas train\n",
    "train_x = train_dataset.data # input\n",
    "train_y = train_dataset.targets # output"
   ]
  },
  {
   "cell_type": "code",
   "execution_count": null,
   "id": "ecd6c9c4",
   "metadata": {},
   "outputs": [],
   "source": [
    "# inout datas test\n",
    "test_x = test_dataset.data # input\n",
    "test_y = test_dataset.targets # output"
   ]
  },
  {
   "cell_type": "code",
   "execution_count": null,
   "id": "1815ea3f",
   "metadata": {},
   "outputs": [],
   "source": [
    "test_x.shape, test_y.shape"
   ]
  },
  {
   "cell_type": "code",
   "execution_count": null,
   "id": "e7c008f3",
   "metadata": {},
   "outputs": [],
   "source": [
    "# data 시각화\n",
    "import matplotlib.pyplot as plt"
   ]
  },
  {
   "cell_type": "code",
   "execution_count": null,
   "id": "309bddcb",
   "metadata": {},
   "outputs": [],
   "source": [
    "train_x[0].shape"
   ]
  },
  {
   "cell_type": "code",
   "execution_count": null,
   "id": "f591f186",
   "metadata": {
    "scrolled": true
   },
   "outputs": [],
   "source": [
    "pivot = 25\n",
    "\n",
    "plt.subplot(1,3,1)\n",
    "plt.title(train_y[pivot].item())\n",
    "plt.imshow(train_x[pivot], 'gray')\n",
    "\n",
    "plt.show()\n",
    "\n",
    "plt.subplot(1,3,2)\n",
    "plt.title(train_y[pivot].item())\n",
    "plt.imshow(train_x[pivot], 'gray')\n",
    "\n",
    "plt.show()\n",
    "\n",
    "plt.subplot(1,3,3)\n",
    "plt.title(train_y[pivot].item())\n",
    "plt.imshow(train_x[pivot], 'gray')\n",
    "\n",
    "plt.show()\n",
    "\n"
   ]
  },
  {
   "cell_type": "code",
   "execution_count": null,
   "id": "712c4ffb",
   "metadata": {},
   "outputs": [],
   "source": [
    "train_dataset.targets[0]"
   ]
  },
  {
   "cell_type": "code",
   "execution_count": null,
   "id": "f6ab714d",
   "metadata": {},
   "outputs": [],
   "source": [
    "train_x[:12].shape"
   ]
  },
  {
   "cell_type": "code",
   "execution_count": null,
   "id": "3700e1ac",
   "metadata": {},
   "outputs": [],
   "source": [
    "train_y[0]"
   ]
  },
  {
   "cell_type": "code",
   "execution_count": null,
   "id": "928ead3d",
   "metadata": {},
   "outputs": [],
   "source": [
    "plot_size = 4\n",
    "\n",
    "for it_sam, _sample in enumerate(train_x[:22]):\n",
    "    cur_idx = it_sam % plot_size + 1\n",
    "    \n",
    "    _sample_target = train_y[it_sam]\n",
    "    plt.subplot(1, plot_size, cur_idx)    \n",
    "    plt.title(_sample_target.item())\n",
    "    plt.imshow(_sample, 'gray')\n",
    "    \n",
    "    if cur_idx == plot_size:\n",
    "        plt.show()"
   ]
  },
  {
   "cell_type": "code",
   "execution_count": 1,
   "id": "37fe3323",
   "metadata": {},
   "outputs": [
    {
     "name": "stdout",
     "output_type": "stream",
     "text": [
      "\u001b[31mERROR: Invalid requirement: 'torch==torch 2.1.0a0+git47f76d4'\u001b[0m\u001b[31m\r\n",
      "\u001b[0m"
     ]
    }
   ],
   "source": [
    "!pip install torch=='torch 2.1.0a0+git47f76d4'"
   ]
  },
  {
   "cell_type": "code",
   "execution_count": null,
   "id": "06bc7b86",
   "metadata": {},
   "outputs": [],
   "source": []
  }
 ],
 "metadata": {
  "kernelspec": {
   "display_name": "Python 3 (ipykernel)",
   "language": "python",
   "name": "python3"
  },
  "language_info": {
   "codemirror_mode": {
    "name": "ipython",
    "version": 3
   },
   "file_extension": ".py",
   "mimetype": "text/x-python",
   "name": "python",
   "nbconvert_exporter": "python",
   "pygments_lexer": "ipython3",
   "version": "3.11.3"
  }
 },
 "nbformat": 4,
 "nbformat_minor": 5
}
