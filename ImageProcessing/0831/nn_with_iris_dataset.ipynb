{
 "cells": [
  {
   "cell_type": "markdown",
   "id": "f01bd839",
   "metadata": {},
   "source": [
    "# machince learning tool SVCM, PCA, GBM \n",
    "!pip install scikit-learn"
   ]
  },
  {
   "cell_type": "code",
   "execution_count": null,
   "id": "5717b080",
   "metadata": {},
   "outputs": [],
   "source": [
    "# pytorch\n",
    "import torch\n",
    "import torch.nn as nn\n",
    "import torch.optim as optim\n",
    "import numpy as np"
   ]
  },
  {
   "cell_type": "code",
   "execution_count": null,
   "id": "4cb4812a",
   "metadata": {},
   "outputs": [],
   "source": [
    "# scikit learn\n",
    "# from sklearn.datasets import load_iris\n",
    "import sklearn.datasets as sk_dataset\n",
    "\n",
    "# split learning / test\n",
    "from sklearn.model_selection import train_test_split"
   ]
  },
  {
   "cell_type": "code",
   "execution_count": null,
   "id": "2515ddba",
   "metadata": {},
   "outputs": [],
   "source": [
    "# in/out data load"
   ]
  },
  {
   "cell_type": "code",
   "execution_count": null,
   "id": "ff9dfe48",
   "metadata": {},
   "outputs": [],
   "source": [
    "iris_data = sk_dataset.load_iris()"
   ]
  },
  {
   "cell_type": "code",
   "execution_count": null,
   "id": "f68ded77",
   "metadata": {},
   "outputs": [],
   "source": [
    "iris_x = iris_data.data # input \n",
    "iris_y = iris_data.target # output(target)"
   ]
  },
  {
   "cell_type": "code",
   "execution_count": null,
   "id": "e6e6ac0e",
   "metadata": {},
   "outputs": [],
   "source": [
    "type(iris_x), iris_x.shape # sample # 붓꽃의 꽃받침 길이, 꽃받침 너비 과 꽃잎의 길이, 꽃잎의 너비 에 대한 값"
   ]
  },
  {
   "cell_type": "code",
   "execution_count": null,
   "id": "cf399e41",
   "metadata": {},
   "outputs": [],
   "source": [
    "type(iris_y), iris_y.shape, iris_y[100:110] # class number 0- setosa, 1 - versicolor, 2 - virginica"
   ]
  },
  {
   "cell_type": "code",
   "execution_count": null,
   "id": "9704b243",
   "metadata": {},
   "outputs": [],
   "source": [
    "iris_x[:, 1].min(), iris_x[:, 1].max()  # input-out normalizing 0~1"
   ]
  },
  {
   "cell_type": "code",
   "execution_count": null,
   "id": "496602aa",
   "metadata": {},
   "outputs": [],
   "source": [
    "# norm 0~1 .. input mapping \n",
    "def norm_maxmin(data, out_min=0, out_max=255):\n",
    "    gradient = (out_max - out_min) / (np.max(data) - np.min(data))\n",
    "    bias = out_min - np.min(data) * gradient\n",
    "    out = data * gradient + bias\n",
    "\n",
    "    return out"
   ]
  },
  {
   "cell_type": "code",
   "execution_count": null,
   "id": "55a42220",
   "metadata": {},
   "outputs": [],
   "source": [
    "for it_col in range(iris_x.shape[1]):\n",
    "    iris_x[:, it_col] = norm_maxmin(iris_x[:, it_col], 0, 1)"
   ]
  },
  {
   "cell_type": "code",
   "execution_count": null,
   "id": "6ed1c9d8",
   "metadata": {},
   "outputs": [],
   "source": [
    "iris_x[:, 0].min(), iris_x[:, 0].max()  # input-out normalizing 0~1"
   ]
  },
  {
   "cell_type": "code",
   "execution_count": null,
   "id": "a1b2cd74",
   "metadata": {},
   "outputs": [],
   "source": [
    "iris_x.shape, iris_y.shape"
   ]
  },
  {
   "cell_type": "code",
   "execution_count": null,
   "id": "4beaf97e",
   "metadata": {},
   "outputs": [],
   "source": [
    "# train set, test set\n",
    "x_train, x_test, y_train, y_test = train_test_split(iris_x, iris_y, test_size=0.1, shuffle=True)"
   ]
  },
  {
   "cell_type": "code",
   "execution_count": null,
   "id": "a0907cdb",
   "metadata": {},
   "outputs": [],
   "source": [
    "x_train.shape, x_test.shape, y_train.shape, y_test.shape"
   ]
  },
  {
   "cell_type": "code",
   "execution_count": null,
   "id": "1693852b",
   "metadata": {},
   "outputs": [],
   "source": [
    "y_train, y_test"
   ]
  },
  {
   "cell_type": "code",
   "execution_count": null,
   "id": "128bc473",
   "metadata": {},
   "outputs": [],
   "source": [
    "# mini batch  #norm, mini\n",
    "batch_size = 15"
   ]
  },
  {
   "cell_type": "code",
   "execution_count": null,
   "id": "2fdc1114",
   "metadata": {},
   "outputs": [],
   "source": [
    "x_train.shape # ?, 15, 4"
   ]
  },
  {
   "cell_type": "code",
   "execution_count": null,
   "id": "1289ace3",
   "metadata": {},
   "outputs": [],
   "source": [
    "x_train = x_train.reshape(-1, batch_size, x_train.shape[1])\n",
    "y_train = y_train.reshape(-1, batch_size, )"
   ]
  },
  {
   "cell_type": "code",
   "execution_count": null,
   "id": "0f5ddef0",
   "metadata": {},
   "outputs": [],
   "source": [
    "type(x_train), y_train.shape # ?, 15, 4"
   ]
  },
  {
   "cell_type": "code",
   "execution_count": null,
   "id": "14026510",
   "metadata": {},
   "outputs": [],
   "source": [
    "# 자료형 \n",
    "x_train = torch.FloatTensor(x_train)\n",
    "y_train = torch.LongTensor(y_train)\n",
    "\n",
    "x_test = torch.FloatTensor(x_test)\n",
    "y_test = torch.LongTensor(y_test)"
   ]
  },
  {
   "cell_type": "code",
   "execution_count": null,
   "id": "3d95b944",
   "metadata": {},
   "outputs": [],
   "source": [
    "type(x_train), type(y_train), type(x_test), type(y_test), x_train.dtype, y_train.dtype"
   ]
  },
  {
   "cell_type": "markdown",
   "id": "2b12cbd7",
   "metadata": {},
   "source": [
    "# Model init"
   ]
  },
  {
   "cell_type": "code",
   "execution_count": null,
   "id": "5d487bd4",
   "metadata": {},
   "outputs": [],
   "source": [
    "class Iris_fcn(nn.Module):\n",
    "    \n",
    "    def __init__(self, model_input, model_output):\n",
    "        super(Iris_fcn, self).__init__()\n",
    "        \n",
    "        # layer\n",
    "        self.fc = nn.Linear(model_input, 16) # learning weight, bias\n",
    "        self.fc2 = nn.Linear(16, 8)\n",
    "        self.fc3 = nn.Linear(8, model_output)\n",
    "        \n",
    "        #activation \n",
    "        self.relu = nn.ReLU(inplace=True)\n",
    "        \n",
    "    def forward(self, x):\n",
    "        out = self.fc(x)\n",
    "        out = self.relu(out)\n",
    "        out = self.fc2(out)\n",
    "        out = self.relu(out)\n",
    "        out = self.fc3(out)\n",
    "        \n",
    "       # Cross Entropy Loss --> softmax 생략\n",
    "        \n",
    "        return out"
   ]
  },
  {
   "cell_type": "code",
   "execution_count": null,
   "id": "e959087e",
   "metadata": {},
   "outputs": [],
   "source": [
    "model = Iris_fcn(x_train.shape[2], 3)"
   ]
  },
  {
   "cell_type": "code",
   "execution_count": null,
   "id": "ca78f6d4",
   "metadata": {},
   "outputs": [],
   "source": [
    "from torchsummary import summary\n",
    "\n",
    "summary(model, input_size=((1, 4)))"
   ]
  },
  {
   "cell_type": "markdown",
   "id": "9c601597",
   "metadata": {},
   "source": [
    "# Model train"
   ]
  },
  {
   "cell_type": "code",
   "execution_count": null,
   "id": "fb7cbb17",
   "metadata": {},
   "outputs": [],
   "source": [
    "learning_rate = 1e-2 #0.01\n",
    "\n",
    "criterion = nn.CrossEntropyLoss()\n",
    "optimizer = optim.Adam(model.parameters(), lr=learning_rate)"
   ]
  },
  {
   "cell_type": "code",
   "execution_count": null,
   "id": "562b2634",
   "metadata": {
    "scrolled": false
   },
   "outputs": [],
   "source": [
    "epochs = 1000\n",
    "for _epoch in range(epochs):\n",
    "    for _batch in range(x_train.shape[0]):\n",
    "        optimizer.zero_grad()\n",
    "        \n",
    "        output = model(x_train[_batch, ])\n",
    "        \n",
    "        # 오차 계산 및 오차 역전파\n",
    "        loss = criterion(output, y_train[_batch, ])\n",
    "        loss.backward()\n",
    "\n",
    "        #기울기 적용\n",
    "        optimizer.step()\n",
    "        \n",
    "    if (_epoch+1) % 10 == 0:\n",
    "        print(f'epoch:{_epoch}, loss:{loss.item()}')\n",
    "        \n",
    "        with torch.no_grad():\n",
    "            model.eval()\n",
    "            correct = 0\n",
    "            total = 0\n",
    "\n",
    "            outputs = model(x_test)\n",
    "            pred = torch.argmax(outputs, axis=1)\n",
    "\n",
    "            correct = (pred == y_test).sum()\n",
    "            total = y_test.shape[0]\n",
    "\n",
    "            acc = correct/total * 100\n",
    "            print(f'accuracy : {acc}, correct:{correct}, total{total}')\n",
    "            \n",
    "            model.train()"
   ]
  },
  {
   "cell_type": "code",
   "execution_count": null,
   "id": "e37f7bfa",
   "metadata": {},
   "outputs": [],
   "source": [
    "!pip list | grep torch"
   ]
  },
  {
   "cell_type": "code",
   "execution_count": null,
   "id": "fd5d75c0",
   "metadata": {},
   "outputs": [],
   "source": []
  }
 ],
 "metadata": {
  "kernelspec": {
   "display_name": "Python 3 (ipykernel)",
   "language": "python",
   "name": "python3"
  },
  "language_info": {
   "codemirror_mode": {
    "name": "ipython",
    "version": 3
   },
   "file_extension": ".py",
   "mimetype": "text/x-python",
   "name": "python",
   "nbconvert_exporter": "python",
   "pygments_lexer": "ipython3",
   "version": "3.11.3"
  }
 },
 "nbformat": 4,
 "nbformat_minor": 5
}
