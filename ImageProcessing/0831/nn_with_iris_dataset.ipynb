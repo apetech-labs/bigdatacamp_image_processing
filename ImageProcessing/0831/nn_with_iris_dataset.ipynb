{
 "cells": [
  {
   "cell_type": "markdown",
   "id": "03fc5747",
   "metadata": {},
   "source": [
    "# machince learning tool SVCM, PCA, GBM \n",
    "!pip install scikit-learn"
   ]
  },
  {
   "cell_type": "code",
   "execution_count": 1,
   "id": "f718d982",
   "metadata": {},
   "outputs": [],
   "source": [
    "# pytorch\n",
    "import torch\n",
    "import torch.nn as nn\n",
    "import torch.optim as optim\n",
    "import numpy as np"
   ]
  },
  {
   "cell_type": "code",
   "execution_count": 2,
   "id": "eb66c143",
   "metadata": {},
   "outputs": [],
   "source": [
    "# scikit learn\n",
    "# from sklearn.datasets import load_iris\n",
    "import sklearn.datasets as sk_dataset\n",
    "\n",
    "# split learning / test\n",
    "from sklearn.model_selection import train_test_split"
   ]
  },
  {
   "cell_type": "code",
   "execution_count": 9,
   "id": "78ffd72a",
   "metadata": {},
   "outputs": [],
   "source": [
    "# in/out data load"
   ]
  },
  {
   "cell_type": "code",
   "execution_count": 3,
   "id": "64b2aa61",
   "metadata": {},
   "outputs": [],
   "source": [
    "iris_data = sk_dataset.load_iris()"
   ]
  },
  {
   "cell_type": "code",
   "execution_count": 4,
   "id": "1a5322cf",
   "metadata": {},
   "outputs": [],
   "source": [
    "iris_x = iris_data.data # input \n",
    "iris_y = iris_data.target # output(target)"
   ]
  },
  {
   "cell_type": "code",
   "execution_count": 5,
   "id": "42884362",
   "metadata": {},
   "outputs": [
    {
     "data": {
      "text/plain": [
       "(numpy.ndarray, (150, 4))"
      ]
     },
     "execution_count": 5,
     "metadata": {},
     "output_type": "execute_result"
    }
   ],
   "source": [
    "type(iris_x), iris_x.shape # sample # 붓꽃의 꽃받침 길이, 꽃받침 너비 과 꽃잎의 길이, 꽃잎의 너비 에 대한 값"
   ]
  },
  {
   "cell_type": "code",
   "execution_count": 8,
   "id": "1a83aea3",
   "metadata": {},
   "outputs": [
    {
     "data": {
      "text/plain": [
       "(numpy.ndarray, (150,), array([2, 2, 2, 2, 2, 2, 2, 2, 2, 2]))"
      ]
     },
     "execution_count": 8,
     "metadata": {},
     "output_type": "execute_result"
    }
   ],
   "source": [
    "type(iris_y), iris_y.shape, iris_y[100:110] # class number 0- setosa, 1 - versicolor, 2 - virginica"
   ]
  },
  {
   "cell_type": "code",
   "execution_count": 14,
   "id": "b3f1b0f7",
   "metadata": {},
   "outputs": [
    {
     "data": {
      "text/plain": [
       "(2.0, 4.4)"
      ]
     },
     "execution_count": 14,
     "metadata": {},
     "output_type": "execute_result"
    }
   ],
   "source": [
    "iris_x[:, 1].min(), iris_x[:, 1].max()  # input-out normalizing 0~1"
   ]
  },
  {
   "cell_type": "code",
   "execution_count": 15,
   "id": "a3aa67bd",
   "metadata": {},
   "outputs": [],
   "source": [
    "# norm 0~1 .. input mapping \n",
    "def norm_maxmin(data, out_min=0, out_max=255):\n",
    "    gradient = (out_max - out_min) / (np.max(data) - np.min(data))\n",
    "    bias = out_min - np.min(data) * gradient\n",
    "    out = data * gradient + bias\n",
    "\n",
    "    return out"
   ]
  },
  {
   "cell_type": "code",
   "execution_count": 16,
   "id": "7792098c",
   "metadata": {},
   "outputs": [],
   "source": [
    "for it_col in range(iris_x.shape[1]):\n",
    "    iris_x[:, it_col] = norm_maxmin(iris_x[:, it_col], 0, 1)"
   ]
  },
  {
   "cell_type": "code",
   "execution_count": 18,
   "id": "e0da2321",
   "metadata": {},
   "outputs": [
    {
     "data": {
      "text/plain": [
       "(0.0, 1.0)"
      ]
     },
     "execution_count": 18,
     "metadata": {},
     "output_type": "execute_result"
    }
   ],
   "source": [
    "iris_x[:, 0].min(), iris_x[:, 0].max()  # input-out normalizing 0~1"
   ]
  },
  {
   "cell_type": "code",
   "execution_count": null,
   "id": "a2702fc0",
   "metadata": {},
   "outputs": [],
   "source": []
  }
 ],
 "metadata": {
  "kernelspec": {
   "display_name": "Python 3 (ipykernel)",
   "language": "python",
   "name": "python3"
  },
  "language_info": {
   "codemirror_mode": {
    "name": "ipython",
    "version": 3
   },
   "file_extension": ".py",
   "mimetype": "text/x-python",
   "name": "python",
   "nbconvert_exporter": "python",
   "pygments_lexer": "ipython3",
   "version": "3.11.3"
  }
 },
 "nbformat": 4,
 "nbformat_minor": 5
}
