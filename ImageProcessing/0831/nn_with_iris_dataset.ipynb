{
 "cells": [
  {
   "cell_type": "markdown",
   "id": "f01bd839",
   "metadata": {},
   "source": [
    "# machince learning tool SVCM, PCA, GBM \n",
    "!pip install scikit-learn"
   ]
  },
  {
   "cell_type": "code",
   "execution_count": 1,
   "id": "5717b080",
   "metadata": {},
   "outputs": [],
   "source": [
    "# pytorch\n",
    "import torch\n",
    "import torch.nn as nn\n",
    "import torch.optim as optim\n",
    "import numpy as np"
   ]
  },
  {
   "cell_type": "code",
   "execution_count": 2,
   "id": "4cb4812a",
   "metadata": {},
   "outputs": [],
   "source": [
    "# scikit learn\n",
    "# from sklearn.datasets import load_iris\n",
    "import sklearn.datasets as sk_dataset\n",
    "\n",
    "# split learning / test\n",
    "from sklearn.model_selection import train_test_split"
   ]
  },
  {
   "cell_type": "code",
   "execution_count": 3,
   "id": "2515ddba",
   "metadata": {},
   "outputs": [],
   "source": [
    "# in/out data load"
   ]
  },
  {
   "cell_type": "code",
   "execution_count": 4,
   "id": "ff9dfe48",
   "metadata": {},
   "outputs": [],
   "source": [
    "iris_data = sk_dataset.load_iris()"
   ]
  },
  {
   "cell_type": "code",
   "execution_count": 5,
   "id": "f68ded77",
   "metadata": {},
   "outputs": [],
   "source": [
    "iris_x = iris_data.data # input \n",
    "iris_y = iris_data.target # output(target)"
   ]
  },
  {
   "cell_type": "code",
   "execution_count": 6,
   "id": "e6e6ac0e",
   "metadata": {},
   "outputs": [
    {
     "data": {
      "text/plain": [
       "(numpy.ndarray, (150, 4))"
      ]
     },
     "execution_count": 6,
     "metadata": {},
     "output_type": "execute_result"
    }
   ],
   "source": [
    "type(iris_x), iris_x.shape # sample # 붓꽃의 꽃받침 길이, 꽃받침 너비 과 꽃잎의 길이, 꽃잎의 너비 에 대한 값"
   ]
  },
  {
   "cell_type": "code",
   "execution_count": 7,
   "id": "cf399e41",
   "metadata": {},
   "outputs": [
    {
     "data": {
      "text/plain": [
       "(numpy.ndarray, (150,), array([2, 2, 2, 2, 2, 2, 2, 2, 2, 2]))"
      ]
     },
     "execution_count": 7,
     "metadata": {},
     "output_type": "execute_result"
    }
   ],
   "source": [
    "type(iris_y), iris_y.shape, iris_y[100:110] # class number 0- setosa, 1 - versicolor, 2 - virginica"
   ]
  },
  {
   "cell_type": "code",
   "execution_count": 8,
   "id": "9704b243",
   "metadata": {},
   "outputs": [
    {
     "data": {
      "text/plain": [
       "(2.0, 4.4)"
      ]
     },
     "execution_count": 8,
     "metadata": {},
     "output_type": "execute_result"
    }
   ],
   "source": [
    "iris_x[:, 1].min(), iris_x[:, 1].max()  # input-out normalizing 0~1"
   ]
  },
  {
   "cell_type": "code",
   "execution_count": 9,
   "id": "496602aa",
   "metadata": {},
   "outputs": [],
   "source": [
    "# norm 0~1 .. input mapping \n",
    "def norm_maxmin(data, out_min=0, out_max=255):\n",
    "    gradient = (out_max - out_min) / (np.max(data) - np.min(data))\n",
    "    bias = out_min - np.min(data) * gradient\n",
    "    out = data * gradient + bias\n",
    "\n",
    "    return out"
   ]
  },
  {
   "cell_type": "code",
   "execution_count": 10,
   "id": "55a42220",
   "metadata": {},
   "outputs": [],
   "source": [
    "for it_col in range(iris_x.shape[1]):\n",
    "    iris_x[:, it_col] = norm_maxmin(iris_x[:, it_col], 0, 1)"
   ]
  },
  {
   "cell_type": "code",
   "execution_count": 11,
   "id": "6ed1c9d8",
   "metadata": {},
   "outputs": [
    {
     "data": {
      "text/plain": [
       "(0.0, 1.0)"
      ]
     },
     "execution_count": 11,
     "metadata": {},
     "output_type": "execute_result"
    }
   ],
   "source": [
    "iris_x[:, 0].min(), iris_x[:, 0].max()  # input-out normalizing 0~1"
   ]
  },
  {
   "cell_type": "code",
   "execution_count": 12,
   "id": "a1b2cd74",
   "metadata": {},
   "outputs": [
    {
     "data": {
      "text/plain": [
       "((150, 4), (150,))"
      ]
     },
     "execution_count": 12,
     "metadata": {},
     "output_type": "execute_result"
    }
   ],
   "source": [
    "iris_x.shape, iris_y.shape"
   ]
  },
  {
   "cell_type": "code",
   "execution_count": 13,
   "id": "4beaf97e",
   "metadata": {},
   "outputs": [],
   "source": [
    "# train set, test set\n",
    "x_train, x_test, y_train, y_test = train_test_split(iris_x, iris_y, test_size=0.1, shuffle=True)"
   ]
  },
  {
   "cell_type": "code",
   "execution_count": 14,
   "id": "a0907cdb",
   "metadata": {},
   "outputs": [
    {
     "data": {
      "text/plain": [
       "((135, 4), (15, 4), (135,), (15,))"
      ]
     },
     "execution_count": 14,
     "metadata": {},
     "output_type": "execute_result"
    }
   ],
   "source": [
    "x_train.shape, x_test.shape, y_train.shape, y_test.shape"
   ]
  },
  {
   "cell_type": "code",
   "execution_count": 15,
   "id": "1693852b",
   "metadata": {},
   "outputs": [
    {
     "data": {
      "text/plain": [
       "(array([1, 1, 0, 1, 2, 1, 2, 2, 0, 0, 2, 1, 0, 1, 0, 0, 2, 2, 0, 0, 0, 0,\n",
       "        2, 2, 2, 2, 2, 0, 2, 0, 2, 2, 2, 2, 1, 0, 2, 2, 0, 1, 1, 2, 0, 0,\n",
       "        1, 2, 0, 2, 0, 2, 1, 1, 0, 1, 0, 0, 0, 1, 2, 0, 1, 0, 1, 1, 0, 2,\n",
       "        2, 1, 1, 2, 1, 1, 2, 1, 2, 1, 1, 0, 1, 0, 0, 1, 0, 2, 2, 2, 1, 1,\n",
       "        0, 0, 2, 2, 0, 2, 1, 0, 0, 2, 0, 1, 1, 2, 1, 0, 2, 2, 1, 2, 0, 1,\n",
       "        0, 0, 2, 1, 0, 0, 2, 1, 0, 1, 1, 1, 2, 2, 1, 2, 2, 0, 1, 1, 0, 1,\n",
       "        1, 0, 1]),\n",
       " array([1, 1, 2, 0, 0, 2, 0, 0, 1, 2, 1, 2, 1, 0, 2]))"
      ]
     },
     "execution_count": 15,
     "metadata": {},
     "output_type": "execute_result"
    }
   ],
   "source": [
    "y_train, y_test"
   ]
  },
  {
   "cell_type": "code",
   "execution_count": 16,
   "id": "128bc473",
   "metadata": {},
   "outputs": [],
   "source": [
    "# mini batch  #norm, mini\n",
    "batch_size = 15"
   ]
  },
  {
   "cell_type": "code",
   "execution_count": 17,
   "id": "2fdc1114",
   "metadata": {},
   "outputs": [
    {
     "data": {
      "text/plain": [
       "(135, 4)"
      ]
     },
     "execution_count": 17,
     "metadata": {},
     "output_type": "execute_result"
    }
   ],
   "source": [
    "x_train.shape # ?, 15, 4"
   ]
  },
  {
   "cell_type": "code",
   "execution_count": 18,
   "id": "1289ace3",
   "metadata": {},
   "outputs": [],
   "source": [
    "x_train = x_train.reshape(-1, batch_size, x_train.shape[1])\n",
    "y_train = y_train.reshape(-1, batch_size, )"
   ]
  },
  {
   "cell_type": "code",
   "execution_count": 19,
   "id": "0f5ddef0",
   "metadata": {},
   "outputs": [
    {
     "data": {
      "text/plain": [
       "(numpy.ndarray, (9, 15))"
      ]
     },
     "execution_count": 19,
     "metadata": {},
     "output_type": "execute_result"
    }
   ],
   "source": [
    "type(x_train), y_train.shape # ?, 15, 4"
   ]
  },
  {
   "cell_type": "code",
   "execution_count": 20,
   "id": "14026510",
   "metadata": {},
   "outputs": [],
   "source": [
    "# 자료형 \n",
    "x_train = torch.FloatTensor(x_train)\n",
    "y_train = torch.LongTensor(y_train)\n",
    "\n",
    "x_test = torch.FloatTensor(x_test)\n",
    "y_test = torch.LongTensor(y_test)"
   ]
  },
  {
   "cell_type": "code",
   "execution_count": 21,
   "id": "3d95b944",
   "metadata": {},
   "outputs": [
    {
     "data": {
      "text/plain": [
       "(torch.Tensor,\n",
       " torch.Tensor,\n",
       " torch.Tensor,\n",
       " torch.Tensor,\n",
       " torch.float32,\n",
       " torch.int64)"
      ]
     },
     "execution_count": 21,
     "metadata": {},
     "output_type": "execute_result"
    }
   ],
   "source": [
    "type(x_train), type(y_train), type(x_test), type(y_test), x_train.dtype, y_train.dtype"
   ]
  },
  {
   "cell_type": "markdown",
   "id": "2b12cbd7",
   "metadata": {},
   "source": [
    "# Model init"
   ]
  },
  {
   "cell_type": "code",
   "execution_count": 22,
   "id": "5d487bd4",
   "metadata": {},
   "outputs": [],
   "source": [
    "class Iris_fcn(nn.Module):\n",
    "    \n",
    "    def __init__(self, model_input, model_output):\n",
    "        super(Iris_fcn, self).__init__()\n",
    "        \n",
    "        # layer\n",
    "        self.fc = nn.Linear(model_input, 16) # learning weight, bias\n",
    "        self.fc2 = nn.Linear(16, 8)\n",
    "        self.fc3 = nn.Linear(8, model_output)\n",
    "        \n",
    "        #activation \n",
    "        self.relu = nn.ReLU(inplace=True)\n",
    "        \n",
    "    def forward(self, x):\n",
    "        out = self.fc(x)\n",
    "        out = self.relu(out)\n",
    "        out = self.fc2(out)\n",
    "        out = self.relu(out)\n",
    "        out = self.fc3(out)\n",
    "        \n",
    "       # Cross Entropy Loss --> softmax 생략\n",
    "        \n",
    "        return out"
   ]
  },
  {
   "cell_type": "code",
   "execution_count": 23,
   "id": "e959087e",
   "metadata": {},
   "outputs": [],
   "source": [
    "model = Iris_fcn(x_train.shape[2], 3)"
   ]
  },
  {
   "cell_type": "code",
   "execution_count": 24,
   "id": "ca78f6d4",
   "metadata": {},
   "outputs": [
    {
     "name": "stdout",
     "output_type": "stream",
     "text": [
      "----------------------------------------------------------------\n",
      "        Layer (type)               Output Shape         Param #\n",
      "================================================================\n",
      "            Linear-1                [-1, 1, 16]              80\n",
      "              ReLU-2                [-1, 1, 16]               0\n",
      "            Linear-3                 [-1, 1, 8]             136\n",
      "              ReLU-4                 [-1, 1, 8]               0\n",
      "            Linear-5                 [-1, 1, 3]              27\n",
      "================================================================\n",
      "Total params: 243\n",
      "Trainable params: 243\n",
      "Non-trainable params: 0\n",
      "----------------------------------------------------------------\n",
      "Input size (MB): 0.00\n",
      "Forward/backward pass size (MB): 0.00\n",
      "Params size (MB): 0.00\n",
      "Estimated Total Size (MB): 0.00\n",
      "----------------------------------------------------------------\n"
     ]
    }
   ],
   "source": [
    "from torchsummary import summary\n",
    "\n",
    "summary(model, input_size=((1, 4)))"
   ]
  },
  {
   "cell_type": "markdown",
   "id": "9c601597",
   "metadata": {},
   "source": [
    "# Model train"
   ]
  },
  {
   "cell_type": "code",
   "execution_count": 27,
   "id": "fb7cbb17",
   "metadata": {},
   "outputs": [],
   "source": [
    "learning_rate = 1e-2 #0.01\n",
    "\n",
    "criterion = nn.CrossEntropyLoss()\n",
    "optimizer = optim.Adam(model.parameters(), lr=learning_rate)"
   ]
  },
  {
   "cell_type": "code",
   "execution_count": 30,
   "id": "562b2634",
   "metadata": {},
   "outputs": [
    {
     "name": "stdout",
     "output_type": "stream",
     "text": [
      "epoch:9, loss:0.20758947730064392\n",
      "epoch:19, loss:0.07716581225395203\n",
      "epoch:29, loss:0.06341855227947235\n",
      "epoch:39, loss:0.05901200696825981\n",
      "epoch:49, loss:0.05458582565188408\n",
      "epoch:59, loss:0.05111570656299591\n",
      "epoch:69, loss:0.04879704490303993\n",
      "epoch:79, loss:0.0471910797059536\n",
      "epoch:89, loss:0.045946042984724045\n",
      "epoch:99, loss:0.044884540140628815\n",
      "epoch:109, loss:0.043908800929784775\n",
      "epoch:119, loss:0.04297808185219765\n",
      "epoch:129, loss:0.042078837752342224\n",
      "epoch:139, loss:0.04120607674121857\n",
      "epoch:149, loss:0.04036073759198189\n",
      "epoch:159, loss:0.03954772278666496\n",
      "epoch:169, loss:0.038769401609897614\n",
      "epoch:179, loss:0.038019489496946335\n",
      "epoch:189, loss:0.03730781376361847\n",
      "epoch:199, loss:0.03662538900971413\n",
      "epoch:209, loss:0.03597799316048622\n",
      "epoch:219, loss:0.03536610305309296\n",
      "epoch:229, loss:0.03478162735700607\n",
      "epoch:239, loss:0.034229543060064316\n",
      "epoch:249, loss:0.033705148845911026\n",
      "epoch:259, loss:0.0332084484398365\n",
      "epoch:269, loss:0.03274175897240639\n",
      "epoch:279, loss:0.03229488059878349\n",
      "epoch:289, loss:0.03186660259962082\n",
      "epoch:299, loss:0.031456127762794495\n",
      "epoch:309, loss:0.031070955097675323\n",
      "epoch:319, loss:0.03068738803267479\n",
      "epoch:329, loss:0.030313288792967796\n",
      "epoch:339, loss:0.029953092336654663\n",
      "epoch:349, loss:0.029606716707348824\n",
      "epoch:359, loss:0.029286544770002365\n",
      "epoch:369, loss:0.028975749388337135\n",
      "epoch:379, loss:0.028678977862000465\n",
      "epoch:389, loss:0.02839873544871807\n",
      "epoch:399, loss:0.028130166232585907\n",
      "epoch:409, loss:0.027874549850821495\n",
      "epoch:419, loss:0.027629448100924492\n",
      "epoch:429, loss:0.02740415930747986\n",
      "epoch:439, loss:0.027183979749679565\n",
      "epoch:449, loss:0.0269728135317564\n",
      "epoch:459, loss:0.02677067369222641\n",
      "epoch:469, loss:0.026577714830636978\n",
      "epoch:479, loss:0.02638922818005085\n",
      "epoch:489, loss:0.026209892705082893\n",
      "epoch:499, loss:0.026037011295557022\n",
      "epoch:509, loss:0.025870684534311295\n",
      "epoch:519, loss:0.02571016736328602\n",
      "epoch:529, loss:0.02556212618947029\n",
      "epoch:539, loss:0.02541610598564148\n",
      "epoch:549, loss:0.025273121893405914\n",
      "epoch:559, loss:0.02513362094759941\n",
      "epoch:569, loss:0.02499951608479023\n",
      "epoch:579, loss:0.02486986108124256\n",
      "epoch:589, loss:0.02474306710064411\n",
      "epoch:599, loss:0.024621514603495598\n",
      "epoch:609, loss:0.024502543732523918\n",
      "epoch:619, loss:0.024387666955590248\n",
      "epoch:629, loss:0.024276377633213997\n",
      "epoch:639, loss:0.024167127907276154\n",
      "epoch:649, loss:0.024061759933829308\n",
      "epoch:659, loss:0.023958541452884674\n",
      "epoch:669, loss:0.023858407512307167\n",
      "epoch:679, loss:0.023760981857776642\n",
      "epoch:689, loss:0.023669464513659477\n",
      "epoch:699, loss:0.023580579087138176\n",
      "epoch:709, loss:0.023496143519878387\n",
      "epoch:719, loss:0.023407865315675735\n",
      "epoch:729, loss:0.023330271244049072\n",
      "epoch:739, loss:0.02324421890079975\n",
      "epoch:749, loss:0.02313130721449852\n",
      "epoch:759, loss:0.023005710914731026\n",
      "epoch:769, loss:0.023416101932525635\n",
      "epoch:779, loss:0.02356404811143875\n",
      "epoch:789, loss:0.02361065149307251\n",
      "epoch:799, loss:0.021583175286650658\n",
      "epoch:809, loss:0.021706921979784966\n",
      "epoch:819, loss:0.026703599840402603\n",
      "epoch:829, loss:0.022050166502594948\n",
      "epoch:839, loss:0.02021760120987892\n",
      "epoch:849, loss:0.01908227615058422\n",
      "epoch:859, loss:0.018507223576307297\n",
      "epoch:869, loss:0.01979333721101284\n",
      "epoch:879, loss:0.01868932694196701\n",
      "epoch:889, loss:0.031474992632865906\n",
      "epoch:899, loss:0.013535658828914165\n",
      "epoch:909, loss:0.013620086945593357\n",
      "epoch:919, loss:0.07514233142137527\n",
      "epoch:929, loss:0.013798280619084835\n",
      "epoch:939, loss:0.015650497749447823\n",
      "epoch:949, loss:0.0085096824914217\n",
      "epoch:959, loss:0.0187196247279644\n",
      "epoch:969, loss:0.02351895347237587\n",
      "epoch:979, loss:0.03142695128917694\n",
      "epoch:989, loss:0.026042694225907326\n",
      "epoch:999, loss:0.02432817965745926\n"
     ]
    }
   ],
   "source": [
    "epochs = 1000\n",
    "for _epoch in range(epochs):\n",
    "    for _batch in range(x_train.shape[0]):\n",
    "        optimizer.zero_grad()\n",
    "        \n",
    "        output = model(x_train[_batch, ])\n",
    "        \n",
    "        # 오차 계산 및 오차 역전파\n",
    "        loss = criterion(output, y_train[_batch, ])\n",
    "        loss.backward()\n",
    "\n",
    "        #기울기 적용\n",
    "        optimizer.step()\n",
    "        \n",
    "        \n",
    "    if (_epoch+1) % 10 == 0:\n",
    "        print(f'epoch:{_epoch}, loss:{loss.item()}')\n",
    "        \n",
    "        with torch.no_grad():\n",
    "            model.eval()\n",
    "            correct = 0\n",
    "            total = 0\n",
    "\n",
    "            outputs = model(x_test)\n",
    "            pred = torch.argmax(outputs, axis=1)\n",
    "\n",
    "            correct = (pred == y_test).sum()\n",
    "            total = y_test.shape[0]\n",
    "\n",
    "            acc = correct/total * 100\n",
    "            print(f'accuracy : {acc}, correct:{correct}, total{total}')\n",
    "            \n",
    "            model.train()"
   ]
  },
  {
   "cell_type": "code",
   "execution_count": 51,
   "id": "b7e10199",
   "metadata": {},
   "outputs": [
    {
     "name": "stdout",
     "output_type": "stream",
     "text": [
      "accuracy : 93.33333587646484, correct:14, total15\n"
     ]
    }
   ],
   "source": []
  },
  {
   "cell_type": "code",
   "execution_count": null,
   "id": "76532cc1",
   "metadata": {},
   "outputs": [],
   "source": []
  }
 ],
 "metadata": {
  "kernelspec": {
   "display_name": "Python 3 (ipykernel)",
   "language": "python",
   "name": "python3"
  },
  "language_info": {
   "codemirror_mode": {
    "name": "ipython",
    "version": 3
   },
   "file_extension": ".py",
   "mimetype": "text/x-python",
   "name": "python",
   "nbconvert_exporter": "python",
   "pygments_lexer": "ipython3",
   "version": "3.11.3"
  }
 },
 "nbformat": 4,
 "nbformat_minor": 5
}
