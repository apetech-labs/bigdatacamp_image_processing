{
 "cells": [
  {
   "cell_type": "markdown",
   "id": "f01bd839",
   "metadata": {},
   "source": [
    "# machince learning tool SVCM, PCA, GBM \n",
    "!pip install scikit-learn"
   ]
  },
  {
   "cell_type": "code",
   "execution_count": 1,
   "id": "5717b080",
   "metadata": {},
   "outputs": [],
   "source": [
    "# pytorch\n",
    "import torch\n",
    "import torch.nn as nn\n",
    "import torch.optim as optim\n",
    "import numpy as np"
   ]
  },
  {
   "cell_type": "code",
   "execution_count": 2,
   "id": "4cb4812a",
   "metadata": {},
   "outputs": [],
   "source": [
    "# scikit learn\n",
    "# from sklearn.datasets import load_iris\n",
    "import sklearn.datasets as sk_dataset\n",
    "\n",
    "# split learning / test\n",
    "from sklearn.model_selection import train_test_split"
   ]
  },
  {
   "cell_type": "code",
   "execution_count": 3,
   "id": "2515ddba",
   "metadata": {},
   "outputs": [],
   "source": [
    "# in/out data load"
   ]
  },
  {
   "cell_type": "code",
   "execution_count": 4,
   "id": "ff9dfe48",
   "metadata": {},
   "outputs": [],
   "source": [
    "iris_data = sk_dataset.load_iris()"
   ]
  },
  {
   "cell_type": "code",
   "execution_count": 5,
   "id": "f68ded77",
   "metadata": {},
   "outputs": [],
   "source": [
    "iris_x = iris_data.data # input \n",
    "iris_y = iris_data.target # output(target)"
   ]
  },
  {
   "cell_type": "code",
   "execution_count": 6,
   "id": "e6e6ac0e",
   "metadata": {},
   "outputs": [
    {
     "data": {
      "text/plain": [
       "(numpy.ndarray, (150, 4))"
      ]
     },
     "execution_count": 6,
     "metadata": {},
     "output_type": "execute_result"
    }
   ],
   "source": [
    "type(iris_x), iris_x.shape # sample # 붓꽃의 꽃받침 길이, 꽃받침 너비 과 꽃잎의 길이, 꽃잎의 너비 에 대한 값"
   ]
  },
  {
   "cell_type": "code",
   "execution_count": 7,
   "id": "cf399e41",
   "metadata": {},
   "outputs": [
    {
     "data": {
      "text/plain": [
       "(numpy.ndarray, (150,), array([2, 2, 2, 2, 2, 2, 2, 2, 2, 2]))"
      ]
     },
     "execution_count": 7,
     "metadata": {},
     "output_type": "execute_result"
    }
   ],
   "source": [
    "type(iris_y), iris_y.shape, iris_y[100:110] # class number 0- setosa, 1 - versicolor, 2 - virginica"
   ]
  },
  {
   "cell_type": "code",
   "execution_count": 8,
   "id": "9704b243",
   "metadata": {},
   "outputs": [
    {
     "data": {
      "text/plain": [
       "(2.0, 4.4)"
      ]
     },
     "execution_count": 8,
     "metadata": {},
     "output_type": "execute_result"
    }
   ],
   "source": [
    "iris_x[:, 1].min(), iris_x[:, 1].max()  # input-out normalizing 0~1"
   ]
  },
  {
   "cell_type": "code",
   "execution_count": 9,
   "id": "496602aa",
   "metadata": {},
   "outputs": [],
   "source": [
    "# norm 0~1 .. input mapping \n",
    "def norm_maxmin(data, out_min=0, out_max=255):\n",
    "    gradient = (out_max - out_min) / (np.max(data) - np.min(data))\n",
    "    bias = out_min - np.min(data) * gradient\n",
    "    out = data * gradient + bias\n",
    "\n",
    "    return out"
   ]
  },
  {
   "cell_type": "code",
   "execution_count": 10,
   "id": "55a42220",
   "metadata": {},
   "outputs": [],
   "source": [
    "for it_col in range(iris_x.shape[1]):\n",
    "    iris_x[:, it_col] = norm_maxmin(iris_x[:, it_col], 0, 1)"
   ]
  },
  {
   "cell_type": "code",
   "execution_count": 11,
   "id": "6ed1c9d8",
   "metadata": {},
   "outputs": [
    {
     "data": {
      "text/plain": [
       "(0.0, 1.0)"
      ]
     },
     "execution_count": 11,
     "metadata": {},
     "output_type": "execute_result"
    }
   ],
   "source": [
    "iris_x[:, 0].min(), iris_x[:, 0].max()  # input-out normalizing 0~1"
   ]
  },
  {
   "cell_type": "code",
   "execution_count": 12,
   "id": "a1b2cd74",
   "metadata": {},
   "outputs": [
    {
     "data": {
      "text/plain": [
       "((150, 4), (150,))"
      ]
     },
     "execution_count": 12,
     "metadata": {},
     "output_type": "execute_result"
    }
   ],
   "source": [
    "iris_x.shape, iris_y.shape"
   ]
  },
  {
   "cell_type": "code",
   "execution_count": 16,
   "id": "4beaf97e",
   "metadata": {},
   "outputs": [],
   "source": [
    "# train set, test set\n",
    "x_train, x_test, y_train, y_test = train_test_split(iris_x, iris_y, test_size=0.1, shuffle=True)"
   ]
  },
  {
   "cell_type": "code",
   "execution_count": 17,
   "id": "a0907cdb",
   "metadata": {},
   "outputs": [
    {
     "data": {
      "text/plain": [
       "((135, 4), (15, 4), (135,), (15,))"
      ]
     },
     "execution_count": 17,
     "metadata": {},
     "output_type": "execute_result"
    }
   ],
   "source": [
    "x_train.shape, x_test.shape, y_train.shape, y_test.shape"
   ]
  },
  {
   "cell_type": "code",
   "execution_count": 18,
   "id": "1693852b",
   "metadata": {},
   "outputs": [
    {
     "data": {
      "text/plain": [
       "(array([2, 1, 0, 1, 1, 2, 0, 1, 2, 2, 1, 2, 1, 1, 0, 1, 1, 0, 1, 1, 0, 1,\n",
       "        0, 0, 1, 2, 1, 1, 0, 2, 1, 2, 2, 0, 2, 1, 0, 1, 2, 0, 0, 2, 1, 2,\n",
       "        2, 1, 2, 0, 2, 2, 0, 1, 2, 0, 1, 2, 0, 1, 0, 0, 2, 1, 2, 2, 2, 2,\n",
       "        0, 2, 0, 0, 1, 0, 0, 1, 2, 0, 0, 1, 1, 2, 0, 1, 2, 0, 0, 0, 2, 2,\n",
       "        0, 0, 1, 1, 0, 0, 1, 1, 0, 2, 1, 1, 0, 1, 2, 1, 0, 0, 2, 2, 1, 0,\n",
       "        0, 1, 0, 0, 0, 1, 0, 2, 0, 2, 0, 0, 1, 1, 1, 0, 2, 1, 1, 2, 1, 1,\n",
       "        2, 2, 2]),\n",
       " array([2, 0, 1, 2, 2, 0, 2, 1, 2, 2, 1, 0, 2, 2, 2]))"
      ]
     },
     "execution_count": 18,
     "metadata": {},
     "output_type": "execute_result"
    }
   ],
   "source": [
    "y_train, y_test"
   ]
  },
  {
   "cell_type": "code",
   "execution_count": 19,
   "id": "128bc473",
   "metadata": {},
   "outputs": [],
   "source": [
    "# mini batch  #norm, mini\n",
    "batch_size = 15"
   ]
  },
  {
   "cell_type": "code",
   "execution_count": 20,
   "id": "ed7e0e0b",
   "metadata": {},
   "outputs": [
    {
     "data": {
      "text/plain": [
       "(135, 4)"
      ]
     },
     "execution_count": 20,
     "metadata": {},
     "output_type": "execute_result"
    }
   ],
   "source": [
    "x_train.shape # ?, 15, 4"
   ]
  },
  {
   "cell_type": "code",
   "execution_count": 21,
   "id": "3dc89fb9",
   "metadata": {},
   "outputs": [],
   "source": [
    "x_train = x_train.reshape(-1, batch_size, x_train.shape[1])\n",
    "y_train = y_train.reshape(-1, batch_size, )"
   ]
  },
  {
   "cell_type": "code",
   "execution_count": 24,
   "id": "df2a7538",
   "metadata": {},
   "outputs": [
    {
     "data": {
      "text/plain": [
       "(numpy.ndarray, (9, 15))"
      ]
     },
     "execution_count": 24,
     "metadata": {},
     "output_type": "execute_result"
    }
   ],
   "source": [
    "type(x_train), y_train.shape # ?, 15, 4"
   ]
  },
  {
   "cell_type": "code",
   "execution_count": 25,
   "id": "dc689da6",
   "metadata": {},
   "outputs": [],
   "source": [
    "# 자료형 \n",
    "x_train = torch.FloatTensor(x_train)\n",
    "y_train = torch.LongTensor(y_train)\n",
    "\n",
    "x_test = torch.FloatTensor(x_test)\n",
    "y_test = torch.LongTensor(y_test)"
   ]
  },
  {
   "cell_type": "code",
   "execution_count": 31,
   "id": "43b879b7",
   "metadata": {},
   "outputs": [
    {
     "data": {
      "text/plain": [
       "(torch.Tensor,\n",
       " torch.Tensor,\n",
       " torch.Tensor,\n",
       " torch.Tensor,\n",
       " torch.float32,\n",
       " torch.int64)"
      ]
     },
     "execution_count": 31,
     "metadata": {},
     "output_type": "execute_result"
    }
   ],
   "source": [
    "type(x_train), type(y_train), type(x_test), type(y_test), x_train.dtype, y_train.dtype"
   ]
  },
  {
   "cell_type": "markdown",
   "id": "d2a2d12a",
   "metadata": {},
   "source": [
    "# Model init"
   ]
  },
  {
   "cell_type": "code",
   "execution_count": 32,
   "id": "1077ee7c",
   "metadata": {},
   "outputs": [],
   "source": [
    "class Iris_fcn(nn.Module):\n",
    "    \n",
    "    def __init__(self, model_input, model_output):\n",
    "        super(Iris_fcn, self).__init__()\n",
    "        \n",
    "        # layer\n",
    "        self.fc = nn.Linear(model_input, 16) # learning weight, bias\n",
    "        self.fc2 = nn.Linear(16, 8)\n",
    "        self.fc3 = nn.Linear(8, model_output)\n",
    "        \n",
    "        #activation \n",
    "        self.relu = nn.ReLU(inplace=True)\n",
    "        \n",
    "    def forward(self, x):\n",
    "        out = self.fc(x)\n",
    "        out = self.relu(out)\n",
    "        out = self.fc2(out)\n",
    "        out = self.relu(out)\n",
    "        out = self.fc3(out)\n",
    "        \n",
    "       # Cross Entropy Loss --> softmax 생략\n",
    "        \n",
    "        return out"
   ]
  },
  {
   "cell_type": "code",
   "execution_count": 36,
   "id": "fd58ac25",
   "metadata": {},
   "outputs": [],
   "source": [
    "model = Iris_fcn(x_train.shape[2], 3)"
   ]
  },
  {
   "cell_type": "code",
   "execution_count": 45,
   "id": "61eb990d",
   "metadata": {},
   "outputs": [],
   "source": [
    "model2 = Iris_fcn(x_train.shape[2], 3)"
   ]
  },
  {
   "cell_type": "code",
   "execution_count": 41,
   "id": "72c82a83",
   "metadata": {},
   "outputs": [],
   "source": [
    "from torchsummary import summary"
   ]
  },
  {
   "cell_type": "code",
   "execution_count": 47,
   "id": "c84733ec",
   "metadata": {},
   "outputs": [
    {
     "name": "stdout",
     "output_type": "stream",
     "text": [
      "----------------------------------------------------------------\n",
      "        Layer (type)               Output Shape         Param #\n",
      "================================================================\n",
      "            Linear-1                [-1, 1, 16]              80\n",
      "              ReLU-2                [-1, 1, 16]               0\n",
      "            Linear-3                 [-1, 1, 8]             136\n",
      "              ReLU-4                 [-1, 1, 8]               0\n",
      "            Linear-5                 [-1, 1, 3]              27\n",
      "================================================================\n",
      "Total params: 243\n",
      "Trainable params: 243\n",
      "Non-trainable params: 0\n",
      "----------------------------------------------------------------\n",
      "Input size (MB): 0.00\n",
      "Forward/backward pass size (MB): 0.00\n",
      "Params size (MB): 0.00\n",
      "Estimated Total Size (MB): 0.00\n",
      "----------------------------------------------------------------\n"
     ]
    }
   ],
   "source": [
    "summary(model, input_size=((1, 4)))"
   ]
  },
  {
   "cell_type": "markdown",
   "id": "dc6ded3a",
   "metadata": {},
   "source": [
    "# Model train"
   ]
  },
  {
   "cell_type": "code",
   "execution_count": null,
   "id": "10845325",
   "metadata": {},
   "outputs": [],
   "source": []
  },
  {
   "cell_type": "code",
   "execution_count": null,
   "id": "9720f374",
   "metadata": {},
   "outputs": [],
   "source": []
  },
  {
   "cell_type": "code",
   "execution_count": null,
   "id": "a3d48d90",
   "metadata": {},
   "outputs": [],
   "source": []
  },
  {
   "cell_type": "code",
   "execution_count": null,
   "id": "2d47d157",
   "metadata": {},
   "outputs": [],
   "source": []
  },
  {
   "cell_type": "code",
   "execution_count": null,
   "id": "068795cb",
   "metadata": {},
   "outputs": [],
   "source": []
  },
  {
   "cell_type": "code",
   "execution_count": null,
   "id": "a907f5df",
   "metadata": {},
   "outputs": [],
   "source": []
  },
  {
   "cell_type": "code",
   "execution_count": null,
   "id": "814ebc92",
   "metadata": {},
   "outputs": [],
   "source": []
  }
 ],
 "metadata": {
  "kernelspec": {
   "display_name": "Python 3 (ipykernel)",
   "language": "python",
   "name": "python3"
  },
  "language_info": {
   "codemirror_mode": {
    "name": "ipython",
    "version": 3
   },
   "file_extension": ".py",
   "mimetype": "text/x-python",
   "name": "python",
   "nbconvert_exporter": "python",
   "pygments_lexer": "ipython3",
   "version": "3.11.3"
  }
 },
 "nbformat": 4,
 "nbformat_minor": 5
}
