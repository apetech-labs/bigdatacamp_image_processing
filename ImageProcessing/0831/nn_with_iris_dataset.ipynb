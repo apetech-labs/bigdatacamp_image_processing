{
 "cells": [
  {
   "cell_type": "markdown",
   "id": "f01bd839",
   "metadata": {},
   "source": [
    "# machince learning tool SVCM, PCA, GBM \n",
    "!pip install scikit-learn"
   ]
  },
  {
   "cell_type": "code",
   "execution_count": 1,
   "id": "5717b080",
   "metadata": {},
   "outputs": [],
   "source": [
    "# pytorch\n",
    "import torch\n",
    "import torch.nn as nn\n",
    "import torch.optim as optim\n",
    "import numpy as np"
   ]
  },
  {
   "cell_type": "code",
   "execution_count": 2,
   "id": "4cb4812a",
   "metadata": {},
   "outputs": [],
   "source": [
    "# scikit learn\n",
    "# from sklearn.datasets import load_iris\n",
    "import sklearn.datasets as sk_dataset\n",
    "\n",
    "# split learning / test\n",
    "from sklearn.model_selection import train_test_split"
   ]
  },
  {
   "cell_type": "code",
   "execution_count": 3,
   "id": "2515ddba",
   "metadata": {},
   "outputs": [],
   "source": [
    "# in/out data load"
   ]
  },
  {
   "cell_type": "code",
   "execution_count": 4,
   "id": "ff9dfe48",
   "metadata": {},
   "outputs": [],
   "source": [
    "iris_data = sk_dataset.load_iris()"
   ]
  },
  {
   "cell_type": "code",
   "execution_count": 5,
   "id": "f68ded77",
   "metadata": {},
   "outputs": [],
   "source": [
    "iris_x = iris_data.data # input \n",
    "iris_y = iris_data.target # output(target)"
   ]
  },
  {
   "cell_type": "code",
   "execution_count": 6,
   "id": "e6e6ac0e",
   "metadata": {},
   "outputs": [
    {
     "data": {
      "text/plain": [
       "(numpy.ndarray, (150, 4))"
      ]
     },
     "execution_count": 6,
     "metadata": {},
     "output_type": "execute_result"
    }
   ],
   "source": [
    "type(iris_x), iris_x.shape # sample # 붓꽃의 꽃받침 길이, 꽃받침 너비 과 꽃잎의 길이, 꽃잎의 너비 에 대한 값"
   ]
  },
  {
   "cell_type": "code",
   "execution_count": 7,
   "id": "cf399e41",
   "metadata": {},
   "outputs": [
    {
     "data": {
      "text/plain": [
       "(numpy.ndarray, (150,), array([2, 2, 2, 2, 2, 2, 2, 2, 2, 2]))"
      ]
     },
     "execution_count": 7,
     "metadata": {},
     "output_type": "execute_result"
    }
   ],
   "source": [
    "type(iris_y), iris_y.shape, iris_y[100:110] # class number 0- setosa, 1 - versicolor, 2 - virginica"
   ]
  },
  {
   "cell_type": "code",
   "execution_count": 8,
   "id": "9704b243",
   "metadata": {},
   "outputs": [
    {
     "data": {
      "text/plain": [
       "(2.0, 4.4)"
      ]
     },
     "execution_count": 8,
     "metadata": {},
     "output_type": "execute_result"
    }
   ],
   "source": [
    "iris_x[:, 1].min(), iris_x[:, 1].max()  # input-out normalizing 0~1"
   ]
  },
  {
   "cell_type": "code",
   "execution_count": 9,
   "id": "496602aa",
   "metadata": {},
   "outputs": [],
   "source": [
    "# norm 0~1 .. input mapping \n",
    "def norm_maxmin(data, out_min=0, out_max=255):\n",
    "    gradient = (out_max - out_min) / (np.max(data) - np.min(data))\n",
    "    bias = out_min - np.min(data) * gradient\n",
    "    out = data * gradient + bias\n",
    "\n",
    "    return out"
   ]
  },
  {
   "cell_type": "code",
   "execution_count": 10,
   "id": "55a42220",
   "metadata": {},
   "outputs": [],
   "source": [
    "for it_col in range(iris_x.shape[1]):\n",
    "    iris_x[:, it_col] = norm_maxmin(iris_x[:, it_col], 0, 1)"
   ]
  },
  {
   "cell_type": "code",
   "execution_count": 11,
   "id": "6ed1c9d8",
   "metadata": {},
   "outputs": [
    {
     "data": {
      "text/plain": [
       "(0.0, 1.0)"
      ]
     },
     "execution_count": 11,
     "metadata": {},
     "output_type": "execute_result"
    }
   ],
   "source": [
    "iris_x[:, 0].min(), iris_x[:, 0].max()  # input-out normalizing 0~1"
   ]
  },
  {
   "cell_type": "code",
   "execution_count": 12,
   "id": "a1b2cd74",
   "metadata": {},
   "outputs": [
    {
     "data": {
      "text/plain": [
       "((150, 4), (150,))"
      ]
     },
     "execution_count": 12,
     "metadata": {},
     "output_type": "execute_result"
    }
   ],
   "source": [
    "iris_x.shape, iris_y.shape"
   ]
  },
  {
   "cell_type": "code",
   "execution_count": 13,
   "id": "4beaf97e",
   "metadata": {},
   "outputs": [],
   "source": [
    "# train set, test set\n",
    "x_train, x_test, y_train, y_test = train_test_split(iris_x, iris_y, test_size=0.1, shuffle=True)"
   ]
  },
  {
   "cell_type": "code",
   "execution_count": 14,
   "id": "a0907cdb",
   "metadata": {},
   "outputs": [
    {
     "data": {
      "text/plain": [
       "((135, 4), (15, 4), (135,), (15,))"
      ]
     },
     "execution_count": 14,
     "metadata": {},
     "output_type": "execute_result"
    }
   ],
   "source": [
    "x_train.shape, x_test.shape, y_train.shape, y_test.shape"
   ]
  },
  {
   "cell_type": "code",
   "execution_count": 15,
   "id": "1693852b",
   "metadata": {},
   "outputs": [
    {
     "data": {
      "text/plain": [
       "(array([1, 1, 0, 2, 0, 2, 1, 2, 1, 1, 1, 1, 0, 1, 0, 2, 1, 0, 2, 0, 0, 1,\n",
       "        2, 1, 2, 2, 0, 0, 2, 0, 0, 1, 1, 1, 0, 0, 0, 2, 0, 0, 1, 2, 2, 0,\n",
       "        2, 1, 0, 1, 0, 1, 2, 2, 1, 2, 2, 2, 2, 1, 0, 1, 2, 1, 0, 2, 1, 0,\n",
       "        1, 2, 2, 1, 1, 0, 0, 1, 0, 0, 1, 0, 2, 1, 2, 0, 0, 1, 1, 0, 1, 0,\n",
       "        1, 2, 1, 2, 1, 0, 1, 0, 2, 2, 0, 2, 1, 0, 2, 1, 1, 0, 1, 0, 2, 2,\n",
       "        0, 1, 0, 2, 1, 1, 0, 2, 2, 0, 0, 1, 2, 2, 0, 2, 1, 2, 1, 1, 2, 2,\n",
       "        0, 1, 2]),\n",
       " array([2, 0, 2, 0, 2, 2, 2, 2, 0, 0, 2, 1, 1, 0, 0]))"
      ]
     },
     "execution_count": 15,
     "metadata": {},
     "output_type": "execute_result"
    }
   ],
   "source": [
    "y_train, y_test"
   ]
  },
  {
   "cell_type": "code",
   "execution_count": 16,
   "id": "128bc473",
   "metadata": {},
   "outputs": [],
   "source": [
    "# mini batch  #norm, mini\n",
    "batch_size = 15"
   ]
  },
  {
   "cell_type": "code",
   "execution_count": 17,
   "id": "2fdc1114",
   "metadata": {},
   "outputs": [
    {
     "data": {
      "text/plain": [
       "(135, 4)"
      ]
     },
     "execution_count": 17,
     "metadata": {},
     "output_type": "execute_result"
    }
   ],
   "source": [
    "x_train.shape # ?, 15, 4"
   ]
  },
  {
   "cell_type": "code",
   "execution_count": 18,
   "id": "1289ace3",
   "metadata": {},
   "outputs": [],
   "source": [
    "x_train = x_train.reshape(-1, batch_size, x_train.shape[1])\n",
    "y_train = y_train.reshape(-1, batch_size, )"
   ]
  },
  {
   "cell_type": "code",
   "execution_count": 19,
   "id": "0f5ddef0",
   "metadata": {},
   "outputs": [
    {
     "data": {
      "text/plain": [
       "(numpy.ndarray, (9, 15))"
      ]
     },
     "execution_count": 19,
     "metadata": {},
     "output_type": "execute_result"
    }
   ],
   "source": [
    "type(x_train), y_train.shape # ?, 15, 4"
   ]
  },
  {
   "cell_type": "code",
   "execution_count": 20,
   "id": "14026510",
   "metadata": {},
   "outputs": [],
   "source": [
    "# 자료형 \n",
    "x_train = torch.FloatTensor(x_train)\n",
    "y_train = torch.LongTensor(y_train)\n",
    "\n",
    "x_test = torch.FloatTensor(x_test)\n",
    "y_test = torch.LongTensor(y_test)"
   ]
  },
  {
   "cell_type": "code",
   "execution_count": 21,
   "id": "3d95b944",
   "metadata": {},
   "outputs": [
    {
     "data": {
      "text/plain": [
       "(torch.Tensor,\n",
       " torch.Tensor,\n",
       " torch.Tensor,\n",
       " torch.Tensor,\n",
       " torch.float32,\n",
       " torch.int64)"
      ]
     },
     "execution_count": 21,
     "metadata": {},
     "output_type": "execute_result"
    }
   ],
   "source": [
    "type(x_train), type(y_train), type(x_test), type(y_test), x_train.dtype, y_train.dtype"
   ]
  },
  {
   "cell_type": "markdown",
   "id": "2b12cbd7",
   "metadata": {},
   "source": [
    "# Model init"
   ]
  },
  {
   "cell_type": "code",
   "execution_count": 22,
   "id": "5d487bd4",
   "metadata": {},
   "outputs": [],
   "source": [
    "class Iris_fcn(nn.Module):\n",
    "    \n",
    "    def __init__(self, model_input, model_output):\n",
    "        super(Iris_fcn, self).__init__()\n",
    "        \n",
    "        # layer\n",
    "        self.fc = nn.Linear(model_input, 16) # learning weight, bias\n",
    "        self.fc2 = nn.Linear(16, 8)\n",
    "        self.fc3 = nn.Linear(8, model_output)\n",
    "        \n",
    "        #activation \n",
    "        self.relu = nn.ReLU(inplace=True)\n",
    "        \n",
    "    def forward(self, x):\n",
    "        out = self.fc(x)\n",
    "        out = self.relu(out)\n",
    "        out = self.fc2(out)\n",
    "        out = self.relu(out)\n",
    "        out = self.fc3(out)\n",
    "        \n",
    "       # Cross Entropy Loss --> softmax 생략\n",
    "        \n",
    "        return out"
   ]
  },
  {
   "cell_type": "code",
   "execution_count": 23,
   "id": "e959087e",
   "metadata": {},
   "outputs": [],
   "source": [
    "model = Iris_fcn(x_train.shape[2], 3)"
   ]
  },
  {
   "cell_type": "code",
   "execution_count": 24,
   "id": "ca78f6d4",
   "metadata": {},
   "outputs": [
    {
     "name": "stdout",
     "output_type": "stream",
     "text": [
      "----------------------------------------------------------------\n",
      "        Layer (type)               Output Shape         Param #\n",
      "================================================================\n",
      "            Linear-1                [-1, 1, 16]              80\n",
      "              ReLU-2                [-1, 1, 16]               0\n",
      "            Linear-3                 [-1, 1, 8]             136\n",
      "              ReLU-4                 [-1, 1, 8]               0\n",
      "            Linear-5                 [-1, 1, 3]              27\n",
      "================================================================\n",
      "Total params: 243\n",
      "Trainable params: 243\n",
      "Non-trainable params: 0\n",
      "----------------------------------------------------------------\n",
      "Input size (MB): 0.00\n",
      "Forward/backward pass size (MB): 0.00\n",
      "Params size (MB): 0.00\n",
      "Estimated Total Size (MB): 0.00\n",
      "----------------------------------------------------------------\n"
     ]
    }
   ],
   "source": [
    "from torchsummary import summary\n",
    "\n",
    "summary(model, input_size=((1, 4)))"
   ]
  },
  {
   "cell_type": "markdown",
   "id": "9c601597",
   "metadata": {},
   "source": [
    "# Model train"
   ]
  },
  {
   "cell_type": "code",
   "execution_count": 25,
   "id": "fb7cbb17",
   "metadata": {},
   "outputs": [],
   "source": [
    "learning_rate = 1e-2 #0.01\n",
    "\n",
    "criterion = nn.CrossEntropyLoss()\n",
    "optimizer = optim.Adam(model.parameters(), lr=learning_rate)"
   ]
  },
  {
   "cell_type": "code",
   "execution_count": 26,
   "id": "562b2634",
   "metadata": {
    "scrolled": false
   },
   "outputs": [
    {
     "name": "stdout",
     "output_type": "stream",
     "text": [
      "epoch:9, loss:0.039494168013334274\n",
      "accuracy : 100.0, correct:15, total15\n",
      "epoch:19, loss:0.007129103410989046\n",
      "accuracy : 100.0, correct:15, total15\n",
      "epoch:29, loss:0.0033926726318895817\n",
      "accuracy : 93.33333587646484, correct:14, total15\n",
      "epoch:39, loss:0.002195026958361268\n",
      "accuracy : 93.33333587646484, correct:14, total15\n",
      "epoch:49, loss:0.0016481330385431647\n",
      "accuracy : 93.33333587646484, correct:14, total15\n",
      "epoch:59, loss:0.0013525326503440738\n",
      "accuracy : 100.0, correct:15, total15\n",
      "epoch:69, loss:0.001174574950709939\n",
      "accuracy : 100.0, correct:15, total15\n",
      "epoch:79, loss:0.0010553537867963314\n",
      "accuracy : 100.0, correct:15, total15\n",
      "epoch:89, loss:0.0009834575466811657\n",
      "accuracy : 100.0, correct:15, total15\n",
      "epoch:99, loss:0.0009304214618168771\n",
      "accuracy : 100.0, correct:15, total15\n",
      "epoch:109, loss:0.0008822563686408103\n",
      "accuracy : 100.0, correct:15, total15\n",
      "epoch:119, loss:0.0008552550571039319\n",
      "accuracy : 100.0, correct:15, total15\n",
      "epoch:129, loss:0.0008359296480193734\n",
      "accuracy : 100.0, correct:15, total15\n",
      "epoch:139, loss:0.0008129077032208443\n",
      "accuracy : 100.0, correct:15, total15\n",
      "epoch:149, loss:0.0007996404310688376\n",
      "accuracy : 100.0, correct:15, total15\n",
      "epoch:159, loss:0.0007914819871075451\n",
      "accuracy : 100.0, correct:15, total15\n",
      "epoch:169, loss:0.0007860056357458234\n",
      "accuracy : 100.0, correct:15, total15\n",
      "epoch:179, loss:0.0007685482851229608\n",
      "accuracy : 100.0, correct:15, total15\n",
      "epoch:189, loss:0.0007663863943889737\n",
      "accuracy : 100.0, correct:15, total15\n",
      "epoch:199, loss:0.0007669287151657045\n",
      "accuracy : 100.0, correct:15, total15\n",
      "epoch:209, loss:0.0007654253859072924\n",
      "accuracy : 100.0, correct:15, total15\n",
      "epoch:219, loss:0.0007814705022610724\n",
      "accuracy : 100.0, correct:15, total15\n",
      "epoch:229, loss:0.0008444521226920187\n",
      "accuracy : 100.0, correct:15, total15\n",
      "epoch:239, loss:0.0010102472733706236\n",
      "accuracy : 100.0, correct:15, total15\n",
      "epoch:249, loss:0.001656828448176384\n",
      "accuracy : 93.33333587646484, correct:14, total15\n",
      "epoch:259, loss:0.00284583424217999\n",
      "accuracy : 93.33333587646484, correct:14, total15\n",
      "epoch:269, loss:0.002375197596848011\n",
      "accuracy : 100.0, correct:15, total15\n",
      "epoch:279, loss:0.0013283647131174803\n",
      "accuracy : 100.0, correct:15, total15\n",
      "epoch:289, loss:0.0012164550134912133\n",
      "accuracy : 100.0, correct:15, total15\n",
      "epoch:299, loss:0.0013692622305825353\n",
      "accuracy : 93.33333587646484, correct:14, total15\n",
      "epoch:309, loss:0.0014910940080881119\n",
      "accuracy : 100.0, correct:15, total15\n",
      "epoch:319, loss:0.0013529431307688355\n",
      "accuracy : 100.0, correct:15, total15\n",
      "epoch:329, loss:0.00114958337508142\n",
      "accuracy : 100.0, correct:15, total15\n",
      "epoch:339, loss:0.001051237341016531\n",
      "accuracy : 100.0, correct:15, total15\n",
      "epoch:349, loss:0.0010301986476406455\n",
      "accuracy : 100.0, correct:15, total15\n",
      "epoch:359, loss:0.001104374649003148\n",
      "accuracy : 100.0, correct:15, total15\n",
      "epoch:369, loss:0.0011350844288244843\n",
      "accuracy : 100.0, correct:15, total15\n",
      "epoch:379, loss:0.0010183051927015185\n",
      "accuracy : 100.0, correct:15, total15\n",
      "epoch:389, loss:0.0009464853210374713\n",
      "accuracy : 100.0, correct:15, total15\n",
      "epoch:399, loss:0.0009080573217943311\n",
      "accuracy : 100.0, correct:15, total15\n",
      "epoch:409, loss:0.0009126318036578596\n",
      "accuracy : 100.0, correct:15, total15\n",
      "epoch:419, loss:0.0009664399549365044\n",
      "accuracy : 93.33333587646484, correct:14, total15\n",
      "epoch:429, loss:0.001025931560434401\n",
      "accuracy : 100.0, correct:15, total15\n",
      "epoch:439, loss:0.0010667116148397326\n",
      "accuracy : 100.0, correct:15, total15\n",
      "epoch:449, loss:0.001025709556415677\n",
      "accuracy : 93.33333587646484, correct:14, total15\n",
      "epoch:459, loss:0.000976997776888311\n",
      "accuracy : 100.0, correct:15, total15\n",
      "epoch:469, loss:0.0008747234242036939\n",
      "accuracy : 100.0, correct:15, total15\n",
      "epoch:479, loss:0.0007789417868480086\n",
      "accuracy : 100.0, correct:15, total15\n",
      "epoch:489, loss:0.0008606140618212521\n",
      "accuracy : 100.0, correct:15, total15\n",
      "epoch:499, loss:0.0008311657584272325\n",
      "accuracy : 100.0, correct:15, total15\n",
      "epoch:509, loss:0.0007628208841197193\n",
      "accuracy : 100.0, correct:15, total15\n",
      "epoch:519, loss:0.0009797133971005678\n",
      "accuracy : 100.0, correct:15, total15\n",
      "epoch:529, loss:0.0010193949565291405\n",
      "accuracy : 93.33333587646484, correct:14, total15\n",
      "epoch:539, loss:0.0009371220949105918\n",
      "accuracy : 93.33333587646484, correct:14, total15\n",
      "epoch:549, loss:0.0014576695393770933\n",
      "accuracy : 93.33333587646484, correct:14, total15\n",
      "epoch:559, loss:0.003950667101889849\n",
      "accuracy : 86.66666412353516, correct:13, total15\n",
      "epoch:569, loss:0.002905398840084672\n",
      "accuracy : 93.33333587646484, correct:14, total15\n",
      "epoch:579, loss:0.0013698398834094405\n",
      "accuracy : 93.33333587646484, correct:14, total15\n",
      "epoch:589, loss:0.0012142066843807697\n",
      "accuracy : 93.33333587646484, correct:14, total15\n",
      "epoch:599, loss:0.001324010663665831\n",
      "accuracy : 93.33333587646484, correct:14, total15\n",
      "epoch:609, loss:0.0012069997610524297\n",
      "accuracy : 93.33333587646484, correct:14, total15\n",
      "epoch:619, loss:0.001204149448312819\n",
      "accuracy : 93.33333587646484, correct:14, total15\n",
      "epoch:629, loss:0.0007119145593605936\n",
      "accuracy : 100.0, correct:15, total15\n",
      "epoch:639, loss:0.0008002423564903438\n",
      "accuracy : 100.0, correct:15, total15\n",
      "epoch:649, loss:0.0009133347193710506\n",
      "accuracy : 100.0, correct:15, total15\n",
      "epoch:659, loss:0.0010877642780542374\n",
      "accuracy : 100.0, correct:15, total15\n",
      "epoch:669, loss:0.0018584508216008544\n",
      "accuracy : 93.33333587646484, correct:14, total15\n",
      "epoch:679, loss:0.0008086753659881651\n",
      "accuracy : 100.0, correct:15, total15\n",
      "epoch:689, loss:0.0015335422940552235\n",
      "accuracy : 93.33333587646484, correct:14, total15\n",
      "epoch:699, loss:0.0007158617372624576\n",
      "accuracy : 100.0, correct:15, total15\n",
      "epoch:709, loss:0.0015537588624283671\n",
      "accuracy : 93.33333587646484, correct:14, total15\n",
      "epoch:719, loss:0.0007178977248258889\n",
      "accuracy : 100.0, correct:15, total15\n",
      "epoch:729, loss:0.0015727923018857837\n",
      "accuracy : 93.33333587646484, correct:14, total15\n",
      "epoch:739, loss:0.0007058325572870672\n",
      "accuracy : 100.0, correct:15, total15\n",
      "epoch:749, loss:0.0016306792385876179\n",
      "accuracy : 93.33333587646484, correct:14, total15\n",
      "epoch:759, loss:0.0013229615287855268\n",
      "accuracy : 93.33333587646484, correct:14, total15\n",
      "epoch:769, loss:0.0014228251529857516\n",
      "accuracy : 93.33333587646484, correct:14, total15\n",
      "epoch:779, loss:0.0012721758102998137\n",
      "accuracy : 93.33333587646484, correct:14, total15\n",
      "epoch:789, loss:0.0012584892101585865\n",
      "accuracy : 93.33333587646484, correct:14, total15\n",
      "epoch:799, loss:0.0013124487595632672\n",
      "accuracy : 93.33333587646484, correct:14, total15\n",
      "epoch:809, loss:0.0011788146803155541\n",
      "accuracy : 93.33333587646484, correct:14, total15\n",
      "epoch:819, loss:0.001240433775819838\n",
      "accuracy : 93.33333587646484, correct:14, total15\n",
      "epoch:829, loss:0.0013359972508624196\n",
      "accuracy : 93.33333587646484, correct:14, total15\n",
      "epoch:839, loss:0.0013282278086990118\n",
      "accuracy : 93.33333587646484, correct:14, total15\n",
      "epoch:849, loss:0.0012047789059579372\n",
      "accuracy : 93.33333587646484, correct:14, total15\n",
      "epoch:859, loss:0.0010871109552681446\n",
      "accuracy : 93.33333587646484, correct:14, total15\n",
      "epoch:869, loss:0.0008051087497733533\n",
      "accuracy : 93.33333587646484, correct:14, total15\n",
      "epoch:879, loss:0.0007444673683494329\n",
      "accuracy : 100.0, correct:15, total15\n",
      "epoch:889, loss:0.0005698642926290631\n",
      "accuracy : 100.0, correct:15, total15\n",
      "epoch:899, loss:0.000673500879202038\n",
      "accuracy : 100.0, correct:15, total15\n",
      "epoch:909, loss:0.0007577884243801236\n",
      "accuracy : 100.0, correct:15, total15\n",
      "epoch:919, loss:0.000674030336085707\n",
      "accuracy : 100.0, correct:15, total15\n",
      "epoch:929, loss:0.0005699454923160374\n",
      "accuracy : 100.0, correct:15, total15\n",
      "epoch:939, loss:0.000508480123244226\n",
      "accuracy : 100.0, correct:15, total15\n",
      "epoch:949, loss:0.00046858229325152934\n",
      "accuracy : 100.0, correct:15, total15\n",
      "epoch:959, loss:0.00043180014472454786\n",
      "accuracy : 100.0, correct:15, total15\n",
      "epoch:969, loss:0.0004158121591899544\n",
      "accuracy : 100.0, correct:15, total15\n",
      "epoch:979, loss:0.0003997961466666311\n",
      "accuracy : 100.0, correct:15, total15\n",
      "epoch:989, loss:0.0003836244868580252\n",
      "accuracy : 100.0, correct:15, total15\n",
      "epoch:999, loss:0.00036622004699893296\n",
      "accuracy : 100.0, correct:15, total15\n"
     ]
    }
   ],
   "source": [
    "epochs = 1000\n",
    "for _epoch in range(epochs):\n",
    "    for _batch in range(x_train.shape[0]):\n",
    "        optimizer.zero_grad()\n",
    "        \n",
    "        output = model(x_train[_batch, ])\n",
    "        \n",
    "        # 오차 계산 및 오차 역전파\n",
    "        loss = criterion(output, y_train[_batch, ])\n",
    "        loss.backward()\n",
    "\n",
    "        #기울기 적용\n",
    "        optimizer.step()\n",
    "        \n",
    "    if (_epoch+1) % 10 == 0:\n",
    "        print(f'epoch:{_epoch}, loss:{loss.item()}')\n",
    "        \n",
    "        with torch.no_grad():\n",
    "            model.eval()\n",
    "            correct = 0\n",
    "            total = 0\n",
    "\n",
    "            outputs = model(x_test)\n",
    "            pred = torch.argmax(outputs, axis=1)\n",
    "\n",
    "            correct = (pred == y_test).sum()\n",
    "            total = y_test.shape[0]\n",
    "\n",
    "            acc = correct/total * 100\n",
    "            print(f'accuracy : {acc}, correct:{correct}, total{total}')\n",
    "            \n",
    "            model.train()"
   ]
  },
  {
   "cell_type": "code",
   "execution_count": null,
   "id": "e37f7bfa",
   "metadata": {},
   "outputs": [],
   "source": []
  }
 ],
 "metadata": {
  "kernelspec": {
   "display_name": "Python 3 (ipykernel)",
   "language": "python",
   "name": "python3"
  },
  "language_info": {
   "codemirror_mode": {
    "name": "ipython",
    "version": 3
   },
   "file_extension": ".py",
   "mimetype": "text/x-python",
   "name": "python",
   "nbconvert_exporter": "python",
   "pygments_lexer": "ipython3",
   "version": "3.11.3"
  }
 },
 "nbformat": 4,
 "nbformat_minor": 5
}
