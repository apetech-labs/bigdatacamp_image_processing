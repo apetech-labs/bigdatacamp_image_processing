{
 "cells": [
  {
   "cell_type": "code",
   "execution_count": null,
   "id": "a0a1f73f",
   "metadata": {},
   "outputs": [],
   "source": [
    "import torch\n",
    "import torch.nn as nn\n",
    "import torch.optim as optim"
   ]
  },
  {
   "cell_type": "code",
   "execution_count": null,
   "id": "686d448c",
   "metadata": {},
   "outputs": [],
   "source": [
    "# 퍼셉트론 모델 정의\n",
    "class Perceptron(nn.Module):\n",
    "    def __init__(self):\n",
    "        super(Perceptron, self).__init__()\n",
    "        self.fc = nn.Linear(2, 1)\n",
    "\n",
    "    def forward(self, x):\n",
    "        return torch.sigmoid(self.fc(x))"
   ]
  },
  {
   "cell_type": "code",
   "execution_count": null,
   "id": "c162d09a",
   "metadata": {},
   "outputs": [],
   "source": [
    "model = Perceptron()\n",
    "print(model)\n",
    "# 손실 함수 및 최적화 도구 설정\n",
    "criterion = nn.BCELoss()\n",
    "optimizer = optim.SGD(model.parameters(), lr=0.01)\n",
    "epoch = 10000"
   ]
  },
  {
   "cell_type": "code",
   "execution_count": null,
   "id": "e55346c8",
   "metadata": {},
   "outputs": [],
   "source": [
    "model.fc.weight, model.fc.bias"
   ]
  },
  {
   "cell_type": "code",
   "execution_count": null,
   "id": "247c6117",
   "metadata": {},
   "outputs": [],
   "source": [
    "# AND 게이트 데이터\n",
    "# batch_size -> 4, 1개 배치 데이터만 있는거임\n",
    "# input size : 2, output size : 1\n",
    "x = torch.Tensor([[0,0], [0,1], [1,0], [1,1]])\n",
    "y = torch.Tensor([0, 0, 0, 1]).view(-1,1)"
   ]
  },
  {
   "cell_type": "code",
   "execution_count": null,
   "id": "0408f96d",
   "metadata": {},
   "outputs": [],
   "source": [
    "x, y"
   ]
  },
  {
   "cell_type": "code",
   "execution_count": null,
   "id": "b40eda8d",
   "metadata": {},
   "outputs": [],
   "source": [
    "# 학습 과정\n",
    "for epoch in range(epoch):\n",
    "    # 기울기 초기화\n",
    "    optimizer.zero_grad()\n",
    "    \n",
    "    #모델 추론 진행\n",
    "    output = model(x)\n",
    "    \n",
    "    # Loss 계산 및 역전파\n",
    "    loss = criterion(output, y)\n",
    "    loss.backward()\n",
    "    optimizer.step()\n",
    "\n",
    "    if epoch % 1000 == 0:\n",
    "        print('Epoch: {:4d}/10000 Cost: {:.6f}'.format(\n",
    "            epoch, loss.item()\n",
    "        ))"
   ]
  },
  {
   "cell_type": "code",
   "execution_count": null,
   "id": "a7ff5f19",
   "metadata": {},
   "outputs": [],
   "source": [
    "# 학습된 모델 테스트\n",
    "# 모델의 기울기 계산에 사용되는 파라미터 업데이트 X\n",
    "model.eval()\n",
    "\n",
    "test_input = torch.Tensor([[0,1], [1,0], [1,1]])\n",
    "\n",
    "print(torch.round(model(test_input)).detach())\n",
    "# 평가 척도 (정답수 / 총개수) * 100 -> Accuracy"
   ]
  },
  {
   "cell_type": "code",
   "execution_count": null,
   "id": "73a03387",
   "metadata": {},
   "outputs": [],
   "source": [
    "model.fc.weight, model.fc.bias"
   ]
  },
  {
   "cell_type": "code",
   "execution_count": null,
   "id": "fc9425b0",
   "metadata": {},
   "outputs": [],
   "source": [
    "test_input, torch.round(model(test_input)).detach()"
   ]
  },
  {
   "cell_type": "code",
   "execution_count": null,
   "id": "07eb2547",
   "metadata": {},
   "outputs": [],
   "source": [
    "model.fc.weight, model.fc.bias"
   ]
  },
  {
   "cell_type": "code",
   "execution_count": null,
   "id": "91f5caa5",
   "metadata": {},
   "outputs": [],
   "source": [
    "xor_x = torch.Tensor([[0,0], [0,1], [1,0], [1,1]])\n",
    "xor_y = torch.Tensor([0, 1, 1, 0]).view(-1,1)"
   ]
  },
  {
   "cell_type": "code",
   "execution_count": null,
   "id": "e9188bda",
   "metadata": {},
   "outputs": [],
   "source": [
    "model = Perceptron()\n",
    "print(model)\n",
    "# 손실 함수 및 최적화 도구 설정\n",
    "criterion = nn.BCELoss()\n",
    "optimizer = optim.SGD(model.parameters(), lr=0.01)\n",
    "epoch = 10000"
   ]
  },
  {
   "cell_type": "code",
   "execution_count": null,
   "id": "ad66c55a",
   "metadata": {},
   "outputs": [],
   "source": [
    "# 학습 과정\n",
    "for epoch in range(epoch):\n",
    "    # 기울기 초기화\n",
    "    optimizer.zero_grad()\n",
    "    \n",
    "    #모델 추론 진행\n",
    "    output = model(xor_x)\n",
    "    \n",
    "    # Loss 계산 및 역전파\n",
    "    loss = criterion(output, xor_y)\n",
    "    loss.backward()\n",
    "    optimizer.step()\n",
    "\n",
    "    if epoch % 1000 == 0:\n",
    "        print('Epoch: {:4d}/10000 Cost: {:.6f}'.format(\n",
    "            epoch, loss.item()\n",
    "        ))"
   ]
  },
  {
   "cell_type": "code",
   "execution_count": null,
   "id": "fc066f39",
   "metadata": {},
   "outputs": [],
   "source": [
    "# 학습된 모델 테스트\n",
    "# 모델의 기울기 계산에 사용되는 파라미터 업데이트 X\n",
    "model.eval()\n",
    "\n",
    "test_input = torch.Tensor([[0, 0], [0,1], [1,0], [1,1]])\n",
    "\n",
    "print(torch.round(model(test_input)).detach())\n",
    "# 평가 척도 (정답수 / 총개수) * 100 -> Accuracy"
   ]
  },
  {
   "cell_type": "markdown",
   "id": "605de5df",
   "metadata": {},
   "source": [
    "# XOR Gate Learning"
   ]
  },
  {
   "cell_type": "code",
   "execution_count": 1,
   "id": "96f30985",
   "metadata": {},
   "outputs": [],
   "source": [
    "import torch\n",
    "import torch.nn as nn\n",
    "import torch.optim as optim"
   ]
  },
  {
   "cell_type": "code",
   "execution_count": 2,
   "id": "d90fe639",
   "metadata": {},
   "outputs": [],
   "source": [
    "xor_x = torch.Tensor([[0,0], [0,1], [1,0], [1,1]])\n",
    "xor_y = torch.Tensor([0, 1, 1, 0]).view(-1,1)"
   ]
  },
  {
   "cell_type": "code",
   "execution_count": 3,
   "id": "c59e0eae",
   "metadata": {},
   "outputs": [],
   "source": [
    "class MLP(nn.Module):\n",
    "    def __init__(self):\n",
    "        super(MLP, self).__init__()\n",
    "        self.fc = nn.Linear(2, 4)\n",
    "        self.fc2 = nn.Linear(4, 1)\n",
    "    \n",
    "    \n",
    "    def forward(self, x):\n",
    "        #활성함수 적용\n",
    "        out = torch.relu(self.fc(x))\n",
    "        out = torch.sigmoid(self.fc2(out))\n",
    "        \n",
    "        return out"
   ]
  },
  {
   "cell_type": "code",
   "execution_count": 4,
   "id": "97b01ffa",
   "metadata": {},
   "outputs": [
    {
     "name": "stdout",
     "output_type": "stream",
     "text": [
      "MLP(\n",
      "  (fc): Linear(in_features=2, out_features=4, bias=True)\n",
      "  (fc2): Linear(in_features=4, out_features=1, bias=True)\n",
      ")\n"
     ]
    }
   ],
   "source": [
    "model = MLP()\n",
    "print(model)\n",
    "# 손실 함수 및 최적화 도구 설정\n",
    "criterion = nn.BCELoss()\n",
    "optimizer = optim.SGD(model.parameters(), lr=0.01)\n",
    "epoch = 10000"
   ]
  },
  {
   "cell_type": "code",
   "execution_count": 5,
   "id": "e6a90742",
   "metadata": {},
   "outputs": [
    {
     "name": "stdout",
     "output_type": "stream",
     "text": [
      "Epoch:    0/10000 Cost: 0.694973\n",
      "Epoch: 1000/10000 Cost: 0.623997\n",
      "Epoch: 2000/10000 Cost: 0.546103\n",
      "Epoch: 3000/10000 Cost: 0.505491\n",
      "Epoch: 4000/10000 Cost: 0.481905\n",
      "Epoch: 5000/10000 Cost: 0.419178\n",
      "Epoch: 6000/10000 Cost: 0.310941\n",
      "Epoch: 7000/10000 Cost: 0.215868\n",
      "Epoch: 8000/10000 Cost: 0.150756\n",
      "Epoch: 9000/10000 Cost: 0.109300\n"
     ]
    }
   ],
   "source": [
    "# 학습 과정\n",
    "for epoch in range(epoch):\n",
    "    # 기울기 초기화\n",
    "    optimizer.zero_grad()\n",
    "    \n",
    "    #모델 추론 진행\n",
    "    output = model(xor_x)\n",
    "    \n",
    "    # Loss 계산 및 역전파\n",
    "    loss = criterion(output, xor_y)\n",
    "    loss.backward()\n",
    "    optimizer.step()\n",
    "\n",
    "    if epoch % 1000 == 0:\n",
    "        print('Epoch: {:4d}/10000 Cost: {:.6f}'.format(\n",
    "            epoch, loss.item()\n",
    "        ))"
   ]
  },
  {
   "cell_type": "code",
   "execution_count": 6,
   "id": "f646377d",
   "metadata": {},
   "outputs": [
    {
     "name": "stdout",
     "output_type": "stream",
     "text": [
      "tensor([[0.],\n",
      "        [1.],\n",
      "        [1.],\n",
      "        [0.]])\n"
     ]
    }
   ],
   "source": [
    "# 학습된 모델 테스트\n",
    "# 모델의 기울기 계산에 사용되는 파라미터 업데이트 X\n",
    "model.eval()\n",
    "test_input = torch.Tensor([[0, 0], [0,1], [1,0], [1,1]])\n",
    "print(torch.round(model(test_input)).detach())"
   ]
  },
  {
   "cell_type": "code",
   "execution_count": null,
   "id": "ac6f46cc",
   "metadata": {},
   "outputs": [],
   "source": []
  }
 ],
 "metadata": {
  "kernelspec": {
   "display_name": "Python 3 (ipykernel)",
   "language": "python",
   "name": "python3"
  },
  "language_info": {
   "codemirror_mode": {
    "name": "ipython",
    "version": 3
   },
   "file_extension": ".py",
   "mimetype": "text/x-python",
   "name": "python",
   "nbconvert_exporter": "python",
   "pygments_lexer": "ipython3",
   "version": "3.11.3"
  }
 },
 "nbformat": 4,
 "nbformat_minor": 5
}
