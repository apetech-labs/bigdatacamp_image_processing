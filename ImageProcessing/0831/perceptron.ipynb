{
 "cells": [
  {
   "cell_type": "markdown",
   "id": "275ddea9",
   "metadata": {},
   "source": [
    "# XOR Gate Learning"
   ]
  },
  {
   "cell_type": "code",
   "execution_count": null,
   "id": "5151e700",
   "metadata": {},
   "outputs": [],
   "source": [
    "import torch\n",
    "import torch.nn as nn\n",
    "import torch.optim as optim"
   ]
  },
  {
   "cell_type": "code",
   "execution_count": null,
   "id": "8989166a",
   "metadata": {},
   "outputs": [],
   "source": [
    "xor_x = torch.Tensor([[0,0], [0,1], [1,0], [1,1]])\n",
    "xor_y = torch.Tensor([0, 1, 1, 0]).view(-1,1)"
   ]
  },
  {
   "cell_type": "code",
   "execution_count": null,
   "id": "0f310de4",
   "metadata": {},
   "outputs": [],
   "source": [
    "class MLP(nn.Module):\n",
    "    def __init__(self):\n",
    "        super(MLP, self).__init__()\n",
    "        self.fc = nn.Linear(2, 8)\n",
    "        self.fc2 = nn.Linear(8, 1)\n",
    "    \n",
    "    \n",
    "    def forward(self, x):\n",
    "        #활성함수 적용\n",
    "        out = torch.relu(self.fc(x))\n",
    "        out = torch.sigmoid(self.fc2(out))\n",
    "        \n",
    "        return out"
   ]
  },
  {
   "cell_type": "code",
   "execution_count": null,
   "id": "9e998623",
   "metadata": {},
   "outputs": [],
   "source": [
    "model = MLP()\n",
    "print(model)\n",
    "# 손실 함수 및 최적화 도구 설정\n",
    "criterion = nn.BCELoss()\n",
    "optimizer = optim.SGD(model.parameters(), lr=0.01)\n",
    "epochs = 10000"
   ]
  },
  {
   "cell_type": "code",
   "execution_count": null,
   "id": "ee7dfb60",
   "metadata": {},
   "outputs": [],
   "source": [
    "# 학습 과정\n",
    "for epoch in range(epochs):\n",
    "    # 기울기 초기화\n",
    "    optimizer.zero_grad()\n",
    "    \n",
    "    #모델 추론 진행\n",
    "    output = model(xor_x)\n",
    "    \n",
    "    # Loss 계산 및 역전파\n",
    "    loss = criterion(output, xor_y)\n",
    "    loss.backward()\n",
    "    optimizer.step()\n",
    "\n",
    "    if epoch % 1000 == 0:\n",
    "        print('Epoch: {:4d}/10000 Cost: {:.6f}'.format(\n",
    "            epoch, loss.item()\n",
    "        ))"
   ]
  },
  {
   "cell_type": "code",
   "execution_count": null,
   "id": "790ed38f",
   "metadata": {},
   "outputs": [],
   "source": [
    "# 학습된 모델 테스트\n",
    "# 모델의 기울기 계산에 사용되는 파라미터 업데이트 X\n",
    "model.eval()\n",
    "test_input = torch.Tensor([[0, 0], [0,1], [1,0], [1,1]])\n",
    "print(torch.round(model(test_input)).detach())"
   ]
  },
  {
   "cell_type": "code",
   "execution_count": null,
   "id": "1fc92f61",
   "metadata": {},
   "outputs": [],
   "source": []
  }
 ],
 "metadata": {
  "kernelspec": {
   "display_name": "Python 3 (ipykernel)",
   "language": "python",
   "name": "python3"
  },
  "language_info": {
   "codemirror_mode": {
    "name": "ipython",
    "version": 3
   },
   "file_extension": ".py",
   "mimetype": "text/x-python",
   "name": "python",
   "nbconvert_exporter": "python",
   "pygments_lexer": "ipython3",
   "version": "3.11.3"
  }
 },
 "nbformat": 4,
 "nbformat_minor": 5
}
