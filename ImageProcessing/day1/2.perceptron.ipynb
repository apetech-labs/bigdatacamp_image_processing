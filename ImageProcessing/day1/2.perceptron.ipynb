{
 "cells": [
  {
   "cell_type": "code",
   "execution_count": null,
   "metadata": {
    "executionInfo": {
     "elapsed": 5186,
     "status": "ok",
     "timestamp": 1688354527510,
     "user": {
      "displayName": "유인원",
      "userId": "12609834608015613726"
     },
     "user_tz": -540
    },
    "id": "PhGNoQfD6RxX"
   },
   "outputs": [],
   "source": [
    "import torch\n",
    "import torch.nn as nn\n",
    "import torch.optim as optim"
   ]
  },
  {
   "cell_type": "code",
   "execution_count": null,
   "metadata": {
    "id": "b_fhkePhdHU4"
   },
   "outputs": [],
   "source": [
    "# 퍼셉트론 모델 정의\n",
    "class Perceptron(nn.Module):\n",
    "    def __init__(self):\n",
    "        super(Perceptron, self).__init__()\n",
    "        self.fc = nn.Linear(2, 1)\n",
    "\n",
    "    def forward(self, x):\n",
    "        return torch.sigmoid(self.fc(x))"
   ]
  },
  {
   "cell_type": "code",
   "execution_count": null,
   "metadata": {
    "colab": {
     "base_uri": "https://localhost:8080/"
    },
    "executionInfo": {
     "elapsed": 295,
     "status": "ok",
     "timestamp": 1688108542205,
     "user": {
      "displayName": "유인원",
      "userId": "12609834608015613726"
     },
     "user_tz": -540
    },
    "id": "2GE3jLZXG1Ny",
    "outputId": "30160fcf-6725-4d2e-d39e-800b2fbd996e"
   },
   "outputs": [],
   "source": [
    "model = Perceptron()\n",
    "print(model)\n",
    "# 손실 함수 및 최적화 도구 설정\n",
    "criterion = nn.BCELoss()\n",
    "optimizer = optim.SGD(model.parameters(), lr=0.01)\n",
    "epoch = 10000"
   ]
  },
  {
   "cell_type": "code",
   "execution_count": null,
   "metadata": {
    "id": "tQs2nCvNZFzc"
   },
   "outputs": [],
   "source": [
    "# AND 게이트 데이터\n",
    "# batch_size -> 4, 1개 배치 데이터만 있는거임\n",
    "# input size : 2, output size : 1\n",
    "x = torch.Tensor([[0,0], [0,1], [1,0], [1,1]])\n",
    "y = torch.Tensor([0, 0, 0, 1]).view(-1,1)"
   ]
  },
  {
   "cell_type": "code",
   "execution_count": null,
   "metadata": {
    "colab": {
     "base_uri": "https://localhost:8080/"
    },
    "executionInfo": {
     "elapsed": 377,
     "status": "ok",
     "timestamp": 1688108159202,
     "user": {
      "displayName": "유인원",
      "userId": "12609834608015613726"
     },
     "user_tz": -540
    },
    "id": "OLNOsgS7bJaB",
    "outputId": "d98e4ae9-96d5-4a1d-b730-b567fe036a9c"
   },
   "outputs": [],
   "source": [
    "print(x)\n",
    "print(y)"
   ]
  },
  {
   "cell_type": "code",
   "execution_count": null,
   "metadata": {
    "colab": {
     "base_uri": "https://localhost:8080/"
    },
    "executionInfo": {
     "elapsed": 2590,
     "status": "ok",
     "timestamp": 1688108563892,
     "user": {
      "displayName": "유인원",
      "userId": "12609834608015613726"
     },
     "user_tz": -540
    },
    "id": "oO7fxu9xG4vK",
    "outputId": "4a3348b6-f12d-4aaf-ff02-2554cfe683d1"
   },
   "outputs": [],
   "source": [
    "# 학습 과정\n",
    "for epoch in range(epoch):\n",
    "    optimizer.zero_grad()\n",
    "    output = model(x)\n",
    "    loss = criterion(output, y)\n",
    "    loss.backward()\n",
    "    optimizer.step()\n",
    "\n",
    "    if epoch % 1000 == 0:\n",
    "        print('Epoch: {:4d}/10000 Cost: {:.6f}'.format(\n",
    "            epoch, loss.item()\n",
    "        ))"
   ]
  },
  {
   "cell_type": "code",
   "execution_count": null,
   "metadata": {
    "colab": {
     "base_uri": "https://localhost:8080/"
    },
    "executionInfo": {
     "elapsed": 291,
     "status": "ok",
     "timestamp": 1688108571383,
     "user": {
      "displayName": "유인원",
      "userId": "12609834608015613726"
     },
     "user_tz": -540
    },
    "id": "hcYd9fQzG9QS",
    "outputId": "a2e74134-742d-4c53-9aee-062284975507"
   },
   "outputs": [],
   "source": [
    "# 학습된 모델 테스트\n",
    "model.eval()\n",
    "test = torch.Tensor([[0,1], [1,0], [1,1]])\n",
    "print(torch.round(model(test)).detach())\n",
    "# 평가 척도 (정답수 / 총개수) * 100 -> Accuracy"
   ]
  },
  {
   "cell_type": "code",
   "execution_count": null,
   "metadata": {
    "id": "mOR4viA3SG6n"
   },
   "outputs": [],
   "source": [
    "# or 게이트도 데이터 만들어서 학습 시켜보기.\n",
    "# xor 게이트 ''"
   ]
  },
  {
   "cell_type": "code",
   "execution_count": null,
   "metadata": {
    "executionInfo": {
     "elapsed": 376,
     "status": "ok",
     "timestamp": 1688366376424,
     "user": {
      "displayName": "유인원",
      "userId": "12609834608015613726"
     },
     "user_tz": -540
    },
    "id": "6gGXWo_txFCg"
   },
   "outputs": [],
   "source": [
    "# 다층 퍼셉트론 모델 정의\n",
    "class MLP(nn.Module):\n",
    "    def __init__(self):\n",
    "        super(MLP, self).__init__()\n",
    "        self.fc = nn.Linear(2, 4)\n",
    "        self.fc2 = nn.Linear(4, 1)\n",
    "\n",
    "    def forward(self, x):\n",
    "        x = torch.sigmoid(self.fc(x))\n",
    "        return torch.sigmoid(self.fc2(x))"
   ]
  },
  {
   "cell_type": "code",
   "execution_count": null,
   "metadata": {
    "colab": {
     "base_uri": "https://localhost:8080/"
    },
    "executionInfo": {
     "elapsed": 3,
     "status": "ok",
     "timestamp": 1688366376950,
     "user": {
      "displayName": "유인원",
      "userId": "12609834608015613726"
     },
     "user_tz": -540
    },
    "id": "WIckwoPcxbHu",
    "outputId": "d6a8fa21-9c8b-4fea-bea1-865e67cec129"
   },
   "outputs": [],
   "source": [
    "model2 = MLP()\n",
    "print(model2)\n",
    "# 손실 함수 및 최적화 도구 설정\n",
    "criterion2 = nn.BCELoss()\n",
    "optimizer2 = optim.SGD(model2.parameters(), lr=0.01)"
   ]
  },
  {
   "cell_type": "code",
   "execution_count": null,
   "metadata": {
    "executionInfo": {
     "elapsed": 2,
     "status": "ok",
     "timestamp": 1688366377315,
     "user": {
      "displayName": "유인원",
      "userId": "12609834608015613726"
     },
     "user_tz": -540
    },
    "id": "dV7FGwM0HJfl"
   },
   "outputs": [],
   "source": [
    "# XOR 게이트 데이터\n",
    "x = torch.Tensor([[0,0], [0,1], [1,0], [1,1]])\n",
    "y = torch.Tensor([0, 1, 1, 0]).view(-1,1)"
   ]
  },
  {
   "cell_type": "code",
   "execution_count": null,
   "metadata": {
    "colab": {
     "base_uri": "https://localhost:8080/"
    },
    "executionInfo": {
     "elapsed": 3,
     "status": "ok",
     "timestamp": 1688366377316,
     "user": {
      "displayName": "유인원",
      "userId": "12609834608015613726"
     },
     "user_tz": -540
    },
    "id": "F9lZR5Nixxt-",
    "outputId": "cc2a7f29-ddee-4794-f835-860dfab6e7ca"
   },
   "outputs": [],
   "source": [
    "print(x)\n",
    "print(y)"
   ]
  },
  {
   "cell_type": "code",
   "execution_count": null,
   "metadata": {
    "colab": {
     "base_uri": "https://localhost:8080/"
    },
    "executionInfo": {
     "elapsed": 4141,
     "status": "ok",
     "timestamp": 1688366416347,
     "user": {
      "displayName": "유인원",
      "userId": "12609834608015613726"
     },
     "user_tz": -540
    },
    "id": "xM7QuJvhxz-z",
    "outputId": "fbc9470a-1e9d-4720-fea8-663eb5aef41e"
   },
   "outputs": [],
   "source": [
    "# 학습 과정\n",
    "for epoch in range(100000):\n",
    "    optimizer2.zero_grad()\n",
    "    output = model2(x)\n",
    "    loss = criterion2(output, y)\n",
    "    loss.backward()\n",
    "    optimizer2.step()\n",
    "\n",
    "    if epoch % 1000 == 0:\n",
    "        print('Epoch: {:4d}/100000 Cost: {:.6f}'.format(\n",
    "            epoch, loss.item()\n",
    "        ))"
   ]
  },
  {
   "cell_type": "code",
   "execution_count": null,
   "metadata": {
    "colab": {
     "base_uri": "https://localhost:8080/"
    },
    "executionInfo": {
     "elapsed": 3,
     "status": "ok",
     "timestamp": 1688366417940,
     "user": {
      "displayName": "유인원",
      "userId": "12609834608015613726"
     },
     "user_tz": -540
    },
    "id": "esVg-kS5x6-i",
    "outputId": "a7a19dba-9cba-4d16-8c1a-f0bccae5c77d"
   },
   "outputs": [],
   "source": [
    "model2.eval()\n",
    "test = torch.Tensor([[0,1], [1,0], [1,1]])\n",
    "print(torch.round(model2(test)).detach())"
   ]
  },
  {
   "cell_type": "code",
   "execution_count": null,
   "metadata": {
    "executionInfo": {
     "elapsed": 342,
     "status": "ok",
     "timestamp": 1688365704156,
     "user": {
      "displayName": "유인원",
      "userId": "12609834608015613726"
     },
     "user_tz": -540
    },
    "id": "tUg1L4rdXXO2"
   },
   "outputs": [],
   "source": []
  }
 ],
 "metadata": {
  "colab": {
   "authorship_tag": "ABX9TyNf5/1IDZRVo25zkvkco7WP",
   "provenance": []
  },
  "kernelspec": {
   "display_name": "Python 3 (ipykernel)",
   "language": "python",
   "name": "python3"
  },
  "language_info": {
   "codemirror_mode": {
    "name": "ipython",
    "version": 3
   },
   "file_extension": ".py",
   "mimetype": "text/x-python",
   "name": "python",
   "nbconvert_exporter": "python",
   "pygments_lexer": "ipython3",
   "version": "3.11.3"
  }
 },
 "nbformat": 4,
 "nbformat_minor": 1
}
