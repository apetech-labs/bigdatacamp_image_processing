{
 "cells": [
  {
   "cell_type": "code",
   "execution_count": 1,
   "metadata": {
    "executionInfo": {
     "elapsed": 5186,
     "status": "ok",
     "timestamp": 1688354527510,
     "user": {
      "displayName": "유인원",
      "userId": "12609834608015613726"
     },
     "user_tz": -540
    },
    "id": "PhGNoQfD6RxX"
   },
   "outputs": [],
   "source": [
    "import torch\n",
    "import torch.nn as nn\n",
    "import torch.optim as optim"
   ]
  },
  {
   "cell_type": "code",
   "execution_count": 2,
   "metadata": {
    "id": "b_fhkePhdHU4"
   },
   "outputs": [],
   "source": [
    "# 퍼셉트론 모델 정의\n",
    "class Perceptron(nn.Module):\n",
    "    def __init__(self):\n",
    "        super(Perceptron, self).__init__()\n",
    "        self.fc = nn.Linear(2, 1)\n",
    "\n",
    "    def forward(self, x):\n",
    "        return torch.sigmoid(self.fc(x))"
   ]
  },
  {
   "cell_type": "code",
   "execution_count": 3,
   "metadata": {
    "colab": {
     "base_uri": "https://localhost:8080/"
    },
    "executionInfo": {
     "elapsed": 295,
     "status": "ok",
     "timestamp": 1688108542205,
     "user": {
      "displayName": "유인원",
      "userId": "12609834608015613726"
     },
     "user_tz": -540
    },
    "id": "2GE3jLZXG1Ny",
    "outputId": "30160fcf-6725-4d2e-d39e-800b2fbd996e"
   },
   "outputs": [
    {
     "name": "stdout",
     "output_type": "stream",
     "text": [
      "Perceptron(\n",
      "  (fc): Linear(in_features=2, out_features=1, bias=True)\n",
      ")\n"
     ]
    }
   ],
   "source": [
    "model = Perceptron()\n",
    "print(model)\n",
    "# 손실 함수 및 최적화 도구 설정\n",
    "criterion = nn.BCELoss()\n",
    "optimizer = optim.SGD(model.parameters(), lr=0.01)\n",
    "epoch = 10000"
   ]
  },
  {
   "cell_type": "code",
   "execution_count": 4,
   "metadata": {
    "id": "tQs2nCvNZFzc"
   },
   "outputs": [],
   "source": [
    "# AND 게이트 데이터\n",
    "# batch_size -> 4, 1개 배치 데이터만 있는거임\n",
    "# input size : 2, output size : 1\n",
    "x = torch.Tensor([[0,0], [0,1], [1,0], [1,1]])\n",
    "y = torch.Tensor([0, 0, 0, 1]).view(-1,1)"
   ]
  },
  {
   "cell_type": "code",
   "execution_count": null,
   "metadata": {
    "colab": {
     "base_uri": "https://localhost:8080/"
    },
    "executionInfo": {
     "elapsed": 377,
     "status": "ok",
     "timestamp": 1688108159202,
     "user": {
      "displayName": "유인원",
      "userId": "12609834608015613726"
     },
     "user_tz": -540
    },
    "id": "OLNOsgS7bJaB",
    "outputId": "d98e4ae9-96d5-4a1d-b730-b567fe036a9c"
   },
   "outputs": [],
   "source": [
    "print(x); print(y)"
   ]
  },
  {
   "cell_type": "code",
   "execution_count": 5,
   "metadata": {
    "colab": {
     "base_uri": "https://localhost:8080/"
    },
    "executionInfo": {
     "elapsed": 2590,
     "status": "ok",
     "timestamp": 1688108563892,
     "user": {
      "displayName": "유인원",
      "userId": "12609834608015613726"
     },
     "user_tz": -540
    },
    "id": "oO7fxu9xG4vK",
    "outputId": "4a3348b6-f12d-4aaf-ff02-2554cfe683d1"
   },
   "outputs": [
    {
     "name": "stdout",
     "output_type": "stream",
     "text": [
      "Epoch:    0/10000 Cost: 0.636832\n",
      "Epoch: 1000/10000 Cost: 0.451439\n",
      "Epoch: 2000/10000 Cost: 0.355517\n",
      "Epoch: 3000/10000 Cost: 0.296194\n",
      "Epoch: 4000/10000 Cost: 0.255285\n",
      "Epoch: 5000/10000 Cost: 0.224952\n",
      "Epoch: 6000/10000 Cost: 0.201338\n",
      "Epoch: 7000/10000 Cost: 0.182319\n",
      "Epoch: 8000/10000 Cost: 0.166613\n",
      "Epoch: 9000/10000 Cost: 0.153394\n"
     ]
    }
   ],
   "source": [
    "# 학습 과정\n",
    "for epoch in range(epoch):\n",
    "    optimizer.zero_grad()\n",
    "    output = model(x)\n",
    "    loss = criterion(output, y)\n",
    "    loss.backward()\n",
    "    optimizer.step()\n",
    "\n",
    "    if epoch % 1000 == 0:\n",
    "        print('Epoch: {:4d}/10000 Cost: {:.6f}'.format(\n",
    "            epoch, loss.item()\n",
    "        ))"
   ]
  },
  {
   "cell_type": "code",
   "execution_count": null,
   "metadata": {},
   "outputs": [],
   "source": []
  },
  {
   "cell_type": "code",
   "execution_count": null,
   "metadata": {},
   "outputs": [],
   "source": []
  },
  {
   "cell_type": "code",
   "execution_count": 6,
   "metadata": {
    "colab": {
     "base_uri": "https://localhost:8080/"
    },
    "executionInfo": {
     "elapsed": 291,
     "status": "ok",
     "timestamp": 1688108571383,
     "user": {
      "displayName": "유인원",
      "userId": "12609834608015613726"
     },
     "user_tz": -540
    },
    "id": "hcYd9fQzG9QS",
    "outputId": "a2e74134-742d-4c53-9aee-062284975507"
   },
   "outputs": [
    {
     "name": "stdout",
     "output_type": "stream",
     "text": [
      "tensor([[0.],\n",
      "        [0.],\n",
      "        [1.]])\n"
     ]
    }
   ],
   "source": [
    "# 학습된 모델 테스트\n",
    "model.eval()\n",
    "test = torch.Tensor([[0,1], [1,0], [1,1]])\n",
    "print(torch.round(model(test)).detach())\n",
    "# 평가 척도 (정답수 / 총개수) * 100 -> Accuracy"
   ]
  },
  {
   "cell_type": "code",
   "execution_count": 9,
   "metadata": {},
   "outputs": [
    {
     "data": {
      "text/plain": [
       "(tensor([0., 1.]),\n",
       " Parameter containing:\n",
       " tensor([[3.0647, 3.0505]], requires_grad=True),\n",
       " Parameter containing:\n",
       " tensor([-4.8031], requires_grad=True))"
      ]
     },
     "execution_count": 9,
     "metadata": {},
     "output_type": "execute_result"
    }
   ],
   "source": [
    "test[0, ], model.fc.weight, model.fc.bias"
   ]
  },
  {
   "cell_type": "code",
   "execution_count": 14,
   "metadata": {},
   "outputs": [
    {
     "data": {
      "text/plain": [
       "(tensor([[0.1477]], grad_fn=<SigmoidBackward0>),\n",
       " tensor([[0.1477]], grad_fn=<SigmoidBackward0>))"
      ]
     },
     "execution_count": 14,
     "metadata": {},
     "output_type": "execute_result"
    }
   ],
   "source": [
    "# 3.0505 - 4.8031 = -1.75..\n",
    "torch.sigmoid(model.fc(test[0:1, ])), model(test[0:1, ])"
   ]
  },
  {
   "cell_type": "code",
   "execution_count": 15,
   "metadata": {
    "id": "mOR4viA3SG6n"
   },
   "outputs": [],
   "source": [
    "# or 게이트도 데이터 만들어서 학습 시켜보기.\n",
    "# xor 게이트 ''"
   ]
  },
  {
   "cell_type": "code",
   "execution_count": 16,
   "metadata": {
    "executionInfo": {
     "elapsed": 376,
     "status": "ok",
     "timestamp": 1688366376424,
     "user": {
      "displayName": "유인원",
      "userId": "12609834608015613726"
     },
     "user_tz": -540
    },
    "id": "6gGXWo_txFCg"
   },
   "outputs": [],
   "source": [
    "# 다층 퍼셉트론 모델 정의\n",
    "class MLP(nn.Module):\n",
    "    def __init__(self):\n",
    "        super(MLP, self).__init__()\n",
    "        self.fc = nn.Linear(2, 4)\n",
    "        self.fc2 = nn.Linear(4, 1)\n",
    "\n",
    "    def forward(self, x):\n",
    "        x = torch.sigmoid(self.fc(x))\n",
    "        return torch.sigmoid(self.fc2(x))"
   ]
  },
  {
   "cell_type": "code",
   "execution_count": 17,
   "metadata": {
    "colab": {
     "base_uri": "https://localhost:8080/"
    },
    "executionInfo": {
     "elapsed": 3,
     "status": "ok",
     "timestamp": 1688366376950,
     "user": {
      "displayName": "유인원",
      "userId": "12609834608015613726"
     },
     "user_tz": -540
    },
    "id": "WIckwoPcxbHu",
    "outputId": "d6a8fa21-9c8b-4fea-bea1-865e67cec129"
   },
   "outputs": [
    {
     "name": "stdout",
     "output_type": "stream",
     "text": [
      "MLP(\n",
      "  (fc): Linear(in_features=2, out_features=4, bias=True)\n",
      "  (fc2): Linear(in_features=4, out_features=1, bias=True)\n",
      ")\n"
     ]
    }
   ],
   "source": [
    "model2 = MLP()\n",
    "print(model2)\n",
    "# 손실 함수 및 최적화 도구 설정\n",
    "criterion2 = nn.BCELoss()\n",
    "optimizer2 = optim.SGD(model2.parameters(), lr=0.01)"
   ]
  },
  {
   "cell_type": "code",
   "execution_count": 18,
   "metadata": {
    "executionInfo": {
     "elapsed": 2,
     "status": "ok",
     "timestamp": 1688366377315,
     "user": {
      "displayName": "유인원",
      "userId": "12609834608015613726"
     },
     "user_tz": -540
    },
    "id": "dV7FGwM0HJfl"
   },
   "outputs": [],
   "source": [
    "# XOR 게이트 데이터\n",
    "x = torch.Tensor([[0,0], [0,1], [1,0], [1,1]])\n",
    "y = torch.Tensor([0, 1, 1, 0]).view(-1,1)"
   ]
  },
  {
   "cell_type": "code",
   "execution_count": 19,
   "metadata": {
    "colab": {
     "base_uri": "https://localhost:8080/"
    },
    "executionInfo": {
     "elapsed": 3,
     "status": "ok",
     "timestamp": 1688366377316,
     "user": {
      "displayName": "유인원",
      "userId": "12609834608015613726"
     },
     "user_tz": -540
    },
    "id": "F9lZR5Nixxt-",
    "outputId": "cc2a7f29-ddee-4794-f835-860dfab6e7ca"
   },
   "outputs": [
    {
     "name": "stdout",
     "output_type": "stream",
     "text": [
      "tensor([[0., 0.],\n",
      "        [0., 1.],\n",
      "        [1., 0.],\n",
      "        [1., 1.]])\n",
      "tensor([[0.],\n",
      "        [1.],\n",
      "        [1.],\n",
      "        [0.]])\n"
     ]
    }
   ],
   "source": [
    "print(x)\n",
    "print(y)"
   ]
  },
  {
   "cell_type": "code",
   "execution_count": 20,
   "metadata": {
    "colab": {
     "base_uri": "https://localhost:8080/"
    },
    "executionInfo": {
     "elapsed": 4141,
     "status": "ok",
     "timestamp": 1688366416347,
     "user": {
      "displayName": "유인원",
      "userId": "12609834608015613726"
     },
     "user_tz": -540
    },
    "id": "xM7QuJvhxz-z",
    "outputId": "fbc9470a-1e9d-4720-fea8-663eb5aef41e"
   },
   "outputs": [
    {
     "name": "stdout",
     "output_type": "stream",
     "text": [
      "Epoch:    0/100000 Cost: 0.761441\n",
      "Epoch: 1000/100000 Cost: 0.693139\n",
      "Epoch: 2000/100000 Cost: 0.693094\n",
      "Epoch: 3000/100000 Cost: 0.693066\n",
      "Epoch: 4000/100000 Cost: 0.693038\n",
      "Epoch: 5000/100000 Cost: 0.693009\n",
      "Epoch: 6000/100000 Cost: 0.692979\n",
      "Epoch: 7000/100000 Cost: 0.692948\n",
      "Epoch: 8000/100000 Cost: 0.692915\n",
      "Epoch: 9000/100000 Cost: 0.692880\n",
      "Epoch: 10000/100000 Cost: 0.692841\n",
      "Epoch: 11000/100000 Cost: 0.692798\n",
      "Epoch: 12000/100000 Cost: 0.692751\n",
      "Epoch: 13000/100000 Cost: 0.692698\n",
      "Epoch: 14000/100000 Cost: 0.692639\n",
      "Epoch: 15000/100000 Cost: 0.692571\n",
      "Epoch: 16000/100000 Cost: 0.692494\n",
      "Epoch: 17000/100000 Cost: 0.692405\n",
      "Epoch: 18000/100000 Cost: 0.692302\n",
      "Epoch: 19000/100000 Cost: 0.692182\n",
      "Epoch: 20000/100000 Cost: 0.692041\n",
      "Epoch: 21000/100000 Cost: 0.691876\n",
      "Epoch: 22000/100000 Cost: 0.691679\n",
      "Epoch: 23000/100000 Cost: 0.691445\n",
      "Epoch: 24000/100000 Cost: 0.691163\n",
      "Epoch: 25000/100000 Cost: 0.690823\n",
      "Epoch: 26000/100000 Cost: 0.690410\n",
      "Epoch: 27000/100000 Cost: 0.689905\n",
      "Epoch: 28000/100000 Cost: 0.689284\n",
      "Epoch: 29000/100000 Cost: 0.688517\n",
      "Epoch: 30000/100000 Cost: 0.687565\n",
      "Epoch: 31000/100000 Cost: 0.686380\n",
      "Epoch: 32000/100000 Cost: 0.684903\n",
      "Epoch: 33000/100000 Cost: 0.683064\n",
      "Epoch: 34000/100000 Cost: 0.680781\n",
      "Epoch: 35000/100000 Cost: 0.677968\n",
      "Epoch: 36000/100000 Cost: 0.674534\n",
      "Epoch: 37000/100000 Cost: 0.670399\n",
      "Epoch: 38000/100000 Cost: 0.665496\n",
      "Epoch: 39000/100000 Cost: 0.659788\n",
      "Epoch: 40000/100000 Cost: 0.653267\n",
      "Epoch: 41000/100000 Cost: 0.645958\n",
      "Epoch: 42000/100000 Cost: 0.637923\n",
      "Epoch: 43000/100000 Cost: 0.629253\n",
      "Epoch: 44000/100000 Cost: 0.620062\n",
      "Epoch: 45000/100000 Cost: 0.610476\n",
      "Epoch: 46000/100000 Cost: 0.600615\n",
      "Epoch: 47000/100000 Cost: 0.590565\n",
      "Epoch: 48000/100000 Cost: 0.580371\n",
      "Epoch: 49000/100000 Cost: 0.570020\n",
      "Epoch: 50000/100000 Cost: 0.559440\n",
      "Epoch: 51000/100000 Cost: 0.548509\n",
      "Epoch: 52000/100000 Cost: 0.537067\n",
      "Epoch: 53000/100000 Cost: 0.524927\n",
      "Epoch: 54000/100000 Cost: 0.511887\n",
      "Epoch: 55000/100000 Cost: 0.497736\n",
      "Epoch: 56000/100000 Cost: 0.482263\n",
      "Epoch: 57000/100000 Cost: 0.465286\n",
      "Epoch: 58000/100000 Cost: 0.446688\n",
      "Epoch: 59000/100000 Cost: 0.426479\n",
      "Epoch: 60000/100000 Cost: 0.404848\n",
      "Epoch: 61000/100000 Cost: 0.382166\n",
      "Epoch: 62000/100000 Cost: 0.358929\n",
      "Epoch: 63000/100000 Cost: 0.335656\n",
      "Epoch: 64000/100000 Cost: 0.312809\n",
      "Epoch: 65000/100000 Cost: 0.290735\n",
      "Epoch: 66000/100000 Cost: 0.269659\n",
      "Epoch: 67000/100000 Cost: 0.249697\n",
      "Epoch: 68000/100000 Cost: 0.230890\n",
      "Epoch: 69000/100000 Cost: 0.213234\n",
      "Epoch: 70000/100000 Cost: 0.196710\n",
      "Epoch: 71000/100000 Cost: 0.181295\n",
      "Epoch: 72000/100000 Cost: 0.166976\n",
      "Epoch: 73000/100000 Cost: 0.153741\n",
      "Epoch: 74000/100000 Cost: 0.141577\n",
      "Epoch: 75000/100000 Cost: 0.130459\n",
      "Epoch: 76000/100000 Cost: 0.120346\n",
      "Epoch: 77000/100000 Cost: 0.111185\n",
      "Epoch: 78000/100000 Cost: 0.102909\n",
      "Epoch: 79000/100000 Cost: 0.095446\n",
      "Epoch: 80000/100000 Cost: 0.088723\n",
      "Epoch: 81000/100000 Cost: 0.082665\n",
      "Epoch: 82000/100000 Cost: 0.077203\n",
      "Epoch: 83000/100000 Cost: 0.072272\n",
      "Epoch: 84000/100000 Cost: 0.067814\n",
      "Epoch: 85000/100000 Cost: 0.063777\n",
      "Epoch: 86000/100000 Cost: 0.060112\n",
      "Epoch: 87000/100000 Cost: 0.056778\n",
      "Epoch: 88000/100000 Cost: 0.053739\n",
      "Epoch: 89000/100000 Cost: 0.050962\n",
      "Epoch: 90000/100000 Cost: 0.048418\n",
      "Epoch: 91000/100000 Cost: 0.046083\n",
      "Epoch: 92000/100000 Cost: 0.043934\n",
      "Epoch: 93000/100000 Cost: 0.041953\n",
      "Epoch: 94000/100000 Cost: 0.040121\n",
      "Epoch: 95000/100000 Cost: 0.038425\n",
      "Epoch: 96000/100000 Cost: 0.036852\n",
      "Epoch: 97000/100000 Cost: 0.035389\n",
      "Epoch: 98000/100000 Cost: 0.034026\n",
      "Epoch: 99000/100000 Cost: 0.032754\n"
     ]
    }
   ],
   "source": [
    "# 학습 과정\n",
    "for epoch in range(100000):\n",
    "    optimizer2.zero_grad()\n",
    "    output = model2(x)\n",
    "    loss = criterion2(output, y)\n",
    "    loss.backward()\n",
    "    optimizer2.step()\n",
    "\n",
    "    if epoch % 1000 == 0:\n",
    "        print('Epoch: {:4d}/100000 Cost: {:.6f}'.format(\n",
    "            epoch, loss.item()\n",
    "        ))"
   ]
  },
  {
   "cell_type": "code",
   "execution_count": 21,
   "metadata": {
    "colab": {
     "base_uri": "https://localhost:8080/"
    },
    "executionInfo": {
     "elapsed": 3,
     "status": "ok",
     "timestamp": 1688366417940,
     "user": {
      "displayName": "유인원",
      "userId": "12609834608015613726"
     },
     "user_tz": -540
    },
    "id": "esVg-kS5x6-i",
    "outputId": "a7a19dba-9cba-4d16-8c1a-f0bccae5c77d"
   },
   "outputs": [
    {
     "name": "stdout",
     "output_type": "stream",
     "text": [
      "tensor([[1.],\n",
      "        [1.],\n",
      "        [0.]])\n"
     ]
    }
   ],
   "source": [
    "model2.eval()\n",
    "test = torch.Tensor([[0,1], [1,0], [1,1]])\n",
    "print(torch.round(model2(test)).detach())"
   ]
  },
  {
   "cell_type": "code",
   "execution_count": null,
   "metadata": {
    "executionInfo": {
     "elapsed": 342,
     "status": "ok",
     "timestamp": 1688365704156,
     "user": {
      "displayName": "유인원",
      "userId": "12609834608015613726"
     },
     "user_tz": -540
    },
    "id": "tUg1L4rdXXO2"
   },
   "outputs": [],
   "source": []
  }
 ],
 "metadata": {
  "colab": {
   "authorship_tag": "ABX9TyNf5/1IDZRVo25zkvkco7WP",
   "provenance": []
  },
  "kernelspec": {
   "display_name": "Python 3 (ipykernel)",
   "language": "python",
   "name": "python3"
  },
  "language_info": {
   "codemirror_mode": {
    "name": "ipython",
    "version": 3
   },
   "file_extension": ".py",
   "mimetype": "text/x-python",
   "name": "python",
   "nbconvert_exporter": "python",
   "pygments_lexer": "ipython3",
   "version": "3.11.3"
  }
 },
 "nbformat": 4,
 "nbformat_minor": 1
}
