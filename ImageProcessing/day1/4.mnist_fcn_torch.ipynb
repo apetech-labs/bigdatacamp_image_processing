{
 "cells": [
  {
   "cell_type": "code",
   "execution_count": null,
   "metadata": {
    "executionInfo": {
     "elapsed": 8259,
     "status": "ok",
     "timestamp": 1690972590248,
     "user": {
      "displayName": "유인원",
      "userId": "12609834608015613726"
     },
     "user_tz": -540
    },
    "id": "3tGHm8t8j2Wv"
   },
   "outputs": [],
   "source": [
    "import torch\n",
    "import torch.nn as nn\n",
    "import torchvision.datasets as datasets\n",
    "import torchvision.transforms as transforms\n",
    "from torch.utils.data import DataLoader"
   ]
  },
  {
   "cell_type": "code",
   "execution_count": null,
   "metadata": {
    "executionInfo": {
     "elapsed": 366,
     "status": "ok",
     "timestamp": 1690972651926,
     "user": {
      "displayName": "유인원",
      "userId": "12609834608015613726"
     },
     "user_tz": -540
    },
    "id": "ma_ThP6LkNeL"
   },
   "outputs": [],
   "source": [
    "train_dataset = datasets.MNIST(root='./data', train=True, transform=transforms.ToTensor(), download=True)\n",
    "test_dataset = datasets.MNIST(root='./data', train=False, transform=transforms.ToTensor())\n",
    "\n",
    "train_loader = DataLoader(dataset=train_dataset, batch_size=100, shuffle=True)\n",
    "test_loader = DataLoader(dataset=test_dataset, batch_size=100, shuffle=False)"
   ]
  },
  {
   "cell_type": "code",
   "execution_count": null,
   "metadata": {
    "colab": {
     "base_uri": "https://localhost:8080/"
    },
    "executionInfo": {
     "elapsed": 4,
     "status": "ok",
     "timestamp": 1690972652282,
     "user": {
      "displayName": "유인원",
      "userId": "12609834608015613726"
     },
     "user_tz": -540
    },
    "id": "eVKy7ygZftXW",
    "outputId": "56f8e9c0-f6d8-419b-da8a-67b4d0c2c47f"
   },
   "outputs": [],
   "source": [
    "print(train_dataset.data.shape, test_dataset.data.shape)"
   ]
  },
  {
   "cell_type": "code",
   "execution_count": null,
   "metadata": {
    "executionInfo": {
     "elapsed": 3,
     "status": "ok",
     "timestamp": 1690972652283,
     "user": {
      "displayName": "유인원",
      "userId": "12609834608015613726"
     },
     "user_tz": -540
    },
    "id": "M7JfnuTILq84"
   },
   "outputs": [],
   "source": [
    "import matplotlib.pyplot as plt"
   ]
  },
  {
   "cell_type": "code",
   "execution_count": null,
   "metadata": {
    "colab": {
     "base_uri": "https://localhost:8080/",
     "height": 430
    },
    "executionInfo": {
     "elapsed": 560,
     "status": "ok",
     "timestamp": 1690972652840,
     "user": {
      "displayName": "유인원",
      "userId": "12609834608015613726"
     },
     "user_tz": -540
    },
    "id": "Vz-NDDKxLtK0",
    "outputId": "3672ae8c-e967-476c-cc9b-39464199011e"
   },
   "outputs": [],
   "source": [
    "plt.imshow(train_dataset.data[25], 'gray')\n",
    "plt.show()"
   ]
  },
  {
   "cell_type": "code",
   "execution_count": null,
   "metadata": {
    "colab": {
     "base_uri": "https://localhost:8080/"
    },
    "executionInfo": {
     "elapsed": 3,
     "status": "ok",
     "timestamp": 1690972655179,
     "user": {
      "displayName": "유인원",
      "userId": "12609834608015613726"
     },
     "user_tz": -540
    },
    "id": "5vBxsnCJZtY2",
    "outputId": "cb49c0aa-d6fe-4aad-cc0b-1f55e3d97237"
   },
   "outputs": [],
   "source": [
    "train_dataset.data[25].shape"
   ]
  },
  {
   "cell_type": "code",
   "execution_count": null,
   "metadata": {
    "colab": {
     "base_uri": "https://localhost:8080/"
    },
    "executionInfo": {
     "elapsed": 2,
     "status": "ok",
     "timestamp": 1690972656542,
     "user": {
      "displayName": "유인원",
      "userId": "12609834608015613726"
     },
     "user_tz": -540
    },
    "id": "RnLycjI7L-Lz",
    "outputId": "d51be767-00d8-4a84-f51e-9cf6581e736a"
   },
   "outputs": [],
   "source": [
    "train_dataset.targets[25]"
   ]
  },
  {
   "cell_type": "code",
   "execution_count": null,
   "metadata": {
    "executionInfo": {
     "elapsed": 2,
     "status": "ok",
     "timestamp": 1690972660003,
     "user": {
      "displayName": "유인원",
      "userId": "12609834608015613726"
     },
     "user_tz": -540
    },
    "id": "O1yU1E6EqIXG"
   },
   "outputs": [],
   "source": [
    "import torch"
   ]
  },
  {
   "cell_type": "code",
   "execution_count": null,
   "metadata": {
    "executionInfo": {
     "elapsed": 519,
     "status": "ok",
     "timestamp": 1690972667385,
     "user": {
      "displayName": "유인원",
      "userId": "12609834608015613726"
     },
     "user_tz": -540
    },
    "id": "NRc5h9JKP0Wq"
   },
   "outputs": [],
   "source": [
    "import torch.nn as nn\n",
    "import torch.optim as optim"
   ]
  },
  {
   "cell_type": "code",
   "execution_count": null,
   "metadata": {
    "executionInfo": {
     "elapsed": 2,
     "status": "ok",
     "timestamp": 1690972669764,
     "user": {
      "displayName": "유인원",
      "userId": "12609834608015613726"
     },
     "user_tz": -540
    },
    "id": "i5AI66hrP4MO"
   },
   "outputs": [],
   "source": [
    "import torch.nn.functional as F"
   ]
  },
  {
   "cell_type": "code",
   "execution_count": null,
   "metadata": {
    "executionInfo": {
     "elapsed": 2,
     "status": "ok",
     "timestamp": 1690972671236,
     "user": {
      "displayName": "유인원",
      "userId": "12609834608015613726"
     },
     "user_tz": -540
    },
    "id": "8kJtOWGCq236"
   },
   "outputs": [],
   "source": [
    "class FCN(nn.Module):\n",
    "\n",
    "  def __init__(self, in_sz, out_sz, layers=[120, 84]):\n",
    "    super().__init__()\n",
    "    self.fc1 = nn.Linear(in_sz, layers[0])\n",
    "    self.fc2 = nn.Linear(layers[0], layers[1])\n",
    "    self.fc3 = nn.Linear(layers[1], out_sz)\n",
    "\n",
    "  def forward(self, x):\n",
    "    x = F.relu(self.fc1(x))\n",
    "    x = F.relu(self.fc2(x))\n",
    "    x = self.fc3(x)\n",
    "    return x"
   ]
  },
  {
   "cell_type": "code",
   "execution_count": null,
   "metadata": {
    "colab": {
     "base_uri": "https://localhost:8080/"
    },
    "executionInfo": {
     "elapsed": 3,
     "status": "ok",
     "timestamp": 1690972672252,
     "user": {
      "displayName": "유인원",
      "userId": "12609834608015613726"
     },
     "user_tz": -540
    },
    "id": "RMO-TZHJtI_L",
    "outputId": "14afdf71-aa31-47f2-d9da-f2057eb91398"
   },
   "outputs": [],
   "source": [
    "model = FCN(784, 10)\n",
    "model"
   ]
  },
  {
   "cell_type": "code",
   "execution_count": null,
   "metadata": {
    "executionInfo": {
     "elapsed": 1,
     "status": "ok",
     "timestamp": 1690972674956,
     "user": {
      "displayName": "유인원",
      "userId": "12609834608015613726"
     },
     "user_tz": -540
    },
    "id": "wd3zsXEQtXut"
   },
   "outputs": [],
   "source": [
    "criterion = nn.CrossEntropyLoss()\n",
    "optimizer = torch.optim.Adam(model.parameters(), lr=0.001)"
   ]
  },
  {
   "cell_type": "code",
   "execution_count": null,
   "metadata": {
    "executionInfo": {
     "elapsed": 1,
     "status": "ok",
     "timestamp": 1690972675474,
     "user": {
      "displayName": "유인원",
      "userId": "12609834608015613726"
     },
     "user_tz": -540
    },
    "id": "zHYUBx6DtkY2"
   },
   "outputs": [],
   "source": [
    "device = torch.device(\"cuda:0\" if torch.cuda.is_available() else \"cpu\")\n",
    "model = model.to(device)"
   ]
  },
  {
   "cell_type": "code",
   "execution_count": null,
   "metadata": {
    "colab": {
     "base_uri": "https://localhost:8080/"
    },
    "executionInfo": {
     "elapsed": 10786,
     "status": "ok",
     "timestamp": 1690972818065,
     "user": {
      "displayName": "유인원",
      "userId": "12609834608015613726"
     },
     "user_tz": -540
    },
    "id": "SeesqaP_t6nj",
    "outputId": "5746731b-539f-417b-a40c-ee23b697eff0"
   },
   "outputs": [],
   "source": [
    "num_epochs = 1\n",
    "for epoch  in range(num_epochs):\n",
    "  tst_corr = 0\n",
    "  model.train()\n",
    "  for i, (images, labels) in enumerate(train_loader):\n",
    "      images = images.reshape(-1, 28*28)\n",
    "\n",
    "      # Forward pass\n",
    "      outputs = model(images)\n",
    "      loss = criterion(outputs, labels)\n",
    "\n",
    "      # Backward and optimize\n",
    "      optimizer.zero_grad()\n",
    "      loss.backward()\n",
    "      optimizer.step()\n",
    "      # --\n",
    "      if (i+1) % 100 == 0:\n",
    "              print(f'Epoch [{epoch+1}/{num_epochs}], Step [{i+1}/{len(train_loader)}], Loss: {loss.item():.4f}')\n",
    "\n",
    "  # 테스트\n",
    "  with torch.no_grad():\n",
    "    correct = 0\n",
    "    total = 0\n",
    "    for images, labels in test_loader:\n",
    "        images = images.reshape(-1, 28*28)\n",
    "        outputs = model(images)\n",
    "        _, predicted = torch.max(outputs.data, 1)\n",
    "        total += labels.size(0)\n",
    "        correct += (predicted == labels).sum().item()\n",
    "\n",
    "    print(f'Accuracy of the model on the 10000 test images: {100 * correct / total} %')\n",
    "\n"
   ]
  },
  {
   "cell_type": "code",
   "execution_count": null,
   "metadata": {
    "colab": {
     "base_uri": "https://localhost:8080/"
    },
    "executionInfo": {
     "elapsed": 2,
     "status": "ok",
     "timestamp": 1690973078775,
     "user": {
      "displayName": "유인원",
      "userId": "12609834608015613726"
     },
     "user_tz": -540
    },
    "id": "83z1GxwP2NXU",
    "outputId": "89cd7057-b647-4d84-87fd-614e2142f73e"
   },
   "outputs": [],
   "source": [
    "tmp = iter(test_loader)\n",
    "images, labels = next(tmp)\n",
    "print(images.shape)"
   ]
  },
  {
   "cell_type": "code",
   "execution_count": null,
   "metadata": {
    "executionInfo": {
     "elapsed": 2,
     "status": "ok",
     "timestamp": 1690973104226,
     "user": {
      "displayName": "유인원",
      "userId": "12609834608015613726"
     },
     "user_tz": -540
    },
    "id": "O5abeQ_q2OzG"
   },
   "outputs": [],
   "source": [
    "import numpy as np\n",
    "with torch.no_grad():\n",
    "  model.to('cpu')\n",
    "  model.eval()\n",
    "  y_pred = model(images.reshape(-1, 28*28))\n",
    "  y_pred2 = np.argmax(y_pred.numpy(), axis=1)\n",
    "  y = labels"
   ]
  },
  {
   "cell_type": "code",
   "execution_count": null,
   "metadata": {
    "colab": {
     "base_uri": "https://localhost:8080/"
    },
    "executionInfo": {
     "elapsed": 395,
     "status": "ok",
     "timestamp": 1690973108633,
     "user": {
      "displayName": "유인원",
      "userId": "12609834608015613726"
     },
     "user_tz": -540
    },
    "id": "L5cEaiMIyTPB",
    "outputId": "c95de26a-3729-419b-864b-eca3f9f49bb7"
   },
   "outputs": [],
   "source": [
    "print(y.shape)"
   ]
  },
  {
   "cell_type": "code",
   "execution_count": null,
   "metadata": {
    "id": "QcuPq_7ixHXW"
   },
   "outputs": [],
   "source": [
    "# 3행 3열 9 개 데이터만 시각화, title에 정답, 예측값 표시. 이미지 형식 (28, 28)로 reshape 필요\n",
    "# 행 : 5, 열 : 20 한 배치 데이터를 시각화, title에 정답, 예측값 표시 이미지 형식(28, 28,) 유의"
   ]
  },
  {
   "cell_type": "code",
   "execution_count": null,
   "metadata": {
    "executionInfo": {
     "elapsed": 2,
     "status": "ok",
     "timestamp": 1690973114448,
     "user": {
      "displayName": "유인원",
      "userId": "12609834608015613726"
     },
     "user_tz": -540
    },
    "id": "QWiKTsGT2dn2"
   },
   "outputs": [],
   "source": [
    "def display_test(x, y, y_pred):\n",
    "  plt_r = 5\n",
    "  plt_c = 20\n",
    "\n",
    "  plt.figure(figsize=(15, 5))\n",
    "\n",
    "  for y_pos in range(plt_r):\n",
    "    for x_pos in range(plt_c):\n",
    "      idx = y_pos*plt_c + x_pos\n",
    "\n",
    "      plt.subplot(plt_r, plt_c, idx+1)\n",
    "\n",
    "      prt = '[%d, %d]' % (y[idx], y_pred[idx])\n",
    "      plt.title(prt)\n",
    "      plt.imshow(x[idx].reshape(28,28), 'gray')\n",
    "\n",
    "      ax = plt.gca()\n",
    "      ax.axes.xaxis.set_visible(False)\n",
    "      ax.axes.yaxis.set_visible(False)\n",
    "\n",
    "  plt.show()\n"
   ]
  },
  {
   "cell_type": "code",
   "execution_count": null,
   "metadata": {
    "colab": {
     "base_uri": "https://localhost:8080/",
     "height": 426
    },
    "executionInfo": {
     "elapsed": 5271,
     "status": "ok",
     "timestamp": 1690973132862,
     "user": {
      "displayName": "유인원",
      "userId": "12609834608015613726"
     },
     "user_tz": -540
    },
    "id": "QOf2lfYf4Rlo",
    "outputId": "25664b95-9d23-4a50-bd40-89b1ed41428c"
   },
   "outputs": [],
   "source": [
    "display_test(images, y, y_pred2)"
   ]
  },
  {
   "cell_type": "code",
   "execution_count": null,
   "metadata": {
    "id": "R1Q3tpX34yy7"
   },
   "outputs": [],
   "source": [
    "\n"
   ]
  },
  {
   "cell_type": "code",
   "execution_count": null,
   "metadata": {
    "id": "B1avsXK8NSDk"
   },
   "outputs": [],
   "source": []
  }
 ],
 "metadata": {
  "colab": {
   "authorship_tag": "ABX9TyMfbpPjv51KHDgwU8LqraPC",
   "provenance": []
  },
  "gpuClass": "standard",
  "kernelspec": {
   "display_name": "Python 3 (ipykernel)",
   "language": "python",
   "name": "python3"
  },
  "language_info": {
   "codemirror_mode": {
    "name": "ipython",
    "version": 3
   },
   "file_extension": ".py",
   "mimetype": "text/x-python",
   "name": "python",
   "nbconvert_exporter": "python",
   "pygments_lexer": "ipython3",
   "version": "3.11.3"
  }
 },
 "nbformat": 4,
 "nbformat_minor": 1
}
