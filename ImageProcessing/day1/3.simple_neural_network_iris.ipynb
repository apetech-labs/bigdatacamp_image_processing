{
 "cells": [
  {
   "cell_type": "code",
   "execution_count": null,
   "metadata": {},
   "outputs": [],
   "source": [
    "# scikit learn install\n",
    "!pip install scikit-learn"
   ]
  },
  {
   "cell_type": "code",
   "execution_count": null,
   "metadata": {
    "executionInfo": {
     "elapsed": 1126,
     "status": "ok",
     "timestamp": 1689563055748,
     "user": {
      "displayName": "유인원",
      "userId": "12609834608015613726"
     },
     "user_tz": -540
    },
    "id": "PRmU4fH-XcOl"
   },
   "outputs": [],
   "source": [
    "import torch\n",
    "import torch.nn as nn\n",
    "import torch.optim as optim\n",
    "from sklearn.datasets import load_iris\n",
    "from sklearn.model_selection import train_test_split\n",
    "from sklearn.preprocessing import StandardScaler\n",
    "\n",
    "import numpy as np"
   ]
  },
  {
   "cell_type": "code",
   "execution_count": null,
   "metadata": {
    "executionInfo": {
     "elapsed": 13,
     "status": "ok",
     "timestamp": 1689563056624,
     "user": {
      "displayName": "유인원",
      "userId": "12609834608015613726"
     },
     "user_tz": -540
    },
    "id": "04ivJZQCXuS8"
   },
   "outputs": [],
   "source": [
    "iris = load_iris()\n",
    "x = iris.data\n",
    "y = iris.target\n",
    "\n",
    "# 붓꽃의 꽃받침과 꽃잎의 [길이, 너비]에 대한 값 -> 붓꽃의 종류 setosa / versicolor / virginica\n",
    "print(x.shape, y.shape)"
   ]
  },
  {
   "cell_type": "code",
   "execution_count": null,
   "metadata": {},
   "outputs": [],
   "source": [
    "def norm_maxmin(data, out_min=0, out_max=255):\n",
    "    \n",
    "    gradient = (out_max - out_min) / (np.max(data) - np.min(data))\n",
    "    bias = out_min - np.min(data) * gradient\n",
    "    out = data * gradient + bias\n",
    "\n",
    "    return out"
   ]
  },
  {
   "cell_type": "code",
   "execution_count": null,
   "metadata": {},
   "outputs": [],
   "source": [
    "for it_col in range(x.shape[1]):\n",
    "    x[:, it_col] = norm_maxmin(x[:, it_col], 0, 255)"
   ]
  },
  {
   "cell_type": "code",
   "execution_count": null,
   "metadata": {
    "executionInfo": {
     "elapsed": 10,
     "status": "ok",
     "timestamp": 1689563056626,
     "user": {
      "displayName": "유인원",
      "userId": "12609834608015613726"
     },
     "user_tz": -540
    },
    "id": "XqLdOfFVZp9i"
   },
   "outputs": [],
   "source": [
    "x_train, x_test, y_train, y_test = train_test_split(x, y, test_size=0.1)\n",
    "\n",
    "print(x_train.shape, x_test.shape, y_train.shape, y_test.shape)"
   ]
  },
  {
   "cell_type": "code",
   "execution_count": null,
   "metadata": {
    "executionInfo": {
     "elapsed": 9,
     "status": "ok",
     "timestamp": 1689563056626,
     "user": {
      "displayName": "유인원",
      "userId": "12609834608015613726"
     },
     "user_tz": -540
    },
    "id": "n0TmkCi2ZSTu"
   },
   "outputs": [],
   "source": [
    "x_train = x_train.reshape(-1, 15, 4)\n",
    "y_train = y_train.reshape(-1, 15)\n",
    "\n",
    "print(x_train.shape, x_test.shape, y_train.shape, y_test.shape)"
   ]
  },
  {
   "cell_type": "code",
   "execution_count": null,
   "metadata": {
    "executionInfo": {
     "elapsed": 9,
     "status": "ok",
     "timestamp": 1689563056627,
     "user": {
      "displayName": "유인원",
      "userId": "12609834608015613726"
     },
     "user_tz": -540
    },
    "id": "QWa-7gSjaIG8"
   },
   "outputs": [],
   "source": [
    "x_train = torch.FloatTensor(x_train)\n",
    "y_train = torch.LongTensor(y_train)\n",
    "x_test = torch.FloatTensor(x_test)\n",
    "y_test = torch.LongTensor(y_test)"
   ]
  },
  {
   "cell_type": "code",
   "execution_count": null,
   "metadata": {
    "executionInfo": {
     "elapsed": 9,
     "status": "ok",
     "timestamp": 1689563056627,
     "user": {
      "displayName": "유인원",
      "userId": "12609834608015613726"
     },
     "user_tz": -540
    },
    "id": "zQ3mvUa3baTN"
   },
   "outputs": [],
   "source": [
    "class FCN(nn.Module):\n",
    "    def __init__(self, input_dim, num_classes):\n",
    "        super(FCN, self).__init__()\n",
    "        self.fc = nn.Linear(input_dim, 16)\n",
    "        self.relu = nn.ReLU(inplace=True)\n",
    "        self.fc2 = nn.Linear(16, 8)\n",
    "        self.relu2 = nn.ReLU(inplace=True)\n",
    "        self.fc3 = nn.Linear(8, num_classes)\n",
    "        self.relu3 = nn.ReLU(inplace=True)\n",
    "\n",
    "    def forward(self, x):\n",
    "        x = self.relu(self.fc(x))\n",
    "        x = self.relu2(self.fc2(x))\n",
    "        x = self.relu3(self.fc3(x))        \n",
    "        return x"
   ]
  },
  {
   "cell_type": "code",
   "execution_count": null,
   "metadata": {
    "colab": {
     "base_uri": "https://localhost:8080/"
    },
    "executionInfo": {
     "elapsed": 6,
     "status": "ok",
     "timestamp": 1689563056627,
     "user": {
      "displayName": "유인원",
      "userId": "12609834608015613726"
     },
     "user_tz": -540
    },
    "id": "97tfPmH1bzNg",
    "outputId": "5b858831-35d6-4a2d-b8c2-e684d600f5ab"
   },
   "outputs": [],
   "source": [
    "model = FCN(input_dim=x_train.shape[2], num_classes=3)\n",
    "print(model)\n",
    "\n",
    "criterion = nn.CrossEntropyLoss()\n",
    "optimizer = optim.Adam(model.parameters(), lr=1e-3)"
   ]
  },
  {
   "cell_type": "code",
   "execution_count": null,
   "metadata": {
    "colab": {
     "base_uri": "https://localhost:8080/"
    },
    "executionInfo": {
     "elapsed": 39239,
     "status": "ok",
     "timestamp": 1689563095861,
     "user": {
      "displayName": "유인원",
      "userId": "12609834608015613726"
     },
     "user_tz": -540
    },
    "id": "g6aEMNtrc2p4",
    "outputId": "6f19e5b7-0e17-4f74-ee78-74ca3df0413a"
   },
   "outputs": [],
   "source": [
    "epochs = 10000\n",
    "for e in range(epochs):\n",
    "    for b in range(len(x_train)):\n",
    "        outputs = model(x_train[b])\n",
    "        loss = criterion(outputs, y_train[b])\n",
    "        optimizer.zero_grad()\n",
    "        loss.backward()\n",
    "        optimizer.step()\n",
    "\n",
    "    if (e+1) % 1000 == 0:\n",
    "        print(f'Epoch {e + 1} / {epochs}, Loss : {loss.item()}')\n",
    "        with torch.no_grad():\n",
    "\n",
    "            model.eval()\n",
    "\n",
    "            correct = 0\n",
    "            total = 0\n",
    "            outputs = model(x_test)\n",
    "            _, predicted = torch.max(outputs.data, 1)\n",
    "            total += y_test.size(0)\n",
    "            correct += (predicted == y_test).sum().item()\n",
    "            print('Accuracy of the model on test data: {} %'.format(100 * correct / total))\n",
    "        model.train()"
   ]
  },
  {
   "cell_type": "code",
   "execution_count": null,
   "metadata": {},
   "outputs": [],
   "source": []
  },
  {
   "cell_type": "code",
   "execution_count": null,
   "metadata": {
    "colab": {
     "base_uri": "https://localhost:8080/"
    },
    "executionInfo": {
     "elapsed": 13,
     "status": "ok",
     "timestamp": 1689563095862,
     "user": {
      "displayName": "유인원",
      "userId": "12609834608015613726"
     },
     "user_tz": -540
    },
    "id": "RTE2Sedseh6I",
    "outputId": "4004258c-beee-4600-95b8-a48ca533c96a"
   },
   "outputs": [],
   "source": [
    "# 테스트\n",
    "with torch.no_grad():\n",
    "\n",
    "    model.eval()\n",
    "\n",
    "    correct = 0\n",
    "    total = 0\n",
    "    outputs = model(x_test)\n",
    "    _, predicted = torch.max(outputs.data, 1)\n",
    "    total += y_test.size(0)\n",
    "    correct += (predicted == y_test).sum().item()\n",
    "    print('Accuracy of the model on test data: {} %'.format(100 * correct / total))\n"
   ]
  },
  {
   "cell_type": "code",
   "execution_count": null,
   "metadata": {
    "executionInfo": {
     "elapsed": 12,
     "status": "ok",
     "timestamp": 1689563095862,
     "user": {
      "displayName": "유인원",
      "userId": "12609834608015613726"
     },
     "user_tz": -540
    },
    "id": "K81BF1s1gbKn"
   },
   "outputs": [],
   "source": []
  }
 ],
 "metadata": {
  "accelerator": "GPU",
  "colab": {
   "authorship_tag": "ABX9TyOVJe4dYjBBltKZ+aeh8Hji",
   "gpuType": "T4",
   "provenance": []
  },
  "kernelspec": {
   "display_name": "Python 3 (ipykernel)",
   "language": "python",
   "name": "python3"
  },
  "language_info": {
   "codemirror_mode": {
    "name": "ipython",
    "version": 3
   },
   "file_extension": ".py",
   "mimetype": "text/x-python",
   "name": "python",
   "nbconvert_exporter": "python",
   "pygments_lexer": "ipython3",
   "version": "3.11.3"
  }
 },
 "nbformat": 4,
 "nbformat_minor": 1
}
