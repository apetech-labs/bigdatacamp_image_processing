{
 "cells": [
  {
   "cell_type": "code",
   "execution_count": null,
   "metadata": {
    "id": "3tGHm8t8j2Wv"
   },
   "outputs": [],
   "source": [
    "import numpy as np\n",
    "# from keras.datasets import mnist"
   ]
  },
  {
   "cell_type": "code",
   "execution_count": null,
   "metadata": {
    "id": "zw17UsSVnCnW"
   },
   "outputs": [],
   "source": [
    "# 이미지 내부 값, 구조 ppt 추가, 컬러/흑백 이미지 구조 설명 추가\n",
    "# subplot 사용법, 기초 이미지 데이터 다루는 방법"
   ]
  },
  {
   "cell_type": "code",
   "execution_count": null,
   "metadata": {
    "colab": {
     "base_uri": "https://localhost:8080/"
    },
    "executionInfo": {
     "elapsed": 547,
     "status": "ok",
     "timestamp": 1688536192979,
     "user": {
      "displayName": "유인원",
      "userId": "12609834608015613726"
     },
     "user_tz": -540
    },
    "id": "ma_ThP6LkNeL",
    "outputId": "abbb1dc0-7c5e-4acf-90ef-f432ef333fc5"
   },
   "outputs": [],
   "source": [
    "(x_train, y_train), (x_test, y_test) = mnist.load_data()"
   ]
  },
  {
   "cell_type": "code",
   "execution_count": null,
   "metadata": {
    "colab": {
     "base_uri": "https://localhost:8080/"
    },
    "executionInfo": {
     "elapsed": 5,
     "status": "ok",
     "timestamp": 1688536192980,
     "user": {
      "displayName": "유인원",
      "userId": "12609834608015613726"
     },
     "user_tz": -540
    },
    "id": "eVKy7ygZftXW",
    "outputId": "392c2a59-8f5f-47db-bfb1-9ab8f3d1ff38"
   },
   "outputs": [],
   "source": [
    "print(x_train.shape, x_test.shape, y_train.shape, y_test.shape)"
   ]
  },
  {
   "cell_type": "code",
   "execution_count": null,
   "metadata": {
    "id": "M7JfnuTILq84"
   },
   "outputs": [],
   "source": [
    "import matplotlib.pyplot as plt"
   ]
  },
  {
   "cell_type": "code",
   "execution_count": null,
   "metadata": {
    "colab": {
     "base_uri": "https://localhost:8080/",
     "height": 430
    },
    "executionInfo": {
     "elapsed": 549,
     "status": "ok",
     "timestamp": 1688536193526,
     "user": {
      "displayName": "유인원",
      "userId": "12609834608015613726"
     },
     "user_tz": -540
    },
    "id": "Vz-NDDKxLtK0",
    "outputId": "3cf08312-9d3c-4c86-f8c7-f22d94ffe538"
   },
   "outputs": [],
   "source": [
    "plt.imshow(x_train[25], 'gray')\n",
    "plt.show()"
   ]
  },
  {
   "cell_type": "code",
   "execution_count": null,
   "metadata": {
    "colab": {
     "base_uri": "https://localhost:8080/"
    },
    "executionInfo": {
     "elapsed": 12,
     "status": "ok",
     "timestamp": 1688536193526,
     "user": {
      "displayName": "유인원",
      "userId": "12609834608015613726"
     },
     "user_tz": -540
    },
    "id": "5vBxsnCJZtY2",
    "outputId": "5bbc451f-5a9a-44c8-bf7e-184f9e08da79"
   },
   "outputs": [],
   "source": [
    "x_train[25].shape"
   ]
  },
  {
   "cell_type": "code",
   "execution_count": null,
   "metadata": {
    "colab": {
     "base_uri": "https://localhost:8080/"
    },
    "executionInfo": {
     "elapsed": 11,
     "status": "ok",
     "timestamp": 1688536193527,
     "user": {
      "displayName": "유인원",
      "userId": "12609834608015613726"
     },
     "user_tz": -540
    },
    "id": "RnLycjI7L-Lz",
    "outputId": "b3b0342a-8bdb-4689-909a-58e6af257bc7"
   },
   "outputs": [],
   "source": [
    "y_train[25]"
   ]
  },
  {
   "cell_type": "code",
   "execution_count": null,
   "metadata": {
    "colab": {
     "base_uri": "https://localhost:8080/"
    },
    "executionInfo": {
     "elapsed": 9,
     "status": "ok",
     "timestamp": 1688536193527,
     "user": {
      "displayName": "유인원",
      "userId": "12609834608015613726"
     },
     "user_tz": -540
    },
    "id": "ohMGZaTik_-x",
    "outputId": "e76cfd91-3fb9-4f0b-b72d-756ff6288773"
   },
   "outputs": [],
   "source": [
    "reshape = 784\n",
    "x_train = x_train.reshape(60000, reshape)\n",
    "x_test = x_test.reshape(10000, reshape)\n",
    "x_train = x_train.astype('float64') / 255\n",
    "x_test = x_test.astype('float64') / 255\n",
    "\n",
    "print(x_train.shape, x_test.shape)"
   ]
  },
  {
   "cell_type": "code",
   "execution_count": null,
   "metadata": {
    "id": "ZpoeYEWBlQya"
   },
   "outputs": [],
   "source": [
    "# encoding = np.eye(10)[y_train]\n",
    "# print(encoding[0:3])"
   ]
  },
  {
   "cell_type": "code",
   "execution_count": null,
   "metadata": {
    "id": "cyjazYy5ox5D"
   },
   "outputs": [],
   "source": [
    "y_train_ecd = np.eye(10)[y_train]\n",
    "y_test_ecd = np.eye(10)[y_test]"
   ]
  },
  {
   "cell_type": "code",
   "execution_count": null,
   "metadata": {
    "colab": {
     "base_uri": "https://localhost:8080/"
    },
    "executionInfo": {
     "elapsed": 8,
     "status": "ok",
     "timestamp": 1688536193528,
     "user": {
      "displayName": "유인원",
      "userId": "12609834608015613726"
     },
     "user_tz": -540
    },
    "id": "i9eaQ22EpQOi",
    "outputId": "cb8f819d-cb37-4f38-b6ab-db19ab4f81c0"
   },
   "outputs": [],
   "source": [
    "print(x_train.shape, x_test.shape, '/', y_train_ecd.shape, y_test_ecd.shape)\n",
    "# print(x_train.shape, x_test.shape, '/', y_train.shape, y_test.shape)"
   ]
  },
  {
   "cell_type": "code",
   "execution_count": null,
   "metadata": {
    "colab": {
     "base_uri": "https://localhost:8080/"
    },
    "executionInfo": {
     "elapsed": 7,
     "status": "ok",
     "timestamp": 1688536193528,
     "user": {
      "displayName": "유인원",
      "userId": "12609834608015613726"
     },
     "user_tz": -540
    },
    "id": "yLs1D1IBpfpZ",
    "outputId": "672fdddf-243a-451f-c9cf-a865a4694b09"
   },
   "outputs": [],
   "source": [
    "batch_size = 100\n",
    "\n",
    "x_train = x_train.reshape(-1, batch_size, 784)\n",
    "x_test = x_test.reshape(-1, batch_size, 784)\n",
    "y_train_ecd = y_train_ecd.reshape(600, -1, 10)\n",
    "y_test_ecd = y_test_ecd.reshape(100, -1, 10)\n",
    "# y_train = y_train.reshape(-1, batch_size, 1)\n",
    "# y_test = y_test.reshape(-1, batch_size, 1)\n",
    "\n",
    "print(x_train.shape, x_test.shape, '/', y_train_ecd.shape, y_test_ecd.shape)\n",
    "# print(x_train.shape, x_test.shape, '/', y_train.shape, y_test.shape)"
   ]
  },
  {
   "cell_type": "code",
   "execution_count": null,
   "metadata": {
    "id": "O1yU1E6EqIXG"
   },
   "outputs": [],
   "source": [
    "import torch"
   ]
  },
  {
   "cell_type": "code",
   "execution_count": null,
   "metadata": {
    "colab": {
     "base_uri": "https://localhost:8080/"
    },
    "executionInfo": {
     "elapsed": 439,
     "status": "ok",
     "timestamp": 1688536205362,
     "user": {
      "displayName": "유인원",
      "userId": "12609834608015613726"
     },
     "user_tz": -540
    },
    "id": "7J9OORJLqsLg",
    "outputId": "3afc10ac-240a-485a-cc35-89c8c1e7083a"
   },
   "outputs": [],
   "source": [
    "x_trainT = torch.Tensor(x_train)\n",
    "x_testT = torch.Tensor(x_test)\n",
    "y_trainT = torch.Tensor(y_train_ecd)\n",
    "y_testT = torch.Tensor(y_test_ecd)\n",
    "# y_trainT = torch.Tensor(y_train)\n",
    "# y_testT = torch.Tensor(y_test)\n",
    "\n",
    "print(type(x_train), type(x_trainT))"
   ]
  },
  {
   "cell_type": "code",
   "execution_count": null,
   "metadata": {
    "id": "Yjj19xcJNpyu"
   },
   "outputs": [],
   "source": [
    "# 네트워크 구조 ppt에서 보여주면 좋을듯\n",
    "# cross_entropy, one hot encoding"
   ]
  },
  {
   "cell_type": "code",
   "execution_count": null,
   "metadata": {
    "id": "NRc5h9JKP0Wq"
   },
   "outputs": [],
   "source": [
    "import torch.nn as nn\n",
    "import torch.optim as optim"
   ]
  },
  {
   "cell_type": "code",
   "execution_count": null,
   "metadata": {
    "id": "Xyb7Sm3YsMLq"
   },
   "outputs": [],
   "source": [
    "# 모델 만들고 학습까지 시켜보기"
   ]
  },
  {
   "cell_type": "code",
   "execution_count": null,
   "metadata": {
    "id": "i5AI66hrP4MO"
   },
   "outputs": [],
   "source": [
    "import torch.nn.functional as F"
   ]
  },
  {
   "cell_type": "code",
   "execution_count": null,
   "metadata": {
    "id": "8kJtOWGCq236"
   },
   "outputs": [],
   "source": [
    "class FCN(nn.Module):\n",
    "\n",
    "    def __init__(self, in_sz, out_sz, layers=[120, 84]):\n",
    "        super().__init__()\n",
    "        self.fc1 = nn.Linear(in_sz, layers[0])\n",
    "        self.fc2 = nn.Linear(layers[0], layers[1])\n",
    "        self.fc3 = nn.Linear(layers[1], out_sz)\n",
    "\n",
    "    def forward(self, x):\n",
    "        x = F.relu(self.fc1(x))\n",
    "        x = F.relu(self.fc2(x))\n",
    "        x = self.fc3(x)\n",
    "    return x"
   ]
  },
  {
   "cell_type": "code",
   "execution_count": null,
   "metadata": {
    "colab": {
     "base_uri": "https://localhost:8080/"
    },
    "executionInfo": {
     "elapsed": 2,
     "status": "ok",
     "timestamp": 1688536726487,
     "user": {
      "displayName": "유인원",
      "userId": "12609834608015613726"
     },
     "user_tz": -540
    },
    "id": "RMO-TZHJtI_L",
    "outputId": "fa49e7df-c08d-41b3-ab65-72ba26ef58c2"
   },
   "outputs": [],
   "source": [
    "model = FCN(784, 10)\n",
    "model"
   ]
  },
  {
   "cell_type": "code",
   "execution_count": null,
   "metadata": {
    "id": "wd3zsXEQtXut"
   },
   "outputs": [],
   "source": [
    "criterion = nn.CrossEntropyLoss()\n",
    "optimizer = torch.optim.Adam(model.parameters(), lr=0.001)"
   ]
  },
  {
   "cell_type": "code",
   "execution_count": null,
   "metadata": {
    "id": "zHYUBx6DtkY2"
   },
   "outputs": [],
   "source": [
    "device = torch.device(\"cuda:0\" if torch.cuda.is_available() else \"cpu\")\n",
    "model = model.to(device)"
   ]
  },
  {
   "cell_type": "code",
   "execution_count": null,
   "metadata": {
    "colab": {
     "base_uri": "https://localhost:8080/"
    },
    "executionInfo": {
     "elapsed": 1682,
     "status": "ok",
     "timestamp": 1688536731403,
     "user": {
      "displayName": "유인원",
      "userId": "12609834608015613726"
     },
     "user_tz": -540
    },
    "id": "SeesqaP_t6nj",
    "outputId": "f5fc6fa9-04ba-4092-ff1e-8e44da8ecd32"
   },
   "outputs": [],
   "source": [
    "epochs = 1\n",
    "for i in range(epochs):\n",
    "  tst_corr = 0\n",
    "  model.train()\n",
    "  for b in range(len(x_trainT)):\n",
    "    data = x_trainT[b].to(device)\n",
    "    truth_ = y_trainT[b].to(device)\n",
    "    y_pred = model(data)\n",
    "\n",
    "    loss = criterion(y_pred, truth_)\n",
    "    optimizer.zero_grad()\n",
    "    loss.backward()\n",
    "    optimizer.step()\n",
    "    # --\n",
    "\n",
    "  with torch.no_grad():\n",
    "    model.eval()\n",
    "    for b in range(len(x_testT)):\n",
    "      data = x_testT[b].to(device)\n",
    "      truth = y_testT[b].to(device)\n",
    "      y_val = model(data)\n",
    "\n",
    "      t1 = torch.argmax(y_val, dim=1)\n",
    "      t2 = torch.argmax(truth, dim=1)\n",
    "      tst_corr += (t1 == t2).sum() / len(y_val) * 1.0\n",
    "\n",
    "      # print(torch.round(truth), torch.round(y_val))\n",
    "      # tst_corr += torch.sum(torch.round(truth) == torch.round(y_val)) / len(y_val) * 1.0\n",
    "\n",
    "    loss = criterion(y_val, truth)\n",
    "    print('test loss : ', loss.item())\n",
    "    print('test acc : ', tst_corr.item() * 100 / len(x_testT), '%')\n",
    "\n"
   ]
  },
  {
   "cell_type": "code",
   "execution_count": null,
   "metadata": {
    "id": "O5abeQ_q2OzG"
   },
   "outputs": [],
   "source": [
    "with torch.no_grad():\n",
    "  # random_sample = np.random.randint(x_test.shape[0])\n",
    "  # y_pred = model(torch.Tensor(x_test[random_sample]))\n",
    "  model.eval()\n",
    "  y_pred = model(torch.Tensor(x_test[0]))\n",
    "  y_pred2 = np.argmax(y_pred.numpy(), axis=1)\n",
    "  # y_test 원본 데이터는 배치사이즈 적용 x\n",
    "  y = y_test.reshape(100, -1, 1)[0]"
   ]
  },
  {
   "cell_type": "code",
   "execution_count": null,
   "metadata": {
    "colab": {
     "base_uri": "https://localhost:8080/"
    },
    "executionInfo": {
     "elapsed": 13,
     "status": "ok",
     "timestamp": 1688463220910,
     "user": {
      "displayName": "유인원",
      "userId": "12609834608015613726"
     },
     "user_tz": -540
    },
    "id": "L5cEaiMIyTPB",
    "outputId": "a9b70e52-cb51-4cb2-d314-2cbc1f27232d"
   },
   "outputs": [],
   "source": [
    "print(y.shape)"
   ]
  },
  {
   "cell_type": "code",
   "execution_count": null,
   "metadata": {
    "id": "QcuPq_7ixHXW"
   },
   "outputs": [],
   "source": [
    "# 행 : 5, 열 : 20 한 배치 데이터를 시각화, title에 정답, 예측값 표시 이미지 형식(28, 28,) 유의"
   ]
  },
  {
   "cell_type": "code",
   "execution_count": null,
   "metadata": {
    "id": "QWiKTsGT2dn2"
   },
   "outputs": [],
   "source": [
    "def display_test(x, y, y_pred):\n",
    "  plt_r = 5\n",
    "  plt_c = 20\n",
    "\n",
    "  plt.figure(figsize=(15, 5))\n",
    "\n",
    "  for y_pos in range(plt_r):\n",
    "    for x_pos in range(plt_c):\n",
    "      idx = y_pos*plt_c + x_pos\n",
    "\n",
    "      plt.subplot(plt_r, plt_c, idx+1)\n",
    "\n",
    "      prt = '[%d, %d]' % (y[idx], y_pred[idx])\n",
    "      plt.title(prt)\n",
    "      plt.imshow(x[idx].reshape(28,28), 'gray')\n",
    "\n",
    "      ax = plt.gca()\n",
    "      ax.axes.xaxis.set_visible(False)\n",
    "      ax.axes.yaxis.set_visible(False)\n",
    "\n",
    "  plt.show()\n"
   ]
  },
  {
   "cell_type": "code",
   "execution_count": null,
   "metadata": {
    "colab": {
     "base_uri": "https://localhost:8080/",
     "height": 426
    },
    "executionInfo": {
     "elapsed": 4355,
     "status": "ok",
     "timestamp": 1688463225254,
     "user": {
      "displayName": "유인원",
      "userId": "12609834608015613726"
     },
     "user_tz": -540
    },
    "id": "QOf2lfYf4Rlo",
    "outputId": "399f2622-4b97-425e-bea2-f4df1d6d02da"
   },
   "outputs": [],
   "source": [
    "display_test(x_test[0], y, y_pred2)"
   ]
  },
  {
   "cell_type": "code",
   "execution_count": null,
   "metadata": {
    "id": "R1Q3tpX34yy7"
   },
   "outputs": [],
   "source": [
    "\n"
   ]
  },
  {
   "cell_type": "code",
   "execution_count": null,
   "metadata": {
    "id": "B1avsXK8NSDk"
   },
   "outputs": [],
   "source": []
  }
 ],
 "metadata": {
  "colab": {
   "authorship_tag": "ABX9TyMgugnX+57C9KwAK8NbN4ww",
   "provenance": []
  },
  "gpuClass": "standard",
  "kernelspec": {
   "display_name": "Python 3 (ipykernel)",
   "language": "python",
   "name": "python3"
  },
  "language_info": {
   "codemirror_mode": {
    "name": "ipython",
    "version": 3
   },
   "file_extension": ".py",
   "mimetype": "text/x-python",
   "name": "python",
   "nbconvert_exporter": "python",
   "pygments_lexer": "ipython3",
   "version": "3.11.3"
  }
 },
 "nbformat": 4,
 "nbformat_minor": 1
}
