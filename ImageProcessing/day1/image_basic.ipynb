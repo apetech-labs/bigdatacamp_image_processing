{
 "cells": [
  {
   "cell_type": "code",
   "execution_count": null,
   "metadata": {
    "executionInfo": {
     "elapsed": 864,
     "status": "ok",
     "timestamp": 1688549498904,
     "user": {
      "displayName": "유인원",
      "userId": "12609834608015613726"
     },
     "user_tz": -540
    },
    "id": "uZD0_gilyatU"
   },
   "outputs": [],
   "source": [
    "import matplotlib.pyplot as plt\n",
    "import numpy as np"
   ]
  },
  {
   "cell_type": "code",
   "execution_count": null,
   "metadata": {
    "executionInfo": {
     "elapsed": 342,
     "status": "ok",
     "timestamp": 1688549603831,
     "user": {
      "displayName": "유인원",
      "userId": "12609834608015613726"
     },
     "user_tz": -540
    },
    "id": "nFkfUCYBzpQS"
   },
   "outputs": [],
   "source": [
    "# 이미지 불러오기 및 전처리\n",
    "# img = Image.open('그림1.jpg')\n",
    "img = plt.imread('../data/img/dog1.jpg')\n",
    "img_ary = np.array(img)"
   ]
  },
  {
   "cell_type": "code",
   "execution_count": null,
   "metadata": {},
   "outputs": [],
   "source": [
    "img_ary.shape"
   ]
  },
  {
   "cell_type": "code",
   "execution_count": null,
   "metadata": {
    "colab": {
     "base_uri": "https://localhost:8080/",
     "height": 467
    },
    "executionInfo": {
     "elapsed": 1338,
     "status": "ok",
     "timestamp": 1688549606271,
     "user": {
      "displayName": "유인원",
      "userId": "12609834608015613726"
     },
     "user_tz": -540
    },
    "id": "3OTb2eHwz4Gw",
    "outputId": "cf2fdc75-8043-48e7-93c2-7cb044eb1951"
   },
   "outputs": [],
   "source": [
    "plt.figure(figsize=(8,5))\n",
    "plt.imshow(img_ary)\n",
    "plt.show"
   ]
  },
  {
   "cell_type": "code",
   "execution_count": null,
   "metadata": {
    "colab": {
     "base_uri": "https://localhost:8080/"
    },
    "executionInfo": {
     "elapsed": 353,
     "status": "ok",
     "timestamp": 1688549615500,
     "user": {
      "displayName": "유인원",
      "userId": "12609834608015613726"
     },
     "user_tz": -540
    },
    "id": "kack0Je-0BKP",
    "outputId": "7f6abdd2-4f7f-43fc-da28-d448104d382f"
   },
   "outputs": [],
   "source": [
    "print(img_ary.shape)"
   ]
  },
  {
   "cell_type": "code",
   "execution_count": null,
   "metadata": {
    "executionInfo": {
     "elapsed": 513,
     "status": "ok",
     "timestamp": 1688549612210,
     "user": {
      "displayName": "유인원",
      "userId": "12609834608015613726"
     },
     "user_tz": -540
    },
    "id": "rm03Fnbg0q0M"
   },
   "outputs": [],
   "source": [
    "img2 = Image.open('그림1.jpg').convert('L')\n",
    "img_ary2 = np.array(img2)"
   ]
  },
  {
   "cell_type": "code",
   "execution_count": null,
   "metadata": {
    "colab": {
     "base_uri": "https://localhost:8080/",
     "height": 467
    },
    "executionInfo": {
     "elapsed": 1473,
     "status": "ok",
     "timestamp": 1688549618499,
     "user": {
      "displayName": "유인원",
      "userId": "12609834608015613726"
     },
     "user_tz": -540
    },
    "id": "FNmpd-Yj840O",
    "outputId": "7fc35b4a-9470-4671-d9ae-7c52710b93c8"
   },
   "outputs": [],
   "source": [
    "plt.figure(figsize=(8,5))\n",
    "plt.imshow(img_ary2, 'gray')\n",
    "plt.show"
   ]
  },
  {
   "cell_type": "code",
   "execution_count": null,
   "metadata": {
    "colab": {
     "base_uri": "https://localhost:8080/"
    },
    "executionInfo": {
     "elapsed": 2,
     "status": "ok",
     "timestamp": 1688549620030,
     "user": {
      "displayName": "유인원",
      "userId": "12609834608015613726"
     },
     "user_tz": -540
    },
    "id": "PBHaprg586k5",
    "outputId": "7eeb3f05-10b9-4bd6-c4ca-96b8bcbc1417"
   },
   "outputs": [],
   "source": [
    "print(img_ary2.shape)"
   ]
  },
  {
   "cell_type": "code",
   "execution_count": null,
   "metadata": {
    "id": "3q0G9ZGZ0f69"
   },
   "outputs": [],
   "source": [
    "# 이미지 불러오기 및 전처리\n",
    "img3 = Image.open('그림3.jpg')\n",
    "img_ary3 = np.array(img3)"
   ]
  },
  {
   "cell_type": "code",
   "execution_count": null,
   "metadata": {
    "colab": {
     "base_uri": "https://localhost:8080/",
     "height": 467
    },
    "executionInfo": {
     "elapsed": 1066,
     "status": "ok",
     "timestamp": 1688455070216,
     "user": {
      "displayName": "유인원",
      "userId": "12609834608015613726"
     },
     "user_tz": -540
    },
    "id": "rDA7wbNT0mcF",
    "outputId": "f135340e-adb2-4643-e4ad-b9fee399f9ca"
   },
   "outputs": [],
   "source": [
    "plt.figure(figsize=(8,5))\n",
    "plt.imshow(img_ary3, 'gray')\n",
    "plt.show"
   ]
  },
  {
   "cell_type": "code",
   "execution_count": null,
   "metadata": {
    "colab": {
     "base_uri": "https://localhost:8080/"
    },
    "executionInfo": {
     "elapsed": 7,
     "status": "ok",
     "timestamp": 1688455070216,
     "user": {
      "displayName": "유인원",
      "userId": "12609834608015613726"
     },
     "user_tz": -540
    },
    "id": "IyhULOag0rlq",
    "outputId": "0ae1e0aa-6fb8-4318-c97d-3873fc3710f9"
   },
   "outputs": [],
   "source": [
    "print(img_ary3.shape)"
   ]
  },
  {
   "cell_type": "code",
   "execution_count": null,
   "metadata": {
    "colab": {
     "base_uri": "https://localhost:8080/",
     "height": 716
    },
    "executionInfo": {
     "elapsed": 1837,
     "status": "ok",
     "timestamp": 1688455094531,
     "user": {
      "displayName": "유인원",
      "userId": "12609834608015613726"
     },
     "user_tz": -540
    },
    "id": "9_9C0GH289XL",
    "outputId": "83cd9984-caf6-4d90-a222-dc2e229255ca"
   },
   "outputs": [],
   "source": [
    "plt.figure(figsize=(5, 8))\n",
    "plt.subplot(2, 1, 1)\n",
    "title_text = 'color'\n",
    "plt.title(title_text)\n",
    "plt.imshow(img_ary)\n",
    "plt.subplot(2, 1, 2)\n",
    "title_text = 'gray'\n",
    "plt.title(title_text)\n",
    "plt.imshow(img_ary2, 'gray')\n",
    "plt.show"
   ]
  },
  {
   "cell_type": "code",
   "execution_count": null,
   "metadata": {
    "colab": {
     "base_uri": "https://localhost:8080/",
     "height": 252
    },
    "executionInfo": {
     "elapsed": 1434,
     "status": "ok",
     "timestamp": 1688455101830,
     "user": {
      "displayName": "유인원",
      "userId": "12609834608015613726"
     },
     "user_tz": -540
    },
    "id": "eqrIhjBYSPdO",
    "outputId": "000baf4d-f570-40e2-a809-a15be3be772f"
   },
   "outputs": [],
   "source": [
    "plt.subplot(1, 2, 1)\n",
    "plt.imshow(img_ary)\n",
    "plt.subplot(1, 2, 2)\n",
    "plt.imshow(img_ary2, 'gray')\n",
    "plt.show"
   ]
  },
  {
   "cell_type": "code",
   "execution_count": null,
   "metadata": {
    "colab": {
     "base_uri": "https://localhost:8080/"
    },
    "executionInfo": {
     "elapsed": 6,
     "status": "ok",
     "timestamp": 1688455101830,
     "user": {
      "displayName": "유인원",
      "userId": "12609834608015613726"
     },
     "user_tz": -540
    },
    "id": "ta43iOX6SVEV",
    "outputId": "7a53c726-2da7-4304-a34e-f18f2e43d9a8"
   },
   "outputs": [],
   "source": [
    "print(img_ary2)"
   ]
  },
  {
   "cell_type": "code",
   "execution_count": null,
   "metadata": {
    "colab": {
     "base_uri": "https://localhost:8080/"
    },
    "executionInfo": {
     "elapsed": 5,
     "status": "ok",
     "timestamp": 1688455101831,
     "user": {
      "displayName": "유인원",
      "userId": "12609834608015613726"
     },
     "user_tz": -540
    },
    "id": "EdohMB-oLCaP",
    "outputId": "3420846f-be89-4c02-d308-40bb93b723ac"
   },
   "outputs": [],
   "source": [
    "print(img_ary)"
   ]
  },
  {
   "cell_type": "code",
   "execution_count": null,
   "metadata": {
    "id": "mxuGlrXxtaUe"
   },
   "outputs": [],
   "source": []
  }
 ],
 "metadata": {
  "colab": {
   "authorship_tag": "ABX9TyPq1cOkkLOsgeD8JNHFTjqS",
   "provenance": [
    {
     "file_id": "1_5qLyVAwqjOhlU-UZdQjGqfm0JmgfRn7",
     "timestamp": 1688021216954
    }
   ]
  },
  "kernelspec": {
   "display_name": "Python 3 (ipykernel)",
   "language": "python",
   "name": "python3"
  },
  "language_info": {
   "codemirror_mode": {
    "name": "ipython",
    "version": 3
   },
   "file_extension": ".py",
   "mimetype": "text/x-python",
   "name": "python",
   "nbconvert_exporter": "python",
   "pygments_lexer": "ipython3",
   "version": "3.11.3"
  }
 },
 "nbformat": 4,
 "nbformat_minor": 1
}
