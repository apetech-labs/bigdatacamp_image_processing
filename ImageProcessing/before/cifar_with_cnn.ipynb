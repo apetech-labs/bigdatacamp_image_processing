{
 "cells": [
  {
   "cell_type": "code",
   "execution_count": null,
   "metadata": {
    "executionInfo": {
     "elapsed": 6885,
     "status": "ok",
     "timestamp": 1680569628881,
     "user": {
      "displayName": "유인원",
      "userId": "12609834608015613726"
     },
     "user_tz": -540
    },
    "id": "Emn63rUOhdRr"
   },
   "outputs": [],
   "source": [
    "import torch\n",
    "import torchvision\n",
    "import torchvision.transforms as transforms"
   ]
  },
  {
   "cell_type": "markdown",
   "metadata": {
    "id": "HjlMT-0_XS-V"
   },
   "source": []
  },
  {
   "cell_type": "code",
   "execution_count": null,
   "metadata": {
    "colab": {
     "base_uri": "https://localhost:8080/"
    },
    "executionInfo": {
     "elapsed": 21,
     "status": "ok",
     "timestamp": 1680569628883,
     "user": {
      "displayName": "유인원",
      "userId": "12609834608015613726"
     },
     "user_tz": -540
    },
    "id": "gI5zEouqvyps",
    "outputId": "76fd7324-f1e4-40c6-e5f3-1579150a7b47"
   },
   "outputs": [],
   "source": [
    "device = torch.device('cuda:0' if torch.cuda.is_available() else 'cpu')\n",
    "\n",
    "# CUDA 기기가 존재한다면, 아래 코드가 CUDA 장치를 출력합니다:\n",
    "\n",
    "print(device)"
   ]
  },
  {
   "cell_type": "code",
   "execution_count": null,
   "metadata": {
    "colab": {
     "base_uri": "https://localhost:8080/"
    },
    "executionInfo": {
     "elapsed": 10809,
     "status": "ok",
     "timestamp": 1680569639682,
     "user": {
      "displayName": "유인원",
      "userId": "12609834608015613726"
     },
     "user_tz": -540
    },
    "id": "m-yWmClXq765",
    "outputId": "8d76d587-5442-4f92-9dfd-8a49c7eb7743"
   },
   "outputs": [],
   "source": [
    "transform = transforms.Compose(\n",
    "    [transforms.ToTensor(),\n",
    "     transforms.Normalize((0.5, 0.5, 0.5), (0.5, 0.5, 0.5))]) #-1~1\n",
    "\n",
    "batch_size = 256\n",
    "\n",
    "trainset = torchvision.datasets.CIFAR10(root='./data', train=True,\n",
    "                                        download=True, transform=transform)\n",
    "trainloader = torch.utils.data.DataLoader(trainset, batch_size=batch_size,\n",
    "                                          shuffle=True, num_workers=12)\n",
    "\n",
    "testset = torchvision.datasets.CIFAR10(root='./data', train=False,\n",
    "                                       download=True, transform=transform)\n",
    "testloader = torch.utils.data.DataLoader(testset, batch_size=batch_size,\n",
    "                                         shuffle=True, num_workers=2)\n",
    "\n",
    "classes = ('plane', 'car', 'bird', 'cat',\n",
    "           'deer', 'dog', 'frog', 'horse', 'ship', 'truck')"
   ]
  },
  {
   "cell_type": "code",
   "execution_count": null,
   "metadata": {
    "colab": {
     "base_uri": "https://localhost:8080/"
    },
    "executionInfo": {
     "elapsed": 36,
     "status": "ok",
     "timestamp": 1680569639682,
     "user": {
      "displayName": "유인원",
      "userId": "12609834608015613726"
     },
     "user_tz": -540
    },
    "id": "iosaePLW_Qmv",
    "outputId": "10abbaa0-96ef-4931-af91-ace159a63d93"
   },
   "outputs": [],
   "source": [
    "trainset2 = iter(trainset)\n",
    "images, labels = next(trainset2)\n",
    "print(len(trainset), images.shape, labels)\n",
    "print(trainset[0][0].shape)"
   ]
  },
  {
   "cell_type": "markdown",
   "metadata": {
    "id": "uUKvISy4DkGG"
   },
   "source": [
    "print(len(trainloader))\n",
    "\n",
    "for idx, data in enumerate(trainloader):\n",
    "  print(data[1][0])\n",
    "  data[1][0] = -111\n",
    "  print(data[1][0])\n",
    "  break\n",
    "for idx, data in enumerate(trainloader):\n",
    "  print(data[1])\n",
    "  break\n",
    "for images, labels in trainloader:\n",
    "  print(len(trainloader), images.shape, labels)\n",
    "  break\n",
    "for images, labels in trainloader:\n",
    "  pass\n",
    "print(images.shape, labels.shape)"
   ]
  },
  {
   "cell_type": "code",
   "execution_count": null,
   "metadata": {
    "executionInfo": {
     "elapsed": 29,
     "status": "ok",
     "timestamp": 1680569639683,
     "user": {
      "displayName": "유인원",
      "userId": "12609834608015613726"
     },
     "user_tz": -540
    },
    "id": "iBE43PLOrGRQ"
   },
   "outputs": [],
   "source": [
    "import matplotlib.pyplot as plt\n",
    "import numpy as np"
   ]
  },
  {
   "cell_type": "code",
   "execution_count": null,
   "metadata": {
    "executionInfo": {
     "elapsed": 27,
     "status": "ok",
     "timestamp": 1680569639683,
     "user": {
      "displayName": "유인원",
      "userId": "12609834608015613726"
     },
     "user_tz": -540
    },
    "id": "X5F7FI_3rNHB"
   },
   "outputs": [],
   "source": [
    "import torch.nn as nn\n",
    "import torch.nn.functional as F\n",
    "import torchsummary\n",
    "class SimpleCNN(nn.Module):\n",
    "    def __init__(self):\n",
    "        super(SimpleCNN, self).__init__()\n",
    "        self.name = \"SimpleCNN\"\n",
    "        self.conv_layer = nn.Sequential(\n",
    "            # nn.Conv2d(in_channels=3, out_channels=8, kernel_size=(3, 3)),\n",
    "            nn.Conv2d(in_channels=3, out_channels=8, kernel_size=(3, 3)),            \n",
    "            nn.ReLU(inplace=True),\n",
    "            # nn.Conv2d(in_channels=8, out_channels=16, kernel_size=(3, 3), stride=2),\n",
    "            nn.Conv2d(in_channels=8, out_channels=16, kernel_size=(3, 3)),\n",
    "            nn.ReLU(inplace=True),\n",
    "            nn.MaxPool2d(kernel_size=2, stride=2), # subsampling\n",
    "            \n",
    "            # nn.Conv2d(in_channels=16, out_channels=32, kernel_size=(3, 3)),\n",
    "            nn.Conv2d(in_channels=16, out_channels=32, kernel_size=(3, 3)),\n",
    "            nn.ReLU(inplace=True),\n",
    "            # nn.Conv2d(in_channels=32, out_channels=32, kernel_size=(3, 3), stride=2),\n",
    "            nn.Conv2d(in_channels=32, out_channels=32, kernel_size=(3, 3)),\n",
    "            nn.ReLU(inplace=True),\n",
    "            nn.MaxPool2d(kernel_size=2, stride=2),\n",
    "        )\n",
    "        self.fc_layer = nn.Sequential(\n",
    "            nn.Dropout(p = 0.5),\n",
    "            nn.Linear(32*5*5, 64),\n",
    "            nn.ReLU(inplace=True),\n",
    "\n",
    "            nn.Linear(64, 32),\n",
    "            nn.ReLU(inplace=True),\n",
    "            \n",
    "            nn.Linear(32, 10)\n",
    "        )\n",
    "     \n",
    "\n",
    "    def forward(self, x):\n",
    "        x = self.conv_layer(x)\n",
    "        x = x.view(-1, 32*5*5)\n",
    "        x = self.fc_layer(x)\n",
    "        return x"
   ]
  },
  {
   "cell_type": "code",
   "execution_count": null,
   "metadata": {
    "colab": {
     "base_uri": "https://localhost:8080/"
    },
    "executionInfo": {
     "elapsed": 13544,
     "status": "ok",
     "timestamp": 1680569653201,
     "user": {
      "displayName": "유인원",
      "userId": "12609834608015613726"
     },
     "user_tz": -540
    },
    "id": "DHHc8mUE6CGB",
    "outputId": "3e1b21bb-5408-44c5-adc5-a2093c83d4e1"
   },
   "outputs": [],
   "source": [
    "model = SimpleCNN()\n",
    "model = model.to(device)\n",
    "torchsummary.summary(model, input_size=(3, 32, 32), device='cuda')"
   ]
  },
  {
   "cell_type": "code",
   "execution_count": null,
   "metadata": {
    "executionInfo": {
     "elapsed": 9,
     "status": "ok",
     "timestamp": 1680569653202,
     "user": {
      "displayName": "유인원",
      "userId": "12609834608015613726"
     },
     "user_tz": -540
    },
    "id": "jsL4XGDSrP7K"
   },
   "outputs": [],
   "source": [
    "import torch.optim as optim\n",
    "\n",
    "criterion = nn.CrossEntropyLoss()\n",
    "optimizer = optim.Adam(model.parameters(), lr=0.001)"
   ]
  },
  {
   "cell_type": "code",
   "execution_count": null,
   "metadata": {
    "executionInfo": {
     "elapsed": 7,
     "status": "ok",
     "timestamp": 1680569653202,
     "user": {
      "displayName": "유인원",
      "userId": "12609834608015613726"
     },
     "user_tz": -540
    },
    "id": "Ac79zpbmaoxP"
   },
   "outputs": [],
   "source": [
    "def test_accuracy(model, testloader):\n",
    "    correct = 0\n",
    "    total = 0\n",
    "    # 학습 중이 아니므로, 출력에 대한 변화도를 계산할 필요가 없습니다\n",
    "    with torch.no_grad():\n",
    "        model.eval()\n",
    "        for data in testloader:\n",
    "            images, labels = data[0].to(device), data[1].to(device)\n",
    "            # 신경망에 이미지를 통과시켜 출력을 계산합니다\n",
    "            outputs = model(images)\n",
    "            # 가장 높은 값(energy)를 갖는 분류(class)를 정답으로 선택하겠습니다\n",
    "            _, predicted = torch.max(outputs.data, 1)\n",
    "            total += labels.size(0)\n",
    "            correct += (predicted == labels).sum().item()\n",
    "    model.train()\n",
    "    print(f'Accuracy of the network on the 10000 test images: {100 * correct // total} %')"
   ]
  },
  {
   "cell_type": "code",
   "execution_count": null,
   "metadata": {
    "colab": {
     "base_uri": "https://localhost:8080/",
     "height": 1000
    },
    "executionInfo": {
     "elapsed": 320393,
     "status": "error",
     "timestamp": 1680569973589,
     "user": {
      "displayName": "유인원",
      "userId": "12609834608015613726"
     },
     "user_tz": -540
    },
    "id": "u2QAn8sqrR-Y",
    "outputId": "c646ac21-79c1-4239-c02a-d15041225246"
   },
   "outputs": [],
   "source": [
    "model.train()\n",
    "for epoch in range(50):   # 데이터셋을 수차례 반복합니다.\n",
    "\n",
    "    running_loss = 0.0\n",
    "    for i, data in enumerate(trainloader, 0):\n",
    "        # [inputs, labels]의 목록인 data로부터 입력을 받은 후;\n",
    "\n",
    "\n",
    "        # 변화도(Gradient) 매개변수를 0으로 만들고\n",
    "        optimizer.zero_grad()\n",
    "        # one hot encoding\n",
    "        inputs, labels = data\n",
    "\n",
    "        inputs = inputs.to(device)\n",
    "        labels = torch.Tensor(np.eye(10)[labels]).to(device)\n",
    "        \n",
    "        # 순전파 + 역전파 + 최적화를 한 후\n",
    "        outputs = model(inputs)\n",
    "        loss = criterion(outputs, labels)\n",
    "        loss.backward()\n",
    "        optimizer.step()\n",
    "\n",
    "        # 통계를 출력합니다.\n",
    "        running_loss += loss.item()\n",
    "        if i % 30 == 29:\n",
    "            # print(outputs.shape, labels.shape)\n",
    "            print(f'[{epoch + 1}, {i + 1:5d}] loss: {running_loss / 30:.3f}')\n",
    "            running_loss = 0.0\n",
    "    test_accuracy(model, testloader)\n",
    "print('Finished Training')"
   ]
  },
  {
   "cell_type": "code",
   "execution_count": null,
   "metadata": {
    "colab": {
     "base_uri": "https://localhost:8080/"
    },
    "executionInfo": {
     "elapsed": 3218,
     "status": "ok",
     "timestamp": 1680569981391,
     "user": {
      "displayName": "유인원",
      "userId": "12609834608015613726"
     },
     "user_tz": -540
    },
    "id": "XJc29aPcuv4Q",
    "outputId": "1aed822f-faea-4415-dbf4-a0fff805d823"
   },
   "outputs": [],
   "source": [
    "# 각 분류(class)에 대한 예측값 계산을 위해 준비\n",
    "correct_pred = {classname: 0 for classname in classes}\n",
    "total_pred = {classname: 0 for classname in classes}\n",
    "\n",
    "# 변화도는 여전히 필요하지 않습니다\n",
    "with torch.no_grad():\n",
    "    model.eval()\n",
    "    for data in testloader:\n",
    "        images, labels = data[0].to(device), data[1].to(device)\n",
    "        outputs = model(images)\n",
    "        _, predictions = torch.max(outputs, 1)\n",
    "        # 각 분류별로 올바른 예측 수를 모읍니다\n",
    "        for label, prediction in zip(labels, predictions):\n",
    "            if label == prediction:\n",
    "                correct_pred[classes[label]] += 1\n",
    "            total_pred[classes[label]] += 1\n",
    "\n",
    "\n",
    "# 각 분류별 정확도(accuracy)를 출력합니다\n",
    "for classname, correct_count in correct_pred.items():\n",
    "    accuracy = 100 * float(correct_count) / total_pred[classname]\n",
    "    print(f'Accuracy for class: {classname:5s} is {accuracy:.1f} %')"
   ]
  },
  {
   "cell_type": "code",
   "execution_count": null,
   "metadata": {
    "executionInfo": {
     "elapsed": 458,
     "status": "ok",
     "timestamp": 1680569981841,
     "user": {
      "displayName": "유인원",
      "userId": "12609834608015613726"
     },
     "user_tz": -540
    },
    "id": "T0B0yiyX7NF-"
   },
   "outputs": [],
   "source": [
    "dataiter = iter(testloader)\n",
    "images, labels = next(dataiter)"
   ]
  },
  {
   "cell_type": "code",
   "execution_count": null,
   "metadata": {
    "executionInfo": {
     "elapsed": 5,
     "status": "ok",
     "timestamp": 1680569981841,
     "user": {
      "displayName": "유인원",
      "userId": "12609834608015613726"
     },
     "user_tz": -540
    },
    "id": "LSWhtC0n7NoE"
   },
   "outputs": [],
   "source": [
    "import matplotlib.pyplot as plt\n",
    "\n",
    "with torch.no_grad():\n",
    "    \n",
    "    model.to('cpu')\n",
    "    model.eval()\n",
    "    y_pred = model(images)\n",
    "    y_pred = np.argmax(y_pred.detach().numpy(), axis=1)\n",
    "    y = labels.detach().numpy()\n",
    "    "
   ]
  },
  {
   "cell_type": "code",
   "execution_count": null,
   "metadata": {
    "executionInfo": {
     "elapsed": 6,
     "status": "ok",
     "timestamp": 1680569981842,
     "user": {
      "displayName": "유인원",
      "userId": "12609834608015613726"
     },
     "user_tz": -540
    },
    "id": "OYN2Uv2n7Pu6"
   },
   "outputs": [],
   "source": [
    "def display_test(x, y, y_pred):\n",
    "    plt_w = 10\n",
    "    plt_h = int(np.round(x.shape[0] / plt_w))\n",
    "\n",
    "    plt.figure(figsize=(18,18))\n",
    "\n",
    "    for y_pos in range(plt_h):\n",
    "        for x_pos in range(plt_w):\n",
    "            idx = y_pos * plt_w + x_pos\n",
    "            if idx >= x.shape[0] :\n",
    "                break\n",
    "\n",
    "            plt.subplot(plt_w, plt_h, idx+1)\n",
    "\n",
    "            prt = '[%s, %s]' % (classes[y[idx]], classes[y_pred[idx]])\n",
    "            plt.title(prt)\n",
    "            plt.imshow(x[idx])\n",
    "\n",
    "            ax = plt.gca()\n",
    "            ax.axes.xaxis.set_visible(False)\n",
    "            ax.axes.yaxis.set_visible(False)\n",
    "\n",
    "    plt.show()"
   ]
  },
  {
   "cell_type": "code",
   "execution_count": null,
   "metadata": {
    "executionInfo": {
     "elapsed": 6,
     "status": "ok",
     "timestamp": 1680569982289,
     "user": {
      "displayName": "유인원",
      "userId": "12609834608015613726"
     },
     "user_tz": -540
    },
    "id": "YJRLrYRP7Rja"
   },
   "outputs": [],
   "source": [
    "images = images.numpy().transpose(0, 2, 3, 1) / 2 + 0.5 "
   ]
  },
  {
   "cell_type": "code",
   "execution_count": null,
   "metadata": {
    "colab": {
     "base_uri": "https://localhost:8080/",
     "height": 1000
    },
    "executionInfo": {
     "elapsed": 2790,
     "status": "ok",
     "timestamp": 1680569985377,
     "user": {
      "displayName": "유인원",
      "userId": "12609834608015613726"
     },
     "user_tz": -540
    },
    "id": "J4SylAhT7Sjj",
    "outputId": "3237cf2c-29a5-454b-9468-ba9456d66330"
   },
   "outputs": [],
   "source": [
    "display_test(images[:60], y[:60], y_pred[:60])"
   ]
  },
  {
   "cell_type": "code",
   "execution_count": null,
   "metadata": {
    "executionInfo": {
     "elapsed": 3,
     "status": "aborted",
     "timestamp": 1680569973916,
     "user": {
      "displayName": "유인원",
      "userId": "12609834608015613726"
     },
     "user_tz": -540
    },
    "id": "4qQuVjMT8yW7"
   },
   "outputs": [],
   "source": []
  }
 ],
 "metadata": {
  "accelerator": "GPU",
  "colab": {
   "authorship_tag": "ABX9TyPrbHZcfWoHybzOXPC35yq3",
   "provenance": []
  },
  "gpuClass": "standard",
  "kernelspec": {
   "display_name": "Python 3 (ipykernel)",
   "language": "python",
   "name": "python3"
  },
  "language_info": {
   "codemirror_mode": {
    "name": "ipython",
    "version": 3
   },
   "file_extension": ".py",
   "mimetype": "text/x-python",
   "name": "python",
   "nbconvert_exporter": "python",
   "pygments_lexer": "ipython3",
   "version": "3.11.3"
  }
 },
 "nbformat": 4,
 "nbformat_minor": 1
}
